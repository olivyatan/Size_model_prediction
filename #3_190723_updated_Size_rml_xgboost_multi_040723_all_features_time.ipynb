{
 "cells": [
  {
   "cell_type": "code",
   "execution_count": 2,
   "id": "037b0401-4aba-4f20-83a0-58916c352cea",
   "metadata": {},
   "outputs": [],
   "source": [
    "import pandas as pd\n",
    "import os\n",
    "import xgboost as xgb\n",
    "import numpy as np\n",
    "\n",
    "from sklearn.model_selection import train_test_split,  GroupShuffleSplit\n",
    "from sklearn.metrics import average_precision_score, auc, roc_curve, f1_score, precision_recall_curve\n",
    "from sklearn.linear_model import LogisticRegression\n",
    "\n",
    "from matplotlib import pyplot as plt \n",
    "%matplotlib inline\n",
    "\n",
    "import pandas as pd\n",
    "import numpy as np\n",
    "import re\n"
   ]
  },
  {
   "cell_type": "markdown",
   "id": "b29ca434-55dc-4471-9c1c-ec923a67148d",
   "metadata": {},
   "source": [
    "### Read trainig data of 3 months data of leakag removal trx date > src sizes data "
   ]
  },
  {
   "cell_type": "raw",
   "id": "b528c937-217c-448c-9e6f-82919d5dedef",
   "metadata": {},
   "source": [
    "merge_size_label=pd.read_pickle('/data/ebay/data/olivyatan/size_data/merge_label_4features_per user_22.4.23.pkl')"
   ]
  },
  {
   "cell_type": "raw",
   "id": "77df9d86-2516-48f2-a52e-a867dfbf5246",
   "metadata": {},
   "source": [
    "merge_size_label=pd.read_pickle('/data/ebay/data/olivyatan/size_data/merge_label_4features_per_user_21523.pkl')"
   ]
  },
  {
   "cell_type": "raw",
   "id": "4eca3592-dc44-4b4a-b26d-70daa8532d87",
   "metadata": {},
   "source": [
    "merge_size_label=pd.read_pickle('/data/ebay/data/olivyatan/size_data/merge_label_4features_per_userCateg_03072023.pkl')"
   ]
  },
  {
   "cell_type": "code",
   "execution_count": 3,
   "id": "b3715a08-21b3-4157-a1ff-b8239d26f98f",
   "metadata": {},
   "outputs": [],
   "source": [
    "merge_size_label=pd.read_pickle('/data/ebay/data/olivyatan/size_data/merged_label_srcs_time_features_030723.pkl')"
   ]
  },
  {
   "cell_type": "code",
   "execution_count": 4,
   "id": "c03575c7-6df2-4d81-a23c-44f3c8d0bcf0",
   "metadata": {},
   "outputs": [
    {
     "data": {
      "text/plain": [
       "(1035021, 42)"
      ]
     },
     "execution_count": 4,
     "metadata": {},
     "output_type": "execute_result"
    }
   ],
   "source": [
    "merge_size_label.shape"
   ]
  },
  {
   "cell_type": "code",
   "execution_count": 5,
   "id": "7dca56fa-3ae9-4081-810a-63f3360e118d",
   "metadata": {},
   "outputs": [
    {
     "data": {
      "text/html": [
       "<div>\n",
       "<style scoped>\n",
       "    .dataframe tbody tr th:only-of-type {\n",
       "        vertical-align: middle;\n",
       "    }\n",
       "\n",
       "    .dataframe tbody tr th {\n",
       "        vertical-align: top;\n",
       "    }\n",
       "\n",
       "    .dataframe thead th {\n",
       "        text-align: right;\n",
       "    }\n",
       "</style>\n",
       "<table border=\"1\" class=\"dataframe\">\n",
       "  <thead>\n",
       "    <tr style=\"text-align: right;\">\n",
       "      <th></th>\n",
       "      <th>user_id</th>\n",
       "      <th>leaf_id</th>\n",
       "      <th>merged_sizes_all_srcs</th>\n",
       "      <th>merged_std</th>\n",
       "      <th>merged_mean</th>\n",
       "      <th>merged_median</th>\n",
       "      <th>merged_mode</th>\n",
       "      <th>merged_maxMinDiff</th>\n",
       "      <th>merged_countOfEvidence</th>\n",
       "      <th>transactions_std</th>\n",
       "      <th>...</th>\n",
       "      <th>transactions_mostRecentCommonSize_DaysDiff</th>\n",
       "      <th>queries_mostRecentCommonSize</th>\n",
       "      <th>filters_mostRecentCommonSize</th>\n",
       "      <th>transactions_mostRecentCommonSize</th>\n",
       "      <th>queries_mostRecentCommonSize_CountOfEvidence</th>\n",
       "      <th>filters_mostRecentCommonSize_CountOfEvidence</th>\n",
       "      <th>transactions_mostRecentCommonSize_CountOfEvidence</th>\n",
       "      <th>label_trx_dt</th>\n",
       "      <th>label_user_size</th>\n",
       "      <th>label_trx_size</th>\n",
       "    </tr>\n",
       "  </thead>\n",
       "  <tbody>\n",
       "    <tr>\n",
       "      <th>0</th>\n",
       "      <td>60</td>\n",
       "      <td>15709</td>\n",
       "      <td>{12.0: 1, 12.5: 1, 7.0: 1, 13.0: 1, 5.0: 1}</td>\n",
       "      <td>3.261901</td>\n",
       "      <td>9.900000</td>\n",
       "      <td>12.0</td>\n",
       "      <td>5.0</td>\n",
       "      <td>8.0</td>\n",
       "      <td>5</td>\n",
       "      <td>3.261901</td>\n",
       "      <td>...</td>\n",
       "      <td>46.0</td>\n",
       "      <td>NaN</td>\n",
       "      <td>NaN</td>\n",
       "      <td>5.0</td>\n",
       "      <td>NaN</td>\n",
       "      <td>NaN</td>\n",
       "      <td>1.0</td>\n",
       "      <td>2023-04-05</td>\n",
       "      <td>{13.0: 1}</td>\n",
       "      <td>13.0</td>\n",
       "    </tr>\n",
       "    <tr>\n",
       "      <th>1</th>\n",
       "      <td>60</td>\n",
       "      <td>95672</td>\n",
       "      <td>{6.5: 28, 8.0: 1, 8.5: 1}</td>\n",
       "      <td>0.441273</td>\n",
       "      <td>6.616667</td>\n",
       "      <td>6.5</td>\n",
       "      <td>6.5</td>\n",
       "      <td>2.0</td>\n",
       "      <td>30</td>\n",
       "      <td>0.801784</td>\n",
       "      <td>...</td>\n",
       "      <td>8.0</td>\n",
       "      <td>6.5</td>\n",
       "      <td>6.5</td>\n",
       "      <td>6.5</td>\n",
       "      <td>5.0</td>\n",
       "      <td>5.0</td>\n",
       "      <td>1.0</td>\n",
       "      <td>2023-03-23</td>\n",
       "      <td>{6.5: 1}</td>\n",
       "      <td>6.5</td>\n",
       "    </tr>\n",
       "    <tr>\n",
       "      <th>2</th>\n",
       "      <td>77</td>\n",
       "      <td>95672</td>\n",
       "      <td>{8.5: 2}</td>\n",
       "      <td>0.000000</td>\n",
       "      <td>8.500000</td>\n",
       "      <td>8.5</td>\n",
       "      <td>8.5</td>\n",
       "      <td>0.0</td>\n",
       "      <td>2</td>\n",
       "      <td>0.000000</td>\n",
       "      <td>...</td>\n",
       "      <td>7.0</td>\n",
       "      <td>NaN</td>\n",
       "      <td>NaN</td>\n",
       "      <td>8.5</td>\n",
       "      <td>NaN</td>\n",
       "      <td>NaN</td>\n",
       "      <td>1.0</td>\n",
       "      <td>2022-10-23</td>\n",
       "      <td>{8.5: 1}</td>\n",
       "      <td>8.5</td>\n",
       "    </tr>\n",
       "    <tr>\n",
       "      <th>3</th>\n",
       "      <td>192</td>\n",
       "      <td>95672</td>\n",
       "      <td>{8.5: 1}</td>\n",
       "      <td>0.000000</td>\n",
       "      <td>8.500000</td>\n",
       "      <td>8.5</td>\n",
       "      <td>8.5</td>\n",
       "      <td>0.0</td>\n",
       "      <td>1</td>\n",
       "      <td>0.000000</td>\n",
       "      <td>...</td>\n",
       "      <td>34.0</td>\n",
       "      <td>NaN</td>\n",
       "      <td>NaN</td>\n",
       "      <td>8.5</td>\n",
       "      <td>NaN</td>\n",
       "      <td>NaN</td>\n",
       "      <td>1.0</td>\n",
       "      <td>2022-06-24</td>\n",
       "      <td>{8.5: 1}</td>\n",
       "      <td>8.5</td>\n",
       "    </tr>\n",
       "    <tr>\n",
       "      <th>4</th>\n",
       "      <td>2520</td>\n",
       "      <td>15709</td>\n",
       "      <td>{12.0: 1}</td>\n",
       "      <td>0.000000</td>\n",
       "      <td>12.000000</td>\n",
       "      <td>12.0</td>\n",
       "      <td>12.0</td>\n",
       "      <td>0.0</td>\n",
       "      <td>1</td>\n",
       "      <td>0.000000</td>\n",
       "      <td>...</td>\n",
       "      <td>99.0</td>\n",
       "      <td>NaN</td>\n",
       "      <td>NaN</td>\n",
       "      <td>12.0</td>\n",
       "      <td>NaN</td>\n",
       "      <td>NaN</td>\n",
       "      <td>1.0</td>\n",
       "      <td>2023-01-07</td>\n",
       "      <td>{13.0: 1}</td>\n",
       "      <td>13.0</td>\n",
       "    </tr>\n",
       "  </tbody>\n",
       "</table>\n",
       "<p>5 rows × 42 columns</p>\n",
       "</div>"
      ],
      "text/plain": [
       "  user_id leaf_id                        merged_sizes_all_srcs  merged_std  \\\n",
       "0      60   15709  {12.0: 1, 12.5: 1, 7.0: 1, 13.0: 1, 5.0: 1}    3.261901   \n",
       "1      60   95672                    {6.5: 28, 8.0: 1, 8.5: 1}    0.441273   \n",
       "2      77   95672                                     {8.5: 2}    0.000000   \n",
       "3     192   95672                                     {8.5: 1}    0.000000   \n",
       "4    2520   15709                                    {12.0: 1}    0.000000   \n",
       "\n",
       "   merged_mean  merged_median  merged_mode  merged_maxMinDiff  \\\n",
       "0     9.900000           12.0          5.0                8.0   \n",
       "1     6.616667            6.5          6.5                2.0   \n",
       "2     8.500000            8.5          8.5                0.0   \n",
       "3     8.500000            8.5          8.5                0.0   \n",
       "4    12.000000           12.0         12.0                0.0   \n",
       "\n",
       "   merged_countOfEvidence  transactions_std  ...  \\\n",
       "0                       5          3.261901  ...   \n",
       "1                      30          0.801784  ...   \n",
       "2                       2          0.000000  ...   \n",
       "3                       1          0.000000  ...   \n",
       "4                       1          0.000000  ...   \n",
       "\n",
       "   transactions_mostRecentCommonSize_DaysDiff  queries_mostRecentCommonSize  \\\n",
       "0                                        46.0                           NaN   \n",
       "1                                         8.0                           6.5   \n",
       "2                                         7.0                           NaN   \n",
       "3                                        34.0                           NaN   \n",
       "4                                        99.0                           NaN   \n",
       "\n",
       "   filters_mostRecentCommonSize  transactions_mostRecentCommonSize  \\\n",
       "0                           NaN                                5.0   \n",
       "1                           6.5                                6.5   \n",
       "2                           NaN                                8.5   \n",
       "3                           NaN                                8.5   \n",
       "4                           NaN                               12.0   \n",
       "\n",
       "   queries_mostRecentCommonSize_CountOfEvidence  \\\n",
       "0                                           NaN   \n",
       "1                                           5.0   \n",
       "2                                           NaN   \n",
       "3                                           NaN   \n",
       "4                                           NaN   \n",
       "\n",
       "   filters_mostRecentCommonSize_CountOfEvidence  \\\n",
       "0                                           NaN   \n",
       "1                                           5.0   \n",
       "2                                           NaN   \n",
       "3                                           NaN   \n",
       "4                                           NaN   \n",
       "\n",
       "   transactions_mostRecentCommonSize_CountOfEvidence  label_trx_dt  \\\n",
       "0                                                1.0    2023-04-05   \n",
       "1                                                1.0    2023-03-23   \n",
       "2                                                1.0    2022-10-23   \n",
       "3                                                1.0    2022-06-24   \n",
       "4                                                1.0    2023-01-07   \n",
       "\n",
       "   label_user_size  label_trx_size  \n",
       "0        {13.0: 1}            13.0  \n",
       "1         {6.5: 1}             6.5  \n",
       "2         {8.5: 1}             8.5  \n",
       "3         {8.5: 1}             8.5  \n",
       "4        {13.0: 1}            13.0  \n",
       "\n",
       "[5 rows x 42 columns]"
      ]
     },
     "execution_count": 5,
     "metadata": {},
     "output_type": "execute_result"
    }
   ],
   "source": [
    "merge_size_label.head(5)"
   ]
  },
  {
   "cell_type": "code",
   "execution_count": 8,
   "id": "925d6145-5d95-4af8-9b0c-3bfd3873dc62",
   "metadata": {},
   "outputs": [
    {
     "data": {
      "text/plain": [
       "Index(['user_id', 'leaf_id', 'merged_sizes_all_srcs', 'merged_std',\n",
       "       'merged_mean', 'merged_median', 'merged_mode', 'merged_maxMinDiff',\n",
       "       'merged_countOfEvidence', 'transactions_std', 'transactions_mean',\n",
       "       'transactions_median', 'transactions_mode', 'transactions_maxMinDiff',\n",
       "       'transactions_countOfEvidence', 'queries_std', 'queries_mean',\n",
       "       'queries_median', 'queries_mode', 'queries_maxMinDiff',\n",
       "       'queries_countOfEvidence', 'filters_std', 'filters_mean',\n",
       "       'filters_median', 'filters_mode', 'filters_maxMinDiff',\n",
       "       'filters_countOfEvidence', 'mostRecentCommonSize_DaysDiff',\n",
       "       'mostRecentCommonSize', 'mostRecentCommonSize_CountOfEvidence',\n",
       "       'queries_mostRecentCommonSize_DaysDiff',\n",
       "       'filters_mostRecentCommonSize_DaysDiff',\n",
       "       'transactions_mostRecentCommonSize_DaysDiff',\n",
       "       'queries_mostRecentCommonSize', 'filters_mostRecentCommonSize',\n",
       "       'transactions_mostRecentCommonSize',\n",
       "       'queries_mostRecentCommonSize_CountOfEvidence',\n",
       "       'filters_mostRecentCommonSize_CountOfEvidence',\n",
       "       'transactions_mostRecentCommonSize_CountOfEvidence', 'label_trx_dt',\n",
       "       'label_user_size', 'label_trx_size'],\n",
       "      dtype='object')"
      ]
     },
     "execution_count": 8,
     "metadata": {},
     "output_type": "execute_result"
    }
   ],
   "source": [
    "merge_size_label.columns"
   ]
  },
  {
   "cell_type": "raw",
   "id": "7143ba05-1735-4da5-bc79-cf93676c35e1",
   "metadata": {},
   "source": [
    "The np.nan value is passed as the argument to replace all None or NaN values in the DataFrame with NaN.\n",
    "By using fillna(np.nan), you ensure that any None or NaN values in the DataFrame are converted to NaN, which is the standard missing value representation \n",
    "in pandas and is also recognized by XGBoost as missing values."
   ]
  },
  {
   "cell_type": "code",
   "execution_count": 6,
   "id": "0789a50e-52e8-48e8-849a-2338088a8dad",
   "metadata": {},
   "outputs": [],
   "source": [
    "merge_size_label = merge_size_label.fillna(np.nan)"
   ]
  },
  {
   "cell_type": "code",
   "execution_count": 7,
   "id": "b95e9aed-7907-41fb-96b4-1d36b6db6c9b",
   "metadata": {},
   "outputs": [],
   "source": [
    "model_list = ['user_id', 'leaf_id', 'merged_sizes_all_srcs', 'merged_std',\n",
    "       'merged_mean', 'merged_median', 'merged_mode', 'merged_maxMinDiff',\n",
    "       'merged_countOfEvidence', 'transactions_std', 'transactions_mean',\n",
    "       'transactions_median', 'transactions_mode', 'transactions_maxMinDiff',\n",
    "       'transactions_countOfEvidence', 'queries_std', 'queries_mean',\n",
    "       'queries_median', 'queries_mode', 'queries_maxMinDiff',\n",
    "       'queries_countOfEvidence', 'filters_std', 'filters_mean',\n",
    "       'filters_median', 'filters_mode', 'filters_maxMinDiff',\n",
    "       'filters_countOfEvidence', 'mostRecentCommonSize_DaysDiff',\n",
    "       'mostRecentCommonSize', 'mostRecentCommonSize_CountOfEvidence',\n",
    "       'queries_mostRecentCommonSize_DaysDiff',\n",
    "       'filters_mostRecentCommonSize_DaysDiff',\n",
    "       'transactions_mostRecentCommonSize_DaysDiff',\n",
    "       'queries_mostRecentCommonSize', 'filters_mostRecentCommonSize',\n",
    "       'transactions_mostRecentCommonSize',\n",
    "       'queries_mostRecentCommonSize_CountOfEvidence',\n",
    "       'filters_mostRecentCommonSize_CountOfEvidence',\n",
    "       'transactions_mostRecentCommonSize_CountOfEvidence', 'label_trx_dt',\n",
    "       'label_user_size', 'label_trx_size']"
   ]
  },
  {
   "cell_type": "code",
   "execution_count": 8,
   "id": "ac6540d9-1188-4ad8-90e7-5117987e43f8",
   "metadata": {},
   "outputs": [],
   "source": [
    "df_model = merge_size_label[model_list]"
   ]
  },
  {
   "cell_type": "code",
   "execution_count": 9,
   "id": "752a058d-08ce-408a-b206-01bc34e17444",
   "metadata": {},
   "outputs": [],
   "source": [
    "only_features = [ 'merged_std',\n",
    "       'merged_mean', 'merged_median', 'merged_mode', 'merged_maxMinDiff',\n",
    "       'merged_countOfEvidence', 'transactions_std', 'transactions_mean',\n",
    "       'transactions_median', 'transactions_mode', 'transactions_maxMinDiff',\n",
    "       'transactions_countOfEvidence', 'queries_std', 'queries_mean',\n",
    "       'queries_median', 'queries_mode', 'queries_maxMinDiff',\n",
    "       'queries_countOfEvidence', 'filters_std', 'filters_mean',\n",
    "       'filters_median', 'filters_mode', 'filters_maxMinDiff',\n",
    "       'filters_countOfEvidence', 'mostRecentCommonSize_DaysDiff',\n",
    "       'mostRecentCommonSize', 'mostRecentCommonSize_CountOfEvidence',\n",
    "       'queries_mostRecentCommonSize_DaysDiff',\n",
    "       'filters_mostRecentCommonSize_DaysDiff',\n",
    "       'transactions_mostRecentCommonSize_DaysDiff',\n",
    "       'queries_mostRecentCommonSize', 'filters_mostRecentCommonSize',\n",
    "       'transactions_mostRecentCommonSize',\n",
    "       'queries_mostRecentCommonSize_CountOfEvidence',\n",
    "       'filters_mostRecentCommonSize_CountOfEvidence',\n",
    "       'transactions_mostRecentCommonSize_CountOfEvidence']"
   ]
  },
  {
   "cell_type": "code",
   "execution_count": 10,
   "id": "bcaf157c-dbf3-41c6-95fe-933be781d650",
   "metadata": {},
   "outputs": [
    {
     "data": {
      "text/plain": [
       "36"
      ]
     },
     "execution_count": 10,
     "metadata": {},
     "output_type": "execute_result"
    }
   ],
   "source": [
    "len(only_features)"
   ]
  },
  {
   "cell_type": "raw",
   "id": "160023af-8edd-4cf6-8879-00027633d703",
   "metadata": {},
   "source": [
    "only_features = [ 'merged_std', 'merged_mean',\n",
    "       'merged_median', 'merged_mode', 'merged_maxMinDiff','merged_countOfEvidence']"
   ]
  },
  {
   "cell_type": "code",
   "execution_count": 11,
   "id": "328e287b-45d5-4db7-b7e2-e4bb532fdd0e",
   "metadata": {},
   "outputs": [],
   "source": [
    "df_model_na = df_model.dropna(how='all', subset = only_features)"
   ]
  },
  {
   "cell_type": "code",
   "execution_count": 12,
   "id": "a66ff5ae-f5d0-41ad-a29c-03a607aa2d9c",
   "metadata": {},
   "outputs": [],
   "source": [
    "df_features = merge_size_label[only_features]\n",
    "df_feat_na = df_features.dropna(how='all')"
   ]
  },
  {
   "cell_type": "code",
   "execution_count": 13,
   "id": "87f48fa4-0138-410c-bcca-3380f1e30888",
   "metadata": {},
   "outputs": [
    {
     "data": {
      "text/plain": [
       "((1035021, 36), (1035021, 36))"
      ]
     },
     "execution_count": 13,
     "metadata": {},
     "output_type": "execute_result"
    }
   ],
   "source": [
    "df_features.shape, df_feat_na.shape"
   ]
  },
  {
   "cell_type": "code",
   "execution_count": 14,
   "id": "e8889a2c-4bc8-4766-bdc0-773c0a05e359",
   "metadata": {},
   "outputs": [
    {
     "data": {
      "text/plain": [
       "988566"
      ]
     },
     "execution_count": 14,
     "metadata": {},
     "output_type": "execute_result"
    }
   ],
   "source": [
    "len(merge_size_label.user_id.unique())"
   ]
  },
  {
   "cell_type": "code",
   "execution_count": 15,
   "id": "858f1440-91c5-458e-aee2-38e6911241a3",
   "metadata": {},
   "outputs": [
    {
     "data": {
      "text/plain": [
       "988566"
      ]
     },
     "execution_count": 15,
     "metadata": {},
     "output_type": "execute_result"
    }
   ],
   "source": [
    "len(merge_size_label.user_id.unique())"
   ]
  },
  {
   "cell_type": "code",
   "execution_count": 16,
   "id": "52ce68d5-67b0-4c34-ac26-089b983df1b4",
   "metadata": {},
   "outputs": [
    {
     "data": {
      "text/plain": [
       "10.0    118807\n",
       "11.0    108445\n",
       "9.0     106146\n",
       "10.5     89330\n",
       "12.0     86611\n",
       "9.5      85797\n",
       "8.0      79306\n",
       "8.5      69333\n",
       "13.0     59610\n",
       "11.5     50819\n",
       "7.0      47512\n",
       "7.5      37494\n",
       "6.0      21242\n",
       "14.0     19716\n",
       "6.5      18778\n",
       "12.5      9764\n",
       "5.0       7784\n",
       "15.0      7446\n",
       "5.5       6286\n",
       "16.0      2019\n",
       "4.5       1569\n",
       "13.5       928\n",
       "14.5       232\n",
       "15.5        47\n",
       "Name: label_trx_size, dtype: int64"
      ]
     },
     "execution_count": 16,
     "metadata": {},
     "output_type": "execute_result"
    }
   ],
   "source": [
    "merge_size_label.label_trx_size.value_counts()"
   ]
  },
  {
   "cell_type": "code",
   "execution_count": 17,
   "id": "b21d7aea-95db-43d8-9802-eb41e013d4e0",
   "metadata": {},
   "outputs": [
    {
     "data": {
      "text/html": [
       "<div>\n",
       "<style scoped>\n",
       "    .dataframe tbody tr th:only-of-type {\n",
       "        vertical-align: middle;\n",
       "    }\n",
       "\n",
       "    .dataframe tbody tr th {\n",
       "        vertical-align: top;\n",
       "    }\n",
       "\n",
       "    .dataframe thead th {\n",
       "        text-align: right;\n",
       "    }\n",
       "</style>\n",
       "<table border=\"1\" class=\"dataframe\">\n",
       "  <thead>\n",
       "    <tr style=\"text-align: right;\">\n",
       "      <th></th>\n",
       "      <th>user_id</th>\n",
       "      <th>leaf_id</th>\n",
       "      <th>merged_sizes_all_srcs</th>\n",
       "      <th>merged_std</th>\n",
       "      <th>merged_mean</th>\n",
       "      <th>merged_median</th>\n",
       "      <th>merged_mode</th>\n",
       "      <th>merged_maxMinDiff</th>\n",
       "      <th>merged_countOfEvidence</th>\n",
       "      <th>transactions_std</th>\n",
       "      <th>...</th>\n",
       "      <th>transactions_mostRecentCommonSize_DaysDiff</th>\n",
       "      <th>queries_mostRecentCommonSize</th>\n",
       "      <th>filters_mostRecentCommonSize</th>\n",
       "      <th>transactions_mostRecentCommonSize</th>\n",
       "      <th>queries_mostRecentCommonSize_CountOfEvidence</th>\n",
       "      <th>filters_mostRecentCommonSize_CountOfEvidence</th>\n",
       "      <th>transactions_mostRecentCommonSize_CountOfEvidence</th>\n",
       "      <th>label_trx_dt</th>\n",
       "      <th>label_user_size</th>\n",
       "      <th>label_trx_size</th>\n",
       "    </tr>\n",
       "  </thead>\n",
       "  <tbody>\n",
       "  </tbody>\n",
       "</table>\n",
       "<p>0 rows × 42 columns</p>\n",
       "</div>"
      ],
      "text/plain": [
       "Empty DataFrame\n",
       "Columns: [user_id, leaf_id, merged_sizes_all_srcs, merged_std, merged_mean, merged_median, merged_mode, merged_maxMinDiff, merged_countOfEvidence, transactions_std, transactions_mean, transactions_median, transactions_mode, transactions_maxMinDiff, transactions_countOfEvidence, queries_std, queries_mean, queries_median, queries_mode, queries_maxMinDiff, queries_countOfEvidence, filters_std, filters_mean, filters_median, filters_mode, filters_maxMinDiff, filters_countOfEvidence, mostRecentCommonSize_DaysDiff, mostRecentCommonSize, mostRecentCommonSize_CountOfEvidence, queries_mostRecentCommonSize_DaysDiff, filters_mostRecentCommonSize_DaysDiff, transactions_mostRecentCommonSize_DaysDiff, queries_mostRecentCommonSize, filters_mostRecentCommonSize, transactions_mostRecentCommonSize, queries_mostRecentCommonSize_CountOfEvidence, filters_mostRecentCommonSize_CountOfEvidence, transactions_mostRecentCommonSize_CountOfEvidence, label_trx_dt, label_user_size, label_trx_size]\n",
       "Index: []\n",
       "\n",
       "[0 rows x 42 columns]"
      ]
     },
     "execution_count": 17,
     "metadata": {},
     "output_type": "execute_result"
    }
   ],
   "source": [
    "df_model_na[df_model_na['label_trx_size'].isin([10.25,9.75,10.75])]"
   ]
  },
  {
   "cell_type": "code",
   "execution_count": 18,
   "id": "783ba37f-4c71-494f-836c-49e14536ac32",
   "metadata": {},
   "outputs": [],
   "source": [
    "df_model_na=df_model_na[~df_model_na['label_trx_size'].isin([10.25,9.75,10.75])]"
   ]
  },
  {
   "cell_type": "code",
   "execution_count": 19,
   "id": "38eb760e-715c-4b9d-bc3e-cc385c8b44a1",
   "metadata": {},
   "outputs": [
    {
     "data": {
      "text/plain": [
       "24"
      ]
     },
     "execution_count": 19,
     "metadata": {},
     "output_type": "execute_result"
    }
   ],
   "source": [
    "df_model_na.label_trx_size.nunique()"
   ]
  },
  {
   "cell_type": "code",
   "execution_count": 20,
   "id": "83043bb7-c8ae-4049-a4fc-4764464656e0",
   "metadata": {},
   "outputs": [
    {
     "data": {
      "text/html": [
       "<div>\n",
       "<style scoped>\n",
       "    .dataframe tbody tr th:only-of-type {\n",
       "        vertical-align: middle;\n",
       "    }\n",
       "\n",
       "    .dataframe tbody tr th {\n",
       "        vertical-align: top;\n",
       "    }\n",
       "\n",
       "    .dataframe thead th {\n",
       "        text-align: right;\n",
       "    }\n",
       "</style>\n",
       "<table border=\"1\" class=\"dataframe\">\n",
       "  <thead>\n",
       "    <tr style=\"text-align: right;\">\n",
       "      <th></th>\n",
       "      <th>user_id</th>\n",
       "      <th>leaf_id</th>\n",
       "      <th>merged_sizes_all_srcs</th>\n",
       "      <th>merged_std</th>\n",
       "      <th>merged_mean</th>\n",
       "      <th>merged_median</th>\n",
       "      <th>merged_mode</th>\n",
       "      <th>merged_maxMinDiff</th>\n",
       "      <th>merged_countOfEvidence</th>\n",
       "      <th>transactions_std</th>\n",
       "      <th>...</th>\n",
       "      <th>transactions_mostRecentCommonSize_DaysDiff</th>\n",
       "      <th>queries_mostRecentCommonSize</th>\n",
       "      <th>filters_mostRecentCommonSize</th>\n",
       "      <th>transactions_mostRecentCommonSize</th>\n",
       "      <th>queries_mostRecentCommonSize_CountOfEvidence</th>\n",
       "      <th>filters_mostRecentCommonSize_CountOfEvidence</th>\n",
       "      <th>transactions_mostRecentCommonSize_CountOfEvidence</th>\n",
       "      <th>label_trx_dt</th>\n",
       "      <th>label_user_size</th>\n",
       "      <th>label_trx_size</th>\n",
       "    </tr>\n",
       "  </thead>\n",
       "  <tbody>\n",
       "    <tr>\n",
       "      <th>0</th>\n",
       "      <td>60</td>\n",
       "      <td>15709</td>\n",
       "      <td>{12.0: 1, 12.5: 1, 7.0: 1, 13.0: 1, 5.0: 1}</td>\n",
       "      <td>3.261901</td>\n",
       "      <td>9.900000</td>\n",
       "      <td>12.0</td>\n",
       "      <td>5.0</td>\n",
       "      <td>8.0</td>\n",
       "      <td>5</td>\n",
       "      <td>3.261901</td>\n",
       "      <td>...</td>\n",
       "      <td>46.0</td>\n",
       "      <td>NaN</td>\n",
       "      <td>NaN</td>\n",
       "      <td>5.0</td>\n",
       "      <td>NaN</td>\n",
       "      <td>NaN</td>\n",
       "      <td>1.0</td>\n",
       "      <td>2023-04-05</td>\n",
       "      <td>{13.0: 1}</td>\n",
       "      <td>13.0</td>\n",
       "    </tr>\n",
       "    <tr>\n",
       "      <th>1</th>\n",
       "      <td>60</td>\n",
       "      <td>95672</td>\n",
       "      <td>{6.5: 28, 8.0: 1, 8.5: 1}</td>\n",
       "      <td>0.441273</td>\n",
       "      <td>6.616667</td>\n",
       "      <td>6.5</td>\n",
       "      <td>6.5</td>\n",
       "      <td>2.0</td>\n",
       "      <td>30</td>\n",
       "      <td>0.801784</td>\n",
       "      <td>...</td>\n",
       "      <td>8.0</td>\n",
       "      <td>6.5</td>\n",
       "      <td>6.5</td>\n",
       "      <td>6.5</td>\n",
       "      <td>5.0</td>\n",
       "      <td>5.0</td>\n",
       "      <td>1.0</td>\n",
       "      <td>2023-03-23</td>\n",
       "      <td>{6.5: 1}</td>\n",
       "      <td>6.5</td>\n",
       "    </tr>\n",
       "  </tbody>\n",
       "</table>\n",
       "<p>2 rows × 42 columns</p>\n",
       "</div>"
      ],
      "text/plain": [
       "   user_id  leaf_id                        merged_sizes_all_srcs  merged_std  \\\n",
       "0       60    15709  {12.0: 1, 12.5: 1, 7.0: 1, 13.0: 1, 5.0: 1}    3.261901   \n",
       "1       60    95672                    {6.5: 28, 8.0: 1, 8.5: 1}    0.441273   \n",
       "\n",
       "   merged_mean  merged_median  merged_mode  merged_maxMinDiff  \\\n",
       "0     9.900000           12.0          5.0                8.0   \n",
       "1     6.616667            6.5          6.5                2.0   \n",
       "\n",
       "   merged_countOfEvidence  transactions_std  ...  \\\n",
       "0                       5          3.261901  ...   \n",
       "1                      30          0.801784  ...   \n",
       "\n",
       "   transactions_mostRecentCommonSize_DaysDiff  queries_mostRecentCommonSize  \\\n",
       "0                                        46.0                           NaN   \n",
       "1                                         8.0                           6.5   \n",
       "\n",
       "   filters_mostRecentCommonSize  transactions_mostRecentCommonSize  \\\n",
       "0                           NaN                                5.0   \n",
       "1                           6.5                                6.5   \n",
       "\n",
       "   queries_mostRecentCommonSize_CountOfEvidence  \\\n",
       "0                                           NaN   \n",
       "1                                           5.0   \n",
       "\n",
       "   filters_mostRecentCommonSize_CountOfEvidence  \\\n",
       "0                                           NaN   \n",
       "1                                           5.0   \n",
       "\n",
       "   transactions_mostRecentCommonSize_CountOfEvidence  label_trx_dt  \\\n",
       "0                                                1.0    2023-04-05   \n",
       "1                                                1.0    2023-03-23   \n",
       "\n",
       "   label_user_size  label_trx_size  \n",
       "0        {13.0: 1}            13.0  \n",
       "1         {6.5: 1}             6.5  \n",
       "\n",
       "[2 rows x 42 columns]"
      ]
     },
     "execution_count": 20,
     "metadata": {},
     "output_type": "execute_result"
    }
   ],
   "source": [
    "df_model_na.head(2)"
   ]
  },
  {
   "cell_type": "raw",
   "id": "63227bce-9150-4f79-9e68-2bd55c27a71d",
   "metadata": {},
   "source": [
    "train_users = df_model_na['user_id'].drop_duplicates().sample(frac=0.8)\n",
    "train = df_model_na[df_model_na.user_id.isin(train_users)]\n",
    "test = df_model_na[~df_model_na.user_id.isin(train_users)]\n",
    "val_users=test['user_id'].drop_duplicates().sample(frac=0.5)\n",
    "val = test[test.user_id.isin(val_users)]\n",
    "test = test[~test.user_id.isin(val_users)]"
   ]
  },
  {
   "cell_type": "raw",
   "id": "23e85e65-cbbc-413f-8606-464203e615b8",
   "metadata": {},
   "source": [
    "train_users = df_model_na['user_id'].drop_duplicates().sample(frac=0.8)\n",
    "train = df_model_na[df_model_na.user_id.isin(train_users)]\n",
    "test = df_model_na[~df_model_na.user_id.isin(train_users)]\n",
    "val_users=test['user_id'].drop_duplicates().sample(frac=0.5)\n",
    "val = test[test.user_id.isin(val_users)]\n",
    "test = test[~test.user_id.isin(val_users)]"
   ]
  },
  {
   "cell_type": "code",
   "execution_count": 21,
   "id": "eda2fa58-0a54-4da7-bdfe-23279bf91da4",
   "metadata": {},
   "outputs": [],
   "source": [
    "train_inds, test_inds = next(GroupShuffleSplit(test_size=.20, n_splits=2,\n",
    "                                               random_state = 7).split(df_model_na,\n",
    "                                                                       groups=df_model_na['user_id']))\n",
    "\n",
    "train = df_model_na.iloc[train_inds]\n",
    "test = df_model_na.iloc[test_inds]"
   ]
  },
  {
   "cell_type": "code",
   "execution_count": 22,
   "id": "8c2a5d3b-2c0c-4a9b-a7da-0e4d9b18df0f",
   "metadata": {},
   "outputs": [],
   "source": [
    "val_inds, test_inds = next(GroupShuffleSplit(test_size=.5, n_splits=2,\n",
    "                                               random_state = 7).split(test,\n",
    "                                                                       groups=test['user_id']))\n",
    "\n",
    "val = test.iloc[val_inds]\n",
    "test = test.iloc[test_inds]"
   ]
  },
  {
   "cell_type": "code",
   "execution_count": 23,
   "id": "d1ff9d20-f69a-4742-bc44-472dca9b144d",
   "metadata": {},
   "outputs": [
    {
     "data": {
      "text/plain": [
       "array([      0,       1,       2, ..., 1035018, 1035019, 1035020])"
      ]
     },
     "execution_count": 23,
     "metadata": {},
     "output_type": "execute_result"
    }
   ],
   "source": [
    "train_inds"
   ]
  },
  {
   "cell_type": "code",
   "execution_count": 24,
   "id": "ce2dfb9c-35c5-45c0-95b8-f632b660b98c",
   "metadata": {},
   "outputs": [
    {
     "data": {
      "text/html": [
       "<div>\n",
       "<style scoped>\n",
       "    .dataframe tbody tr th:only-of-type {\n",
       "        vertical-align: middle;\n",
       "    }\n",
       "\n",
       "    .dataframe tbody tr th {\n",
       "        vertical-align: top;\n",
       "    }\n",
       "\n",
       "    .dataframe thead th {\n",
       "        text-align: right;\n",
       "    }\n",
       "</style>\n",
       "<table border=\"1\" class=\"dataframe\">\n",
       "  <thead>\n",
       "    <tr style=\"text-align: right;\">\n",
       "      <th></th>\n",
       "      <th>user_id</th>\n",
       "      <th>leaf_id</th>\n",
       "      <th>merged_sizes_all_srcs</th>\n",
       "      <th>merged_std</th>\n",
       "      <th>merged_mean</th>\n",
       "      <th>merged_median</th>\n",
       "      <th>merged_mode</th>\n",
       "      <th>merged_maxMinDiff</th>\n",
       "      <th>merged_countOfEvidence</th>\n",
       "      <th>transactions_std</th>\n",
       "      <th>...</th>\n",
       "      <th>transactions_mostRecentCommonSize_DaysDiff</th>\n",
       "      <th>queries_mostRecentCommonSize</th>\n",
       "      <th>filters_mostRecentCommonSize</th>\n",
       "      <th>transactions_mostRecentCommonSize</th>\n",
       "      <th>queries_mostRecentCommonSize_CountOfEvidence</th>\n",
       "      <th>filters_mostRecentCommonSize_CountOfEvidence</th>\n",
       "      <th>transactions_mostRecentCommonSize_CountOfEvidence</th>\n",
       "      <th>label_trx_dt</th>\n",
       "      <th>label_user_size</th>\n",
       "      <th>label_trx_size</th>\n",
       "    </tr>\n",
       "  </thead>\n",
       "  <tbody>\n",
       "    <tr>\n",
       "      <th>30</th>\n",
       "      <td>10555</td>\n",
       "      <td>95672</td>\n",
       "      <td>{10.0: 1}</td>\n",
       "      <td>0.000000</td>\n",
       "      <td>10.0</td>\n",
       "      <td>10.0</td>\n",
       "      <td>10.0</td>\n",
       "      <td>0.0</td>\n",
       "      <td>1</td>\n",
       "      <td>0.000000</td>\n",
       "      <td>...</td>\n",
       "      <td>4.0</td>\n",
       "      <td>NaN</td>\n",
       "      <td>NaN</td>\n",
       "      <td>10.0</td>\n",
       "      <td>NaN</td>\n",
       "      <td>NaN</td>\n",
       "      <td>1.0</td>\n",
       "      <td>2022-05-07</td>\n",
       "      <td>{9.5: 1}</td>\n",
       "      <td>9.5</td>\n",
       "    </tr>\n",
       "    <tr>\n",
       "      <th>31</th>\n",
       "      <td>10681</td>\n",
       "      <td>95672</td>\n",
       "      <td>{7.5: 1, 6.5: 1, 7.0: 1}</td>\n",
       "      <td>0.408248</td>\n",
       "      <td>7.0</td>\n",
       "      <td>7.0</td>\n",
       "      <td>6.5</td>\n",
       "      <td>1.0</td>\n",
       "      <td>3</td>\n",
       "      <td>0.408248</td>\n",
       "      <td>...</td>\n",
       "      <td>20.0</td>\n",
       "      <td>NaN</td>\n",
       "      <td>NaN</td>\n",
       "      <td>7.0</td>\n",
       "      <td>NaN</td>\n",
       "      <td>NaN</td>\n",
       "      <td>1.0</td>\n",
       "      <td>2022-11-12</td>\n",
       "      <td>{8.0: 1}</td>\n",
       "      <td>8.0</td>\n",
       "    </tr>\n",
       "    <tr>\n",
       "      <th>49</th>\n",
       "      <td>14654</td>\n",
       "      <td>15709</td>\n",
       "      <td>{10.5: 1}</td>\n",
       "      <td>0.000000</td>\n",
       "      <td>10.5</td>\n",
       "      <td>10.5</td>\n",
       "      <td>10.5</td>\n",
       "      <td>0.0</td>\n",
       "      <td>1</td>\n",
       "      <td>0.000000</td>\n",
       "      <td>...</td>\n",
       "      <td>135.0</td>\n",
       "      <td>NaN</td>\n",
       "      <td>NaN</td>\n",
       "      <td>10.5</td>\n",
       "      <td>NaN</td>\n",
       "      <td>NaN</td>\n",
       "      <td>1.0</td>\n",
       "      <td>2023-03-30</td>\n",
       "      <td>{10.5: 1}</td>\n",
       "      <td>10.5</td>\n",
       "    </tr>\n",
       "  </tbody>\n",
       "</table>\n",
       "<p>3 rows × 42 columns</p>\n",
       "</div>"
      ],
      "text/plain": [
       "    user_id  leaf_id     merged_sizes_all_srcs  merged_std  merged_mean  \\\n",
       "30    10555    95672                 {10.0: 1}    0.000000         10.0   \n",
       "31    10681    95672  {7.5: 1, 6.5: 1, 7.0: 1}    0.408248          7.0   \n",
       "49    14654    15709                 {10.5: 1}    0.000000         10.5   \n",
       "\n",
       "    merged_median  merged_mode  merged_maxMinDiff  merged_countOfEvidence  \\\n",
       "30           10.0         10.0                0.0                       1   \n",
       "31            7.0          6.5                1.0                       3   \n",
       "49           10.5         10.5                0.0                       1   \n",
       "\n",
       "    transactions_std  ...  transactions_mostRecentCommonSize_DaysDiff  \\\n",
       "30          0.000000  ...                                         4.0   \n",
       "31          0.408248  ...                                        20.0   \n",
       "49          0.000000  ...                                       135.0   \n",
       "\n",
       "    queries_mostRecentCommonSize  filters_mostRecentCommonSize  \\\n",
       "30                           NaN                           NaN   \n",
       "31                           NaN                           NaN   \n",
       "49                           NaN                           NaN   \n",
       "\n",
       "    transactions_mostRecentCommonSize  \\\n",
       "30                               10.0   \n",
       "31                                7.0   \n",
       "49                               10.5   \n",
       "\n",
       "    queries_mostRecentCommonSize_CountOfEvidence  \\\n",
       "30                                           NaN   \n",
       "31                                           NaN   \n",
       "49                                           NaN   \n",
       "\n",
       "    filters_mostRecentCommonSize_CountOfEvidence  \\\n",
       "30                                           NaN   \n",
       "31                                           NaN   \n",
       "49                                           NaN   \n",
       "\n",
       "    transactions_mostRecentCommonSize_CountOfEvidence  label_trx_dt  \\\n",
       "30                                                1.0    2022-05-07   \n",
       "31                                                1.0    2022-11-12   \n",
       "49                                                1.0    2023-03-30   \n",
       "\n",
       "    label_user_size  label_trx_size  \n",
       "30         {9.5: 1}             9.5  \n",
       "31         {8.0: 1}             8.0  \n",
       "49        {10.5: 1}            10.5  \n",
       "\n",
       "[3 rows x 42 columns]"
      ]
     },
     "execution_count": 24,
     "metadata": {},
     "output_type": "execute_result"
    }
   ],
   "source": [
    "test.head(3)"
   ]
  },
  {
   "cell_type": "code",
   "execution_count": 25,
   "id": "cc790d9b-a3e4-48da-88a3-d0b363f0d389",
   "metadata": {},
   "outputs": [
    {
     "data": {
      "text/html": [
       "<div>\n",
       "<style scoped>\n",
       "    .dataframe tbody tr th:only-of-type {\n",
       "        vertical-align: middle;\n",
       "    }\n",
       "\n",
       "    .dataframe tbody tr th {\n",
       "        vertical-align: top;\n",
       "    }\n",
       "\n",
       "    .dataframe thead th {\n",
       "        text-align: right;\n",
       "    }\n",
       "</style>\n",
       "<table border=\"1\" class=\"dataframe\">\n",
       "  <thead>\n",
       "    <tr style=\"text-align: right;\">\n",
       "      <th></th>\n",
       "      <th>user_id</th>\n",
       "      <th>leaf_id</th>\n",
       "      <th>merged_sizes_all_srcs</th>\n",
       "      <th>merged_std</th>\n",
       "      <th>merged_mean</th>\n",
       "      <th>merged_median</th>\n",
       "      <th>merged_mode</th>\n",
       "      <th>merged_maxMinDiff</th>\n",
       "      <th>merged_countOfEvidence</th>\n",
       "      <th>transactions_std</th>\n",
       "      <th>...</th>\n",
       "      <th>transactions_mostRecentCommonSize_DaysDiff</th>\n",
       "      <th>queries_mostRecentCommonSize</th>\n",
       "      <th>filters_mostRecentCommonSize</th>\n",
       "      <th>transactions_mostRecentCommonSize</th>\n",
       "      <th>queries_mostRecentCommonSize_CountOfEvidence</th>\n",
       "      <th>filters_mostRecentCommonSize_CountOfEvidence</th>\n",
       "      <th>transactions_mostRecentCommonSize_CountOfEvidence</th>\n",
       "      <th>label_trx_dt</th>\n",
       "      <th>label_user_size</th>\n",
       "      <th>label_trx_size</th>\n",
       "    </tr>\n",
       "  </thead>\n",
       "  <tbody>\n",
       "    <tr>\n",
       "      <th>7</th>\n",
       "      <td>3285</td>\n",
       "      <td>95672</td>\n",
       "      <td>{8.0: 1}</td>\n",
       "      <td>0.000000</td>\n",
       "      <td>8.00</td>\n",
       "      <td>8.0</td>\n",
       "      <td>8.0</td>\n",
       "      <td>0.0</td>\n",
       "      <td>1</td>\n",
       "      <td>0.0</td>\n",
       "      <td>...</td>\n",
       "      <td>108.0</td>\n",
       "      <td>NaN</td>\n",
       "      <td>NaN</td>\n",
       "      <td>8.0</td>\n",
       "      <td>NaN</td>\n",
       "      <td>NaN</td>\n",
       "      <td>1.0</td>\n",
       "      <td>2023-02-19</td>\n",
       "      <td>{8.0: 1}</td>\n",
       "      <td>8.0</td>\n",
       "    </tr>\n",
       "    <tr>\n",
       "      <th>12</th>\n",
       "      <td>4767</td>\n",
       "      <td>95672</td>\n",
       "      <td>{9.5: 10}</td>\n",
       "      <td>0.000000</td>\n",
       "      <td>9.50</td>\n",
       "      <td>9.5</td>\n",
       "      <td>9.5</td>\n",
       "      <td>0.0</td>\n",
       "      <td>10</td>\n",
       "      <td>NaN</td>\n",
       "      <td>...</td>\n",
       "      <td>NaN</td>\n",
       "      <td>NaN</td>\n",
       "      <td>9.5</td>\n",
       "      <td>NaN</td>\n",
       "      <td>NaN</td>\n",
       "      <td>1.0</td>\n",
       "      <td>NaN</td>\n",
       "      <td>2023-03-24</td>\n",
       "      <td>{9.5: 1}</td>\n",
       "      <td>9.5</td>\n",
       "    </tr>\n",
       "    <tr>\n",
       "      <th>33</th>\n",
       "      <td>11067</td>\n",
       "      <td>15709</td>\n",
       "      <td>{10.5: 3, 7.5: 1}</td>\n",
       "      <td>1.299038</td>\n",
       "      <td>9.75</td>\n",
       "      <td>10.5</td>\n",
       "      <td>10.5</td>\n",
       "      <td>3.0</td>\n",
       "      <td>4</td>\n",
       "      <td>NaN</td>\n",
       "      <td>...</td>\n",
       "      <td>NaN</td>\n",
       "      <td>NaN</td>\n",
       "      <td>7.5</td>\n",
       "      <td>NaN</td>\n",
       "      <td>NaN</td>\n",
       "      <td>1.0</td>\n",
       "      <td>NaN</td>\n",
       "      <td>2023-03-12</td>\n",
       "      <td>{7.0: 1}</td>\n",
       "      <td>7.0</td>\n",
       "    </tr>\n",
       "  </tbody>\n",
       "</table>\n",
       "<p>3 rows × 42 columns</p>\n",
       "</div>"
      ],
      "text/plain": [
       "    user_id  leaf_id merged_sizes_all_srcs  merged_std  merged_mean  \\\n",
       "7      3285    95672              {8.0: 1}    0.000000         8.00   \n",
       "12     4767    95672             {9.5: 10}    0.000000         9.50   \n",
       "33    11067    15709     {10.5: 3, 7.5: 1}    1.299038         9.75   \n",
       "\n",
       "    merged_median  merged_mode  merged_maxMinDiff  merged_countOfEvidence  \\\n",
       "7             8.0          8.0                0.0                       1   \n",
       "12            9.5          9.5                0.0                      10   \n",
       "33           10.5         10.5                3.0                       4   \n",
       "\n",
       "    transactions_std  ...  transactions_mostRecentCommonSize_DaysDiff  \\\n",
       "7                0.0  ...                                       108.0   \n",
       "12               NaN  ...                                         NaN   \n",
       "33               NaN  ...                                         NaN   \n",
       "\n",
       "    queries_mostRecentCommonSize  filters_mostRecentCommonSize  \\\n",
       "7                            NaN                           NaN   \n",
       "12                           NaN                           9.5   \n",
       "33                           NaN                           7.5   \n",
       "\n",
       "    transactions_mostRecentCommonSize  \\\n",
       "7                                 8.0   \n",
       "12                                NaN   \n",
       "33                                NaN   \n",
       "\n",
       "    queries_mostRecentCommonSize_CountOfEvidence  \\\n",
       "7                                            NaN   \n",
       "12                                           NaN   \n",
       "33                                           NaN   \n",
       "\n",
       "    filters_mostRecentCommonSize_CountOfEvidence  \\\n",
       "7                                            NaN   \n",
       "12                                           1.0   \n",
       "33                                           1.0   \n",
       "\n",
       "    transactions_mostRecentCommonSize_CountOfEvidence  label_trx_dt  \\\n",
       "7                                                 1.0    2023-02-19   \n",
       "12                                                NaN    2023-03-24   \n",
       "33                                                NaN    2023-03-12   \n",
       "\n",
       "    label_user_size  label_trx_size  \n",
       "7          {8.0: 1}             8.0  \n",
       "12         {9.5: 1}             9.5  \n",
       "33         {7.0: 1}             7.0  \n",
       "\n",
       "[3 rows x 42 columns]"
      ]
     },
     "execution_count": 25,
     "metadata": {},
     "output_type": "execute_result"
    }
   ],
   "source": [
    "val.head(3)"
   ]
  },
  {
   "cell_type": "code",
   "execution_count": 26,
   "id": "06e3e571-d5bc-4726-8767-2dc63bdda062",
   "metadata": {},
   "outputs": [
    {
     "data": {
      "text/plain": [
       "(828136, 103522, 103363)"
      ]
     },
     "execution_count": 26,
     "metadata": {},
     "output_type": "execute_result"
    }
   ],
   "source": [
    "len(train), len(val), len(test)"
   ]
  },
  {
   "cell_type": "code",
   "execution_count": 27,
   "id": "aa3e8f0c-6ebf-4aa7-a7fb-44cc36ca6ba6",
   "metadata": {},
   "outputs": [
    {
     "data": {
      "text/plain": [
       "array([13. ,  6.5,  8.5, 10.5,  8. , 10. ,  9.5, 12. , 11. ,  6. , 12.5,\n",
       "        9. ,  7.5, 11.5, 14. ,  7. , 16. , 15. ,  5.5,  5. , 13.5,  4.5,\n",
       "       14.5, 15.5])"
      ]
     },
     "execution_count": 27,
     "metadata": {},
     "output_type": "execute_result"
    }
   ],
   "source": [
    "df_model_na.label_trx_size.unique()"
   ]
  },
  {
   "cell_type": "code",
   "execution_count": 28,
   "id": "d4182438-cc22-4912-b782-778e3b190bff",
   "metadata": {},
   "outputs": [
    {
     "data": {
      "text/plain": [
       "24"
      ]
     },
     "execution_count": 28,
     "metadata": {},
     "output_type": "execute_result"
    }
   ],
   "source": [
    "df_model_na.label_trx_size.nunique()"
   ]
  },
  {
   "cell_type": "raw",
   "id": "e498268d-0322-4243-a212-a7ad3c8f072d",
   "metadata": {},
   "source": [
    "only_features = [ 'merged_std', 'merged_mean',\n",
    "       'merged_median', 'merged_mode', 'merged_maxMinDiff','merged_countOfEvidence']"
   ]
  },
  {
   "cell_type": "code",
   "execution_count": 29,
   "id": "f1f8b82c-1bab-456a-b68b-8383de59822a",
   "metadata": {},
   "outputs": [],
   "source": [
    "TRAIN_COLS =only_features"
   ]
  },
  {
   "cell_type": "raw",
   "id": "56478f44-5bab-4ea5-8660-42b42e6354d0",
   "metadata": {},
   "source": [
    "\n",
    "dtrain = xgb.DMatrix(train[TRAIN_COLS], label=train['label_trx_size'].astype(str))\n",
    "dval = xgb.DMatrix(val[TRAIN_COLS], label=val['label_trx_size'].astype(str))\n",
    "dtest = xgb.DMatrix(test[TRAIN_COLS], label=test['label_trx_size'].astype(str))"
   ]
  },
  {
   "cell_type": "code",
   "execution_count": 30,
   "id": "81d6b284-b7f1-4470-9eff-b7f964da4b93",
   "metadata": {},
   "outputs": [
    {
     "data": {
      "text/plain": [
       "numpy.float64"
      ]
     },
     "execution_count": 30,
     "metadata": {},
     "output_type": "execute_result"
    }
   ],
   "source": [
    "type(train.loc[0,'label_trx_size'])"
   ]
  },
  {
   "cell_type": "code",
   "execution_count": 72,
   "id": "c18aadaa-4311-4915-9f1b-737c15208ffd",
   "metadata": {},
   "outputs": [
    {
     "data": {
      "text/plain": [
       "numpy.float64"
      ]
     },
     "execution_count": 72,
     "metadata": {},
     "output_type": "execute_result"
    }
   ],
   "source": [
    "type(train.loc[0,'merged_median'])"
   ]
  },
  {
   "cell_type": "raw",
   "id": "8a010bf9-7097-4412-bd81-41a537b33930",
   "metadata": {},
   "source": [
    "Evaluation metrics for validation data, a default metric will be assigned according to objective \n",
    "(rmse for regression, and logloss for classification, mean average precision for ranking)"
   ]
  },
  {
   "cell_type": "code",
   "execution_count": 31,
   "id": "8942a8f7-432f-4775-8245-ca4af8980250",
   "metadata": {},
   "outputs": [
    {
     "data": {
      "text/plain": [
       "user_id                                                int64\n",
       "leaf_id                                                int64\n",
       "merged_sizes_all_srcs                                 object\n",
       "merged_std                                           float64\n",
       "merged_mean                                          float64\n",
       "merged_median                                        float64\n",
       "merged_mode                                          float64\n",
       "merged_maxMinDiff                                    float64\n",
       "merged_countOfEvidence                                 int64\n",
       "transactions_std                                     float64\n",
       "transactions_mean                                    float64\n",
       "transactions_median                                  float64\n",
       "transactions_mode                                    float64\n",
       "transactions_maxMinDiff                              float64\n",
       "transactions_countOfEvidence                         float64\n",
       "queries_std                                          float64\n",
       "queries_mean                                         float64\n",
       "queries_median                                       float64\n",
       "queries_mode                                         float64\n",
       "queries_maxMinDiff                                   float64\n",
       "queries_countOfEvidence                              float64\n",
       "filters_std                                          float64\n",
       "filters_mean                                         float64\n",
       "filters_median                                       float64\n",
       "filters_mode                                         float64\n",
       "filters_maxMinDiff                                   float64\n",
       "filters_countOfEvidence                              float64\n",
       "mostRecentCommonSize_DaysDiff                          int64\n",
       "mostRecentCommonSize                                 float64\n",
       "mostRecentCommonSize_CountOfEvidence                 float64\n",
       "queries_mostRecentCommonSize_DaysDiff                float64\n",
       "filters_mostRecentCommonSize_DaysDiff                float64\n",
       "transactions_mostRecentCommonSize_DaysDiff           float64\n",
       "queries_mostRecentCommonSize                         float64\n",
       "filters_mostRecentCommonSize                         float64\n",
       "transactions_mostRecentCommonSize                    float64\n",
       "queries_mostRecentCommonSize_CountOfEvidence         float64\n",
       "filters_mostRecentCommonSize_CountOfEvidence         float64\n",
       "transactions_mostRecentCommonSize_CountOfEvidence    float64\n",
       "label_trx_dt                                          object\n",
       "label_user_size                                       object\n",
       "label_trx_size                                       float64\n",
       "dtype: object"
      ]
     },
     "execution_count": 31,
     "metadata": {},
     "output_type": "execute_result"
    }
   ],
   "source": [
    "df_model_na.dtypes"
   ]
  },
  {
   "cell_type": "code",
   "execution_count": 30,
   "id": "4ff8b7ba-bbf4-43b7-a826-e987aae6c74c",
   "metadata": {},
   "outputs": [
    {
     "data": {
      "text/plain": [
       "24"
      ]
     },
     "execution_count": 30,
     "metadata": {},
     "output_type": "execute_result"
    }
   ],
   "source": [
    "df_model_na.label_trx_size.nunique()"
   ]
  },
  {
   "cell_type": "code",
   "execution_count": 31,
   "id": "82a47636-2559-4e41-b2f5-c50866f3ffde",
   "metadata": {},
   "outputs": [],
   "source": [
    "train_cols =only_features"
   ]
  },
  {
   "cell_type": "markdown",
   "id": "45c09ab4-601d-4da7-8d18-8a4d09048801",
   "metadata": {
    "tags": []
   },
   "source": [
    "## 1. xgboost:"
   ]
  },
  {
   "cell_type": "code",
   "execution_count": 32,
   "id": "0d76a839-c62e-43c6-9aa9-ea03289d967e",
   "metadata": {},
   "outputs": [],
   "source": [
    "param = {'max_depth': 4, 'min_child_weight': 4, 'eta': 0.3,'subsample':1,  'objective': 'multi:softmax','num_class': df_model_na.label_trx_size.nunique()}\n",
    "param['nthread'] = 2\n",
    "param['eval_metric'] = [  'mlogloss', 'merror']\n",
    "#'auc',\n",
    "evallist = [(dval, 'eval'), (dtrain, 'train')]\n",
    "num_round = 20\n",
    "early_stopping_rounds=5"
   ]
  },
  {
   "cell_type": "code",
   "execution_count": 33,
   "id": "6bbaa157-a699-4e38-9c17-07c3eeab227e",
   "metadata": {},
   "outputs": [
    {
     "data": {
      "text/plain": [
       "{'max_depth': 4,\n",
       " 'min_child_weight': 4,\n",
       " 'eta': 0.3,\n",
       " 'subsample': 1,\n",
       " 'objective': 'multi:softmax',\n",
       " 'num_class': 24,\n",
       " 'nthread': 2,\n",
       " 'eval_metric': ['mlogloss', 'merror']}"
      ]
     },
     "execution_count": 33,
     "metadata": {},
     "output_type": "execute_result"
    }
   ],
   "source": [
    "param"
   ]
  },
  {
   "cell_type": "code",
   "execution_count": 34,
   "id": "131fe2f6-c387-43e6-898d-7d58ebea0da0",
   "metadata": {
    "scrolled": true,
    "tags": []
   },
   "outputs": [
    {
     "name": "stdout",
     "output_type": "stream",
     "text": [
      "[0]\teval-mlogloss:2.11908\teval-merror:0.44135\ttrain-mlogloss:2.11438\ttrain-merror:0.44106\n",
      "[1]\teval-mlogloss:1.93944\teval-merror:0.42542\ttrain-mlogloss:1.93469\ttrain-merror:0.42601\n",
      "[2]\teval-mlogloss:1.81227\teval-merror:0.43039\ttrain-mlogloss:1.80833\ttrain-merror:0.43046\n",
      "[3]\teval-mlogloss:1.71788\teval-merror:0.43297\ttrain-mlogloss:1.71262\ttrain-merror:0.43278\n",
      "[4]\teval-mlogloss:1.64406\teval-merror:0.43200\ttrain-mlogloss:1.63964\ttrain-merror:0.43180\n",
      "[5]\teval-mlogloss:1.58529\teval-merror:0.43315\ttrain-mlogloss:1.58040\ttrain-merror:0.43283\n",
      "[6]\teval-mlogloss:1.53721\teval-merror:0.43300\ttrain-mlogloss:1.53221\ttrain-merror:0.43267\n",
      "[7]\teval-mlogloss:1.49712\teval-merror:0.42917\ttrain-mlogloss:1.49213\ttrain-merror:0.42930\n",
      "[8]\teval-mlogloss:1.46376\teval-merror:0.42865\ttrain-mlogloss:1.45789\ttrain-merror:0.42877\n",
      "[9]\teval-mlogloss:1.43554\teval-merror:0.42856\ttrain-mlogloss:1.43056\ttrain-merror:0.42874\n",
      "[10]\teval-mlogloss:1.40974\teval-merror:0.42819\ttrain-mlogloss:1.40446\ttrain-merror:0.42850\n",
      "[11]\teval-mlogloss:1.38674\teval-merror:0.42758\ttrain-mlogloss:1.38140\ttrain-merror:0.42810\n",
      "[12]\teval-mlogloss:1.36661\teval-merror:0.42530\ttrain-mlogloss:1.36111\ttrain-merror:0.42593\n",
      "[13]\teval-mlogloss:1.34855\teval-merror:0.42596\ttrain-mlogloss:1.34339\ttrain-merror:0.42619\n",
      "[14]\teval-mlogloss:1.33231\teval-merror:0.42524\ttrain-mlogloss:1.32681\ttrain-merror:0.42527\n",
      "[15]\teval-mlogloss:1.31913\teval-merror:0.42685\ttrain-mlogloss:1.31388\ttrain-merror:0.42654\n",
      "[16]\teval-mlogloss:1.30718\teval-merror:0.42676\ttrain-mlogloss:1.30169\ttrain-merror:0.42667\n",
      "[17]\teval-mlogloss:1.29606\teval-merror:0.42596\ttrain-mlogloss:1.29093\ttrain-merror:0.42588\n",
      "[18]\teval-mlogloss:1.28616\teval-merror:0.42361\ttrain-mlogloss:1.28082\ttrain-merror:0.42372\n",
      "[19]\teval-mlogloss:1.27674\teval-merror:0.42339\ttrain-mlogloss:1.27131\ttrain-merror:0.42346\n"
     ]
    }
   ],
   "source": [
    "bst = xgb.train(param, dtrain, num_round, evallist)"
   ]
  },
  {
   "cell_type": "code",
   "execution_count": 35,
   "id": "753c85e0-dbc4-4738-981e-eb8a19385c1a",
   "metadata": {},
   "outputs": [
    {
     "data": {
      "text/plain": [
       "20"
      ]
     },
     "execution_count": 35,
     "metadata": {},
     "output_type": "execute_result"
    }
   ],
   "source": [
    "bst.best_ntree_limit"
   ]
  },
  {
   "cell_type": "code",
   "execution_count": 36,
   "id": "a974f2f5-d2b5-4a2b-8116-b2a997fdf0d5",
   "metadata": {},
   "outputs": [],
   "source": [
    "ntree_limit=bst.best_ntree_limit"
   ]
  },
  {
   "cell_type": "code",
   "execution_count": 37,
   "id": "034eb317-cc44-453f-bb7e-20aea564e858",
   "metadata": {},
   "outputs": [
    {
     "data": {
      "text/plain": [
       "20"
      ]
     },
     "execution_count": 37,
     "metadata": {},
     "output_type": "execute_result"
    }
   ],
   "source": [
    "ntree_limit"
   ]
  },
  {
   "cell_type": "code",
   "execution_count": 38,
   "id": "0b5e07a9-31a2-4698-ad6c-0c15a25fb9b5",
   "metadata": {},
   "outputs": [
    {
     "name": "stderr",
     "output_type": "stream",
     "text": [
      "/opt/conda/lib/python3.7/site-packages/xgboost/core.py:104: UserWarning: ntree_limit is deprecated, use `iteration_range` or model slicing instead.\n",
      "  UserWarning\n"
     ]
    }
   ],
   "source": [
    "a = bst.predict(dtest, ntree_limit=bst.best_ntree_limit)"
   ]
  },
  {
   "cell_type": "code",
   "execution_count": 39,
   "id": "fd693d08-7394-4a6b-badf-0c6e77ad660c",
   "metadata": {},
   "outputs": [
    {
     "data": {
      "text/plain": [
       "array([10.,  7., 11., ..., 10., 10., 13.], dtype=float32)"
      ]
     },
     "execution_count": 39,
     "metadata": {},
     "output_type": "execute_result"
    }
   ],
   "source": [
    "a"
   ]
  },
  {
   "cell_type": "code",
   "execution_count": 40,
   "id": "02e6846b-5d82-48ba-adaf-e92e3635dbf0",
   "metadata": {},
   "outputs": [],
   "source": [
    "ypred = bst.predict(dtest, ntree_limit=bst.best_ntree_limit)\n",
    "test['pred'] = ypred"
   ]
  },
  {
   "cell_type": "markdown",
   "id": "6eb4ee22-f156-4225-a062-95941e16598b",
   "metadata": {
    "tags": []
   },
   "source": [
    "### micro precison:"
   ]
  },
  {
   "cell_type": "code",
   "execution_count": 52,
   "id": "98811023-438a-495a-a5e1-f0908b8b1fc5",
   "metadata": {},
   "outputs": [
    {
     "data": {
      "text/html": [
       "<div>\n",
       "<style scoped>\n",
       "    .dataframe tbody tr th:only-of-type {\n",
       "        vertical-align: middle;\n",
       "    }\n",
       "\n",
       "    .dataframe tbody tr th {\n",
       "        vertical-align: top;\n",
       "    }\n",
       "\n",
       "    .dataframe thead th {\n",
       "        text-align: right;\n",
       "    }\n",
       "</style>\n",
       "<table border=\"1\" class=\"dataframe\">\n",
       "  <thead>\n",
       "    <tr style=\"text-align: right;\">\n",
       "      <th></th>\n",
       "      <th>gain</th>\n",
       "    </tr>\n",
       "  </thead>\n",
       "  <tbody>\n",
       "    <tr>\n",
       "      <th>merged_median</th>\n",
       "      <td>3553.679402</td>\n",
       "    </tr>\n",
       "    <tr>\n",
       "      <th>merged_mode</th>\n",
       "      <td>2293.392339</td>\n",
       "    </tr>\n",
       "    <tr>\n",
       "      <th>merged_std</th>\n",
       "      <td>104.117464</td>\n",
       "    </tr>\n",
       "    <tr>\n",
       "      <th>merged_mean</th>\n",
       "      <td>97.073387</td>\n",
       "    </tr>\n",
       "    <tr>\n",
       "      <th>merged_countOfEvidence</th>\n",
       "      <td>88.237058</td>\n",
       "    </tr>\n",
       "    <tr>\n",
       "      <th>merged_maxMinDiff</th>\n",
       "      <td>18.452472</td>\n",
       "    </tr>\n",
       "  </tbody>\n",
       "</table>\n",
       "</div>"
      ],
      "text/plain": [
       "                               gain\n",
       "merged_median           3553.679402\n",
       "merged_mode             2293.392339\n",
       "merged_std               104.117464\n",
       "merged_mean               97.073387\n",
       "merged_countOfEvidence    88.237058\n",
       "merged_maxMinDiff         18.452472"
      ]
     },
     "execution_count": 52,
     "metadata": {},
     "output_type": "execute_result"
    }
   ],
   "source": [
    "gain_importance_df =pd.DataFrame.from_dict(gain_importance, orient = 'index')\n",
    "gain_importance_df.columns = ['gain']\n",
    "gain_importance_df.sort_values('gain', ascending=False)"
   ]
  },
  {
   "cell_type": "code",
   "execution_count": 32,
   "id": "829b70c0-2078-4228-b6a7-74dcf0cff548",
   "metadata": {},
   "outputs": [],
   "source": [
    "from sklearn.metrics import precision_score"
   ]
  },
  {
   "cell_type": "code",
   "execution_count": 29,
   "id": "0ad445e0-0107-4517-bdb9-e31ec5b15438",
   "metadata": {},
   "outputs": [],
   "source": [
    "y_true=test['label_trx_size'].astype(str).tolist()\n",
    "y_pred_stat=test['merged_mode'].astype(str).tolist()"
   ]
  },
  {
   "cell_type": "code",
   "execution_count": 33,
   "id": "ceeeb398-87bb-4027-8a95-ccd3ac1cf950",
   "metadata": {},
   "outputs": [
    {
     "data": {
      "text/plain": [
       "0.6166877541362025"
      ]
     },
     "execution_count": 33,
     "metadata": {},
     "output_type": "execute_result"
    }
   ],
   "source": [
    "precision_score(y_true, y_pred_stat, average='micro')"
   ]
  },
  {
   "cell_type": "code",
   "execution_count": null,
   "id": "9e8e1927-e388-47d8-ac81-2c8a3e3af9b0",
   "metadata": {},
   "outputs": [],
   "source": [
    "#Precision of median as predictor: #Precision of median as predictor: "
   ]
  },
  {
   "cell_type": "code",
   "execution_count": 64,
   "id": "ed1b2fd0-57e9-4521-bc2d-916473a36a24",
   "metadata": {},
   "outputs": [
    {
     "data": {
      "text/plain": [
       "0.591566299970059"
      ]
     },
     "execution_count": 64,
     "metadata": {},
     "output_type": "execute_result"
    }
   ],
   "source": [
    "y_true=test['label_trx_size'].astype(str).tolist()\n",
    "y_pred_stat=test['merged_median'].astype(str).tolist()\n",
    "precision_score(y_true, y_pred_stat, average='micro')"
   ]
  },
  {
   "cell_type": "code",
   "execution_count": 65,
   "id": "ee9f01b6-245e-477f-b38e-e7a91bb9d273",
   "metadata": {},
   "outputs": [],
   "source": [
    "#Precision of mean as predictor: "
   ]
  },
  {
   "cell_type": "code",
   "execution_count": 34,
   "id": "8433262d-f6e8-4a9e-b219-50c65e21ba1f",
   "metadata": {},
   "outputs": [
    {
     "data": {
      "text/plain": [
       "0.4435129470624028"
      ]
     },
     "execution_count": 34,
     "metadata": {},
     "output_type": "execute_result"
    }
   ],
   "source": [
    "y_true=test['label_trx_size'].astype(str).tolist()\n",
    "y_pred_stat=test['merged_mean'].astype(str).tolist()\n",
    "precision_score(y_true, y_pred_stat, average='micro')"
   ]
  },
  {
   "cell_type": "code",
   "execution_count": 68,
   "id": "91736e6c-be5b-4534-968d-351a7e76c1f0",
   "metadata": {},
   "outputs": [],
   "source": [
    "from sklearn.ensemble import RandomForestClassifier\n",
    "from sklearn.datasets import make_classification\n",
    "\n",
    "y_train=train['label_trx_size'].astype(str)\n",
    "train_f=train[only_features] \n",
    "test_f=test[only_features] \n",
    "val_f=val[only_features] "
   ]
  },
  {
   "cell_type": "code",
   "execution_count": 69,
   "id": "bac373e7-0c08-4ba5-81b0-6ec90231fda0",
   "metadata": {},
   "outputs": [
    {
     "data": {
      "text/plain": [
       "RandomForestClassifier(max_depth=12, random_state=0)"
      ]
     },
     "execution_count": 69,
     "metadata": {},
     "output_type": "execute_result"
    }
   ],
   "source": [
    "clf = RandomForestClassifier(max_depth=12 , n_estimators=100, random_state=0 )\n",
    "clf.fit(train_f, y_train)"
   ]
  },
  {
   "cell_type": "code",
   "execution_count": 70,
   "id": "e5fcd39b-0758-44bd-be39-5a02d4149a12",
   "metadata": {},
   "outputs": [],
   "source": [
    "rf_predict= clf.predict(test_f)"
   ]
  },
  {
   "cell_type": "code",
   "execution_count": 71,
   "id": "9908daed-9949-4e65-ae13-684539cae2a0",
   "metadata": {},
   "outputs": [],
   "source": [
    "test['pred_rf'] = rf_predict"
   ]
  },
  {
   "cell_type": "code",
   "execution_count": 72,
   "id": "7a5c25ed-7729-4d0e-ae08-e1ee1d165e1b",
   "metadata": {},
   "outputs": [
    {
     "data": {
      "text/plain": [
       "0.6216231878458909"
      ]
     },
     "execution_count": 72,
     "metadata": {},
     "output_type": "execute_result"
    }
   ],
   "source": [
    "from sklearn.metrics import precision_score\n",
    "#Calculate metrics globally by counting the total true positives, false negatives and false positives.\n",
    "\n",
    "precision_score(y_true=test['label_trx_size'].astype(str).tolist(), y_pred=test['pred_rf'].astype(str).tolist(), average='micro')"
   ]
  },
  {
   "cell_type": "code",
   "execution_count": 353,
   "id": "360498c8-f654-4412-918f-046b5e9cf39a",
   "metadata": {
    "scrolled": true,
    "tags": []
   },
   "outputs": [
    {
     "data": {
      "text/html": [
       "<div>\n",
       "<style scoped>\n",
       "    .dataframe tbody tr th:only-of-type {\n",
       "        vertical-align: middle;\n",
       "    }\n",
       "\n",
       "    .dataframe tbody tr th {\n",
       "        vertical-align: top;\n",
       "    }\n",
       "\n",
       "    .dataframe thead th {\n",
       "        text-align: right;\n",
       "    }\n",
       "</style>\n",
       "<table border=\"1\" class=\"dataframe\">\n",
       "  <thead>\n",
       "    <tr style=\"text-align: right;\">\n",
       "      <th></th>\n",
       "      <th>user_id</th>\n",
       "      <th>leaf_id</th>\n",
       "      <th>merged_std</th>\n",
       "      <th>merged_mean</th>\n",
       "      <th>merged_median</th>\n",
       "      <th>merged_mode</th>\n",
       "      <th>merged_maxMinDiff</th>\n",
       "      <th>merged_countOfEvidence</th>\n",
       "      <th>label_trx_size</th>\n",
       "      <th>pred</th>\n",
       "      <th>pred_mode</th>\n",
       "      <th>pred_rf</th>\n",
       "    </tr>\n",
       "  </thead>\n",
       "  <tbody>\n",
       "    <tr>\n",
       "      <th>8</th>\n",
       "      <td>2741</td>\n",
       "      <td>95672</td>\n",
       "      <td>0.000000</td>\n",
       "      <td>8.500000</td>\n",
       "      <td>8.5</td>\n",
       "      <td>8.5</td>\n",
       "      <td>0.0</td>\n",
       "      <td>2</td>\n",
       "      <td>8.5</td>\n",
       "      <td>9.0</td>\n",
       "      <td>9.0</td>\n",
       "      <td>8.5</td>\n",
       "    </tr>\n",
       "    <tr>\n",
       "      <th>40</th>\n",
       "      <td>11010</td>\n",
       "      <td>15709</td>\n",
       "      <td>0.000000</td>\n",
       "      <td>14.000000</td>\n",
       "      <td>14.0</td>\n",
       "      <td>14.0</td>\n",
       "      <td>0.0</td>\n",
       "      <td>4</td>\n",
       "      <td>14.0</td>\n",
       "      <td>14.0</td>\n",
       "      <td>14.0</td>\n",
       "      <td>14.0</td>\n",
       "    </tr>\n",
       "    <tr>\n",
       "      <th>55</th>\n",
       "      <td>14355</td>\n",
       "      <td>15709</td>\n",
       "      <td>0.000000</td>\n",
       "      <td>10.500000</td>\n",
       "      <td>10.5</td>\n",
       "      <td>10.5</td>\n",
       "      <td>0.0</td>\n",
       "      <td>3</td>\n",
       "      <td>10.5</td>\n",
       "      <td>11.0</td>\n",
       "      <td>11.0</td>\n",
       "      <td>10.5</td>\n",
       "    </tr>\n",
       "    <tr>\n",
       "      <th>56</th>\n",
       "      <td>14468</td>\n",
       "      <td>95672</td>\n",
       "      <td>0.276385</td>\n",
       "      <td>7.583333</td>\n",
       "      <td>7.5</td>\n",
       "      <td>7.5</td>\n",
       "      <td>1.0</td>\n",
       "      <td>12</td>\n",
       "      <td>7.5</td>\n",
       "      <td>8.0</td>\n",
       "      <td>8.0</td>\n",
       "      <td>7.5</td>\n",
       "    </tr>\n",
       "    <tr>\n",
       "      <th>65</th>\n",
       "      <td>19016</td>\n",
       "      <td>15709</td>\n",
       "      <td>0.000000</td>\n",
       "      <td>10.000000</td>\n",
       "      <td>10.0</td>\n",
       "      <td>10.0</td>\n",
       "      <td>0.0</td>\n",
       "      <td>16</td>\n",
       "      <td>10.0</td>\n",
       "      <td>10.0</td>\n",
       "      <td>10.0</td>\n",
       "      <td>10.0</td>\n",
       "    </tr>\n",
       "    <tr>\n",
       "      <th>76</th>\n",
       "      <td>22439</td>\n",
       "      <td>15709</td>\n",
       "      <td>0.000000</td>\n",
       "      <td>10.000000</td>\n",
       "      <td>10.0</td>\n",
       "      <td>10.0</td>\n",
       "      <td>0.0</td>\n",
       "      <td>6</td>\n",
       "      <td>10.0</td>\n",
       "      <td>10.0</td>\n",
       "      <td>10.0</td>\n",
       "      <td>10.0</td>\n",
       "    </tr>\n",
       "    <tr>\n",
       "      <th>84</th>\n",
       "      <td>23437</td>\n",
       "      <td>15709</td>\n",
       "      <td>0.000000</td>\n",
       "      <td>9.500000</td>\n",
       "      <td>9.5</td>\n",
       "      <td>9.5</td>\n",
       "      <td>0.0</td>\n",
       "      <td>2</td>\n",
       "      <td>9.5</td>\n",
       "      <td>10.0</td>\n",
       "      <td>10.0</td>\n",
       "      <td>9.5</td>\n",
       "    </tr>\n",
       "    <tr>\n",
       "      <th>91</th>\n",
       "      <td>24595</td>\n",
       "      <td>95672</td>\n",
       "      <td>0.000000</td>\n",
       "      <td>10.000000</td>\n",
       "      <td>10.0</td>\n",
       "      <td>10.0</td>\n",
       "      <td>0.0</td>\n",
       "      <td>1</td>\n",
       "      <td>10.0</td>\n",
       "      <td>10.0</td>\n",
       "      <td>10.0</td>\n",
       "      <td>10.0</td>\n",
       "    </tr>\n",
       "    <tr>\n",
       "      <th>109</th>\n",
       "      <td>29259</td>\n",
       "      <td>15709</td>\n",
       "      <td>0.000000</td>\n",
       "      <td>12.000000</td>\n",
       "      <td>12.0</td>\n",
       "      <td>12.0</td>\n",
       "      <td>0.0</td>\n",
       "      <td>1</td>\n",
       "      <td>12.0</td>\n",
       "      <td>12.0</td>\n",
       "      <td>12.0</td>\n",
       "      <td>12.0</td>\n",
       "    </tr>\n",
       "    <tr>\n",
       "      <th>124</th>\n",
       "      <td>34305</td>\n",
       "      <td>15709</td>\n",
       "      <td>0.000000</td>\n",
       "      <td>10.000000</td>\n",
       "      <td>10.0</td>\n",
       "      <td>10.0</td>\n",
       "      <td>0.0</td>\n",
       "      <td>1</td>\n",
       "      <td>10.0</td>\n",
       "      <td>10.0</td>\n",
       "      <td>10.0</td>\n",
       "      <td>10.0</td>\n",
       "    </tr>\n",
       "    <tr>\n",
       "      <th>133</th>\n",
       "      <td>37770</td>\n",
       "      <td>15709</td>\n",
       "      <td>0.000000</td>\n",
       "      <td>12.000000</td>\n",
       "      <td>12.0</td>\n",
       "      <td>12.0</td>\n",
       "      <td>0.0</td>\n",
       "      <td>16</td>\n",
       "      <td>12.0</td>\n",
       "      <td>12.0</td>\n",
       "      <td>12.0</td>\n",
       "      <td>12.0</td>\n",
       "    </tr>\n",
       "    <tr>\n",
       "      <th>138</th>\n",
       "      <td>38881</td>\n",
       "      <td>95672</td>\n",
       "      <td>0.000000</td>\n",
       "      <td>6.000000</td>\n",
       "      <td>6.0</td>\n",
       "      <td>6.0</td>\n",
       "      <td>0.0</td>\n",
       "      <td>6</td>\n",
       "      <td>6.0</td>\n",
       "      <td>6.0</td>\n",
       "      <td>6.0</td>\n",
       "      <td>6.0</td>\n",
       "    </tr>\n",
       "    <tr>\n",
       "      <th>146</th>\n",
       "      <td>40664</td>\n",
       "      <td>95672</td>\n",
       "      <td>0.000000</td>\n",
       "      <td>10.000000</td>\n",
       "      <td>10.0</td>\n",
       "      <td>10.0</td>\n",
       "      <td>0.0</td>\n",
       "      <td>1</td>\n",
       "      <td>10.0</td>\n",
       "      <td>10.0</td>\n",
       "      <td>10.0</td>\n",
       "      <td>10.0</td>\n",
       "    </tr>\n",
       "    <tr>\n",
       "      <th>160</th>\n",
       "      <td>44141</td>\n",
       "      <td>15709</td>\n",
       "      <td>0.000000</td>\n",
       "      <td>13.000000</td>\n",
       "      <td>13.0</td>\n",
       "      <td>13.0</td>\n",
       "      <td>0.0</td>\n",
       "      <td>2</td>\n",
       "      <td>13.0</td>\n",
       "      <td>13.0</td>\n",
       "      <td>13.0</td>\n",
       "      <td>13.0</td>\n",
       "    </tr>\n",
       "    <tr>\n",
       "      <th>167</th>\n",
       "      <td>44971</td>\n",
       "      <td>15709</td>\n",
       "      <td>0.000000</td>\n",
       "      <td>9.500000</td>\n",
       "      <td>9.5</td>\n",
       "      <td>9.5</td>\n",
       "      <td>0.0</td>\n",
       "      <td>5</td>\n",
       "      <td>10.5</td>\n",
       "      <td>9.0</td>\n",
       "      <td>10.0</td>\n",
       "      <td>9.5</td>\n",
       "    </tr>\n",
       "    <tr>\n",
       "      <th>178</th>\n",
       "      <td>48112</td>\n",
       "      <td>15709</td>\n",
       "      <td>1.204576</td>\n",
       "      <td>8.328947</td>\n",
       "      <td>8.5</td>\n",
       "      <td>9.0</td>\n",
       "      <td>5.0</td>\n",
       "      <td>38</td>\n",
       "      <td>12.0</td>\n",
       "      <td>9.0</td>\n",
       "      <td>9.0</td>\n",
       "      <td>9.0</td>\n",
       "    </tr>\n",
       "    <tr>\n",
       "      <th>184</th>\n",
       "      <td>50123</td>\n",
       "      <td>15709</td>\n",
       "      <td>0.249361</td>\n",
       "      <td>8.732143</td>\n",
       "      <td>8.5</td>\n",
       "      <td>8.5</td>\n",
       "      <td>0.5</td>\n",
       "      <td>28</td>\n",
       "      <td>8.5</td>\n",
       "      <td>9.0</td>\n",
       "      <td>9.0</td>\n",
       "      <td>8.5</td>\n",
       "    </tr>\n",
       "    <tr>\n",
       "      <th>197</th>\n",
       "      <td>53953</td>\n",
       "      <td>15709</td>\n",
       "      <td>0.000000</td>\n",
       "      <td>10.000000</td>\n",
       "      <td>10.0</td>\n",
       "      <td>10.0</td>\n",
       "      <td>0.0</td>\n",
       "      <td>1</td>\n",
       "      <td>10.5</td>\n",
       "      <td>10.0</td>\n",
       "      <td>10.0</td>\n",
       "      <td>10.0</td>\n",
       "    </tr>\n",
       "    <tr>\n",
       "      <th>216</th>\n",
       "      <td>59136</td>\n",
       "      <td>15709</td>\n",
       "      <td>0.000000</td>\n",
       "      <td>11.000000</td>\n",
       "      <td>11.0</td>\n",
       "      <td>11.0</td>\n",
       "      <td>0.0</td>\n",
       "      <td>1</td>\n",
       "      <td>11.0</td>\n",
       "      <td>11.0</td>\n",
       "      <td>11.0</td>\n",
       "      <td>11.0</td>\n",
       "    </tr>\n",
       "    <tr>\n",
       "      <th>217</th>\n",
       "      <td>59552</td>\n",
       "      <td>95672</td>\n",
       "      <td>0.000000</td>\n",
       "      <td>6.000000</td>\n",
       "      <td>6.0</td>\n",
       "      <td>6.0</td>\n",
       "      <td>0.0</td>\n",
       "      <td>1</td>\n",
       "      <td>6.0</td>\n",
       "      <td>6.0</td>\n",
       "      <td>6.0</td>\n",
       "      <td>6.0</td>\n",
       "    </tr>\n",
       "    <tr>\n",
       "      <th>219</th>\n",
       "      <td>59839</td>\n",
       "      <td>15709</td>\n",
       "      <td>0.297560</td>\n",
       "      <td>11.125000</td>\n",
       "      <td>11.0</td>\n",
       "      <td>11.0</td>\n",
       "      <td>1.0</td>\n",
       "      <td>24</td>\n",
       "      <td>11.0</td>\n",
       "      <td>11.0</td>\n",
       "      <td>11.0</td>\n",
       "      <td>11.0</td>\n",
       "    </tr>\n",
       "    <tr>\n",
       "      <th>266</th>\n",
       "      <td>75056</td>\n",
       "      <td>95672</td>\n",
       "      <td>0.000000</td>\n",
       "      <td>9.000000</td>\n",
       "      <td>9.0</td>\n",
       "      <td>9.0</td>\n",
       "      <td>0.0</td>\n",
       "      <td>1</td>\n",
       "      <td>9.0</td>\n",
       "      <td>9.0</td>\n",
       "      <td>9.0</td>\n",
       "      <td>9.0</td>\n",
       "    </tr>\n",
       "    <tr>\n",
       "      <th>279</th>\n",
       "      <td>80571</td>\n",
       "      <td>95672</td>\n",
       "      <td>0.000000</td>\n",
       "      <td>11.000000</td>\n",
       "      <td>11.0</td>\n",
       "      <td>11.0</td>\n",
       "      <td>0.0</td>\n",
       "      <td>4</td>\n",
       "      <td>11.0</td>\n",
       "      <td>11.0</td>\n",
       "      <td>11.0</td>\n",
       "      <td>11.0</td>\n",
       "    </tr>\n",
       "    <tr>\n",
       "      <th>283</th>\n",
       "      <td>82904</td>\n",
       "      <td>15709</td>\n",
       "      <td>0.000000</td>\n",
       "      <td>13.000000</td>\n",
       "      <td>13.0</td>\n",
       "      <td>13.0</td>\n",
       "      <td>0.0</td>\n",
       "      <td>2</td>\n",
       "      <td>13.0</td>\n",
       "      <td>13.0</td>\n",
       "      <td>13.0</td>\n",
       "      <td>13.0</td>\n",
       "    </tr>\n",
       "    <tr>\n",
       "      <th>288</th>\n",
       "      <td>85039</td>\n",
       "      <td>95672</td>\n",
       "      <td>0.000000</td>\n",
       "      <td>9.000000</td>\n",
       "      <td>9.0</td>\n",
       "      <td>9.0</td>\n",
       "      <td>0.0</td>\n",
       "      <td>1</td>\n",
       "      <td>9.0</td>\n",
       "      <td>9.0</td>\n",
       "      <td>9.0</td>\n",
       "      <td>9.0</td>\n",
       "    </tr>\n",
       "    <tr>\n",
       "      <th>296</th>\n",
       "      <td>87761</td>\n",
       "      <td>15709</td>\n",
       "      <td>0.000000</td>\n",
       "      <td>10.000000</td>\n",
       "      <td>10.0</td>\n",
       "      <td>10.0</td>\n",
       "      <td>0.0</td>\n",
       "      <td>1</td>\n",
       "      <td>10.5</td>\n",
       "      <td>10.0</td>\n",
       "      <td>10.0</td>\n",
       "      <td>10.0</td>\n",
       "    </tr>\n",
       "    <tr>\n",
       "      <th>302</th>\n",
       "      <td>90094</td>\n",
       "      <td>15709</td>\n",
       "      <td>0.500000</td>\n",
       "      <td>13.500000</td>\n",
       "      <td>13.5</td>\n",
       "      <td>13.0</td>\n",
       "      <td>1.0</td>\n",
       "      <td>2</td>\n",
       "      <td>13.0</td>\n",
       "      <td>13.0</td>\n",
       "      <td>13.0</td>\n",
       "      <td>13.0</td>\n",
       "    </tr>\n",
       "    <tr>\n",
       "      <th>311</th>\n",
       "      <td>93738</td>\n",
       "      <td>95672</td>\n",
       "      <td>0.000000</td>\n",
       "      <td>11.000000</td>\n",
       "      <td>11.0</td>\n",
       "      <td>11.0</td>\n",
       "      <td>0.0</td>\n",
       "      <td>2</td>\n",
       "      <td>11.0</td>\n",
       "      <td>11.0</td>\n",
       "      <td>11.0</td>\n",
       "      <td>11.0</td>\n",
       "    </tr>\n",
       "    <tr>\n",
       "      <th>350</th>\n",
       "      <td>102118</td>\n",
       "      <td>15709</td>\n",
       "      <td>0.000000</td>\n",
       "      <td>8.500000</td>\n",
       "      <td>8.5</td>\n",
       "      <td>8.5</td>\n",
       "      <td>0.0</td>\n",
       "      <td>1</td>\n",
       "      <td>8.5</td>\n",
       "      <td>9.0</td>\n",
       "      <td>9.0</td>\n",
       "      <td>8.5</td>\n",
       "    </tr>\n",
       "    <tr>\n",
       "      <th>364</th>\n",
       "      <td>107443</td>\n",
       "      <td>95672</td>\n",
       "      <td>0.000000</td>\n",
       "      <td>9.500000</td>\n",
       "      <td>9.5</td>\n",
       "      <td>9.5</td>\n",
       "      <td>0.0</td>\n",
       "      <td>1</td>\n",
       "      <td>9.5</td>\n",
       "      <td>10.0</td>\n",
       "      <td>10.0</td>\n",
       "      <td>9.5</td>\n",
       "    </tr>\n",
       "  </tbody>\n",
       "</table>\n",
       "</div>"
      ],
      "text/plain": [
       "    user_id leaf_id  merged_std  merged_mean  merged_median  merged_mode  \\\n",
       "8      2741   95672    0.000000     8.500000            8.5          8.5   \n",
       "40    11010   15709    0.000000    14.000000           14.0         14.0   \n",
       "55    14355   15709    0.000000    10.500000           10.5         10.5   \n",
       "56    14468   95672    0.276385     7.583333            7.5          7.5   \n",
       "65    19016   15709    0.000000    10.000000           10.0         10.0   \n",
       "76    22439   15709    0.000000    10.000000           10.0         10.0   \n",
       "84    23437   15709    0.000000     9.500000            9.5          9.5   \n",
       "91    24595   95672    0.000000    10.000000           10.0         10.0   \n",
       "109   29259   15709    0.000000    12.000000           12.0         12.0   \n",
       "124   34305   15709    0.000000    10.000000           10.0         10.0   \n",
       "133   37770   15709    0.000000    12.000000           12.0         12.0   \n",
       "138   38881   95672    0.000000     6.000000            6.0          6.0   \n",
       "146   40664   95672    0.000000    10.000000           10.0         10.0   \n",
       "160   44141   15709    0.000000    13.000000           13.0         13.0   \n",
       "167   44971   15709    0.000000     9.500000            9.5          9.5   \n",
       "178   48112   15709    1.204576     8.328947            8.5          9.0   \n",
       "184   50123   15709    0.249361     8.732143            8.5          8.5   \n",
       "197   53953   15709    0.000000    10.000000           10.0         10.0   \n",
       "216   59136   15709    0.000000    11.000000           11.0         11.0   \n",
       "217   59552   95672    0.000000     6.000000            6.0          6.0   \n",
       "219   59839   15709    0.297560    11.125000           11.0         11.0   \n",
       "266   75056   95672    0.000000     9.000000            9.0          9.0   \n",
       "279   80571   95672    0.000000    11.000000           11.0         11.0   \n",
       "283   82904   15709    0.000000    13.000000           13.0         13.0   \n",
       "288   85039   95672    0.000000     9.000000            9.0          9.0   \n",
       "296   87761   15709    0.000000    10.000000           10.0         10.0   \n",
       "302   90094   15709    0.500000    13.500000           13.5         13.0   \n",
       "311   93738   95672    0.000000    11.000000           11.0         11.0   \n",
       "350  102118   15709    0.000000     8.500000            8.5          8.5   \n",
       "364  107443   95672    0.000000     9.500000            9.5          9.5   \n",
       "\n",
       "     merged_maxMinDiff  merged_countOfEvidence  label_trx_size  pred  \\\n",
       "8                  0.0                       2             8.5   9.0   \n",
       "40                 0.0                       4            14.0  14.0   \n",
       "55                 0.0                       3            10.5  11.0   \n",
       "56                 1.0                      12             7.5   8.0   \n",
       "65                 0.0                      16            10.0  10.0   \n",
       "76                 0.0                       6            10.0  10.0   \n",
       "84                 0.0                       2             9.5  10.0   \n",
       "91                 0.0                       1            10.0  10.0   \n",
       "109                0.0                       1            12.0  12.0   \n",
       "124                0.0                       1            10.0  10.0   \n",
       "133                0.0                      16            12.0  12.0   \n",
       "138                0.0                       6             6.0   6.0   \n",
       "146                0.0                       1            10.0  10.0   \n",
       "160                0.0                       2            13.0  13.0   \n",
       "167                0.0                       5            10.5   9.0   \n",
       "178                5.0                      38            12.0   9.0   \n",
       "184                0.5                      28             8.5   9.0   \n",
       "197                0.0                       1            10.5  10.0   \n",
       "216                0.0                       1            11.0  11.0   \n",
       "217                0.0                       1             6.0   6.0   \n",
       "219                1.0                      24            11.0  11.0   \n",
       "266                0.0                       1             9.0   9.0   \n",
       "279                0.0                       4            11.0  11.0   \n",
       "283                0.0                       2            13.0  13.0   \n",
       "288                0.0                       1             9.0   9.0   \n",
       "296                0.0                       1            10.5  10.0   \n",
       "302                1.0                       2            13.0  13.0   \n",
       "311                0.0                       2            11.0  11.0   \n",
       "350                0.0                       1             8.5   9.0   \n",
       "364                0.0                       1             9.5  10.0   \n",
       "\n",
       "     pred_mode pred_rf  \n",
       "8          9.0     8.5  \n",
       "40        14.0    14.0  \n",
       "55        11.0    10.5  \n",
       "56         8.0     7.5  \n",
       "65        10.0    10.0  \n",
       "76        10.0    10.0  \n",
       "84        10.0     9.5  \n",
       "91        10.0    10.0  \n",
       "109       12.0    12.0  \n",
       "124       10.0    10.0  \n",
       "133       12.0    12.0  \n",
       "138        6.0     6.0  \n",
       "146       10.0    10.0  \n",
       "160       13.0    13.0  \n",
       "167       10.0     9.5  \n",
       "178        9.0     9.0  \n",
       "184        9.0     8.5  \n",
       "197       10.0    10.0  \n",
       "216       11.0    11.0  \n",
       "217        6.0     6.0  \n",
       "219       11.0    11.0  \n",
       "266        9.0     9.0  \n",
       "279       11.0    11.0  \n",
       "283       13.0    13.0  \n",
       "288        9.0     9.0  \n",
       "296       10.0    10.0  \n",
       "302       13.0    13.0  \n",
       "311       11.0    11.0  \n",
       "350        9.0     8.5  \n",
       "364       10.0     9.5  "
      ]
     },
     "execution_count": 353,
     "metadata": {},
     "output_type": "execute_result"
    }
   ],
   "source": [
    "test.head(3)"
   ]
  },
  {
   "cell_type": "code",
   "execution_count": 73,
   "id": "696f46d5-8230-4835-a3f6-a047ae797cd5",
   "metadata": {},
   "outputs": [],
   "source": [
    "rf_predict_train= clf.predict(train_f)"
   ]
  },
  {
   "cell_type": "code",
   "execution_count": 74,
   "id": "c80ccc02-74d9-442f-8abb-b731a5127772",
   "metadata": {},
   "outputs": [
    {
     "data": {
      "text/plain": [
       "0.6307968795857806"
      ]
     },
     "execution_count": 74,
     "metadata": {},
     "output_type": "execute_result"
    }
   ],
   "source": [
    "precision_score(y_true=train['label_trx_size'].astype(str).tolist(), y_pred=rf_predict_train.astype(str).tolist(), average='micro')"
   ]
  },
  {
   "cell_type": "code",
   "execution_count": 75,
   "id": "c1da4156-5b35-465a-b959-bdd399a0f5a5",
   "metadata": {},
   "outputs": [
    {
     "data": {
      "text/plain": [
       "0.6184473535781015"
      ]
     },
     "execution_count": 75,
     "metadata": {},
     "output_type": "execute_result"
    }
   ],
   "source": [
    "precision_score(y_true=train['label_trx_size'].astype(str).tolist(), y_pred=train['merged_mode'].astype(str).tolist(), average='micro')"
   ]
  },
  {
   "cell_type": "code",
   "execution_count": 76,
   "id": "8ba736d2-bbe6-415b-a426-bbf5b36126e1",
   "metadata": {},
   "outputs": [
    {
     "data": {
      "text/plain": [
       "(103514, 9)"
      ]
     },
     "execution_count": 76,
     "metadata": {},
     "output_type": "execute_result"
    }
   ],
   "source": [
    "val.shape"
   ]
  },
  {
   "cell_type": "code",
   "execution_count": 77,
   "id": "4afa35a3-0316-466a-8b81-5c230c070b52",
   "metadata": {},
   "outputs": [
    {
     "data": {
      "text/plain": [
       "0.474004462172943"
      ]
     },
     "execution_count": 77,
     "metadata": {},
     "output_type": "execute_result"
    }
   ],
   "source": [
    "##xgb== label\n",
    "(test.pred.astype(float)==test.label_trx_size.astype(float)).mean()"
   ]
  },
  {
   "cell_type": "code",
   "execution_count": 78,
   "id": "1d0a07dc-17d7-484f-91e8-f1830cab14fc",
   "metadata": {},
   "outputs": [
    {
     "data": {
      "text/plain": [
       "0.6216231878458909"
      ]
     },
     "execution_count": 78,
     "metadata": {},
     "output_type": "execute_result"
    }
   ],
   "source": [
    "(test['label_trx_size'].astype(float)==test['pred_rf'].astype(float)).mean()"
   ]
  },
  {
   "cell_type": "code",
   "execution_count": 79,
   "id": "8b4c58ef-e3f4-4993-bfc7-da1d9fae82f0",
   "metadata": {},
   "outputs": [
    {
     "data": {
      "text/plain": [
       "0.6216231878458909"
      ]
     },
     "execution_count": 79,
     "metadata": {},
     "output_type": "execute_result"
    }
   ],
   "source": [
    "##random forest== label\n",
    "(test.pred_rf.astype(float)==test.label_trx_size.astype(float)).mean()"
   ]
  },
  {
   "cell_type": "code",
   "execution_count": 361,
   "id": "9529472d-f336-40a3-8756-095f0f787a7f",
   "metadata": {},
   "outputs": [
    {
     "data": {
      "text/plain": [
       "13.0    867\n",
       "Name: pred_mode, dtype: int64"
      ]
     },
     "execution_count": 361,
     "metadata": {},
     "output_type": "execute_result"
    }
   ],
   "source": [
    "test[test.merged_mode == 12.5]['pred_mode'].value_counts()"
   ]
  },
  {
   "cell_type": "code",
   "execution_count": 82,
   "id": "30229c2a-4313-4735-84a0-c060864d06c4",
   "metadata": {},
   "outputs": [
    {
     "data": {
      "text/plain": [
       "10.0    12430\n",
       "11.0    11781\n",
       "9.0     10794\n",
       "12.0     9265\n",
       "10.5     9046\n",
       "9.5      8401\n",
       "8.0      8015\n",
       "8.5      6724\n",
       "13.0     6316\n",
       "7.0      4634\n",
       "11.5     4485\n",
       "7.5      3348\n",
       "6.0      1958\n",
       "14.0     1933\n",
       "6.5      1516\n",
       "5.0       754\n",
       "15.0      751\n",
       "12.5      715\n",
       "5.5       446\n",
       "16.0      200\n",
       "14.5       13\n",
       "13.5        5\n",
       "4.5         5\n",
       "15.5        2\n",
       "Name: pred_rf, dtype: int64"
      ]
     },
     "execution_count": 82,
     "metadata": {},
     "output_type": "execute_result"
    }
   ],
   "source": [
    "test.pred_rf.value_counts()"
   ]
  },
  {
   "cell_type": "code",
   "execution_count": 362,
   "id": "9fb01b88-3e8c-4e1f-bd94-eadba56dff1e",
   "metadata": {},
   "outputs": [],
   "source": [
    "#xgboost is rounding vals of 8.5 "
   ]
  },
  {
   "cell_type": "code",
   "execution_count": 80,
   "id": "0200afef-b8ea-444f-aa88-4a7cd8f57731",
   "metadata": {},
   "outputs": [
    {
     "data": {
      "text/plain": [
       "11.0    22167\n",
       "10.0    20633\n",
       "9.0     18097\n",
       "8.0     12007\n",
       "12.0    10744\n",
       "13.0     6902\n",
       "7.0      6737\n",
       "6.0      2540\n",
       "14.0     1931\n",
       "5.0       814\n",
       "15.0      759\n",
       "16.0      206\n",
       "Name: pred, dtype: int64"
      ]
     },
     "execution_count": 80,
     "metadata": {},
     "output_type": "execute_result"
    }
   ],
   "source": [
    "test.pred.value_counts()"
   ]
  },
  {
   "cell_type": "code",
   "execution_count": 81,
   "id": "885848a2-00fe-4212-9211-ed189ba36236",
   "metadata": {},
   "outputs": [
    {
     "data": {
      "text/plain": [
       "10.0    11910\n",
       "11.0    10809\n",
       "9.0     10575\n",
       "10.5     8870\n",
       "12.0     8714\n",
       "9.5      8608\n",
       "8.0      7874\n",
       "8.5      6986\n",
       "13.0     5910\n",
       "11.5     5095\n",
       "7.0      4765\n",
       "7.5      3801\n",
       "6.0      2077\n",
       "14.0     1962\n",
       "6.5      1876\n",
       "12.5     1005\n",
       "15.0      789\n",
       "5.0       761\n",
       "5.5       620\n",
       "16.0      226\n",
       "4.5       175\n",
       "13.5      100\n",
       "14.5       28\n",
       "15.5        1\n",
       "Name: label_trx_size, dtype: int64"
      ]
     },
     "execution_count": 81,
     "metadata": {},
     "output_type": "execute_result"
    }
   ],
   "source": [
    "test.label_trx_size.value_counts()"
   ]
  },
  {
   "cell_type": "code",
   "execution_count": 366,
   "id": "f6030760-155c-40ca-9e71-c7852cf5e9a2",
   "metadata": {},
   "outputs": [
    {
     "data": {
      "text/html": [
       "<div>\n",
       "<style scoped>\n",
       "    .dataframe tbody tr th:only-of-type {\n",
       "        vertical-align: middle;\n",
       "    }\n",
       "\n",
       "    .dataframe tbody tr th {\n",
       "        vertical-align: top;\n",
       "    }\n",
       "\n",
       "    .dataframe thead th {\n",
       "        text-align: right;\n",
       "    }\n",
       "</style>\n",
       "<table border=\"1\" class=\"dataframe\">\n",
       "  <thead>\n",
       "    <tr style=\"text-align: right;\">\n",
       "      <th></th>\n",
       "      <th>user_id</th>\n",
       "      <th>leaf_id</th>\n",
       "      <th>merged_std</th>\n",
       "      <th>merged_mean</th>\n",
       "      <th>merged_median</th>\n",
       "      <th>merged_mode</th>\n",
       "      <th>merged_maxMinDiff</th>\n",
       "      <th>merged_countOfEvidence</th>\n",
       "      <th>label_trx_size</th>\n",
       "      <th>pred</th>\n",
       "      <th>pred_mode</th>\n",
       "      <th>pred_rf</th>\n",
       "    </tr>\n",
       "  </thead>\n",
       "  <tbody>\n",
       "    <tr>\n",
       "      <th>8</th>\n",
       "      <td>2741</td>\n",
       "      <td>95672</td>\n",
       "      <td>0.000000</td>\n",
       "      <td>8.500000</td>\n",
       "      <td>8.5</td>\n",
       "      <td>8.5</td>\n",
       "      <td>0.0</td>\n",
       "      <td>2</td>\n",
       "      <td>8.5</td>\n",
       "      <td>9.0</td>\n",
       "      <td>9.0</td>\n",
       "      <td>8.5</td>\n",
       "    </tr>\n",
       "    <tr>\n",
       "      <th>40</th>\n",
       "      <td>11010</td>\n",
       "      <td>15709</td>\n",
       "      <td>0.000000</td>\n",
       "      <td>14.000000</td>\n",
       "      <td>14.0</td>\n",
       "      <td>14.0</td>\n",
       "      <td>0.0</td>\n",
       "      <td>4</td>\n",
       "      <td>14.0</td>\n",
       "      <td>14.0</td>\n",
       "      <td>14.0</td>\n",
       "      <td>14.0</td>\n",
       "    </tr>\n",
       "    <tr>\n",
       "      <th>55</th>\n",
       "      <td>14355</td>\n",
       "      <td>15709</td>\n",
       "      <td>0.000000</td>\n",
       "      <td>10.500000</td>\n",
       "      <td>10.5</td>\n",
       "      <td>10.5</td>\n",
       "      <td>0.0</td>\n",
       "      <td>3</td>\n",
       "      <td>10.5</td>\n",
       "      <td>11.0</td>\n",
       "      <td>11.0</td>\n",
       "      <td>10.5</td>\n",
       "    </tr>\n",
       "    <tr>\n",
       "      <th>56</th>\n",
       "      <td>14468</td>\n",
       "      <td>95672</td>\n",
       "      <td>0.276385</td>\n",
       "      <td>7.583333</td>\n",
       "      <td>7.5</td>\n",
       "      <td>7.5</td>\n",
       "      <td>1.0</td>\n",
       "      <td>12</td>\n",
       "      <td>7.5</td>\n",
       "      <td>8.0</td>\n",
       "      <td>8.0</td>\n",
       "      <td>7.5</td>\n",
       "    </tr>\n",
       "    <tr>\n",
       "      <th>65</th>\n",
       "      <td>19016</td>\n",
       "      <td>15709</td>\n",
       "      <td>0.000000</td>\n",
       "      <td>10.000000</td>\n",
       "      <td>10.0</td>\n",
       "      <td>10.0</td>\n",
       "      <td>0.0</td>\n",
       "      <td>16</td>\n",
       "      <td>10.0</td>\n",
       "      <td>10.0</td>\n",
       "      <td>10.0</td>\n",
       "      <td>10.0</td>\n",
       "    </tr>\n",
       "    <tr>\n",
       "      <th>76</th>\n",
       "      <td>22439</td>\n",
       "      <td>15709</td>\n",
       "      <td>0.000000</td>\n",
       "      <td>10.000000</td>\n",
       "      <td>10.0</td>\n",
       "      <td>10.0</td>\n",
       "      <td>0.0</td>\n",
       "      <td>6</td>\n",
       "      <td>10.0</td>\n",
       "      <td>10.0</td>\n",
       "      <td>10.0</td>\n",
       "      <td>10.0</td>\n",
       "    </tr>\n",
       "    <tr>\n",
       "      <th>84</th>\n",
       "      <td>23437</td>\n",
       "      <td>15709</td>\n",
       "      <td>0.000000</td>\n",
       "      <td>9.500000</td>\n",
       "      <td>9.5</td>\n",
       "      <td>9.5</td>\n",
       "      <td>0.0</td>\n",
       "      <td>2</td>\n",
       "      <td>9.5</td>\n",
       "      <td>10.0</td>\n",
       "      <td>10.0</td>\n",
       "      <td>9.5</td>\n",
       "    </tr>\n",
       "    <tr>\n",
       "      <th>91</th>\n",
       "      <td>24595</td>\n",
       "      <td>95672</td>\n",
       "      <td>0.000000</td>\n",
       "      <td>10.000000</td>\n",
       "      <td>10.0</td>\n",
       "      <td>10.0</td>\n",
       "      <td>0.0</td>\n",
       "      <td>1</td>\n",
       "      <td>10.0</td>\n",
       "      <td>10.0</td>\n",
       "      <td>10.0</td>\n",
       "      <td>10.0</td>\n",
       "    </tr>\n",
       "    <tr>\n",
       "      <th>109</th>\n",
       "      <td>29259</td>\n",
       "      <td>15709</td>\n",
       "      <td>0.000000</td>\n",
       "      <td>12.000000</td>\n",
       "      <td>12.0</td>\n",
       "      <td>12.0</td>\n",
       "      <td>0.0</td>\n",
       "      <td>1</td>\n",
       "      <td>12.0</td>\n",
       "      <td>12.0</td>\n",
       "      <td>12.0</td>\n",
       "      <td>12.0</td>\n",
       "    </tr>\n",
       "    <tr>\n",
       "      <th>124</th>\n",
       "      <td>34305</td>\n",
       "      <td>15709</td>\n",
       "      <td>0.000000</td>\n",
       "      <td>10.000000</td>\n",
       "      <td>10.0</td>\n",
       "      <td>10.0</td>\n",
       "      <td>0.0</td>\n",
       "      <td>1</td>\n",
       "      <td>10.0</td>\n",
       "      <td>10.0</td>\n",
       "      <td>10.0</td>\n",
       "      <td>10.0</td>\n",
       "    </tr>\n",
       "    <tr>\n",
       "      <th>133</th>\n",
       "      <td>37770</td>\n",
       "      <td>15709</td>\n",
       "      <td>0.000000</td>\n",
       "      <td>12.000000</td>\n",
       "      <td>12.0</td>\n",
       "      <td>12.0</td>\n",
       "      <td>0.0</td>\n",
       "      <td>16</td>\n",
       "      <td>12.0</td>\n",
       "      <td>12.0</td>\n",
       "      <td>12.0</td>\n",
       "      <td>12.0</td>\n",
       "    </tr>\n",
       "    <tr>\n",
       "      <th>138</th>\n",
       "      <td>38881</td>\n",
       "      <td>95672</td>\n",
       "      <td>0.000000</td>\n",
       "      <td>6.000000</td>\n",
       "      <td>6.0</td>\n",
       "      <td>6.0</td>\n",
       "      <td>0.0</td>\n",
       "      <td>6</td>\n",
       "      <td>6.0</td>\n",
       "      <td>6.0</td>\n",
       "      <td>6.0</td>\n",
       "      <td>6.0</td>\n",
       "    </tr>\n",
       "    <tr>\n",
       "      <th>146</th>\n",
       "      <td>40664</td>\n",
       "      <td>95672</td>\n",
       "      <td>0.000000</td>\n",
       "      <td>10.000000</td>\n",
       "      <td>10.0</td>\n",
       "      <td>10.0</td>\n",
       "      <td>0.0</td>\n",
       "      <td>1</td>\n",
       "      <td>10.0</td>\n",
       "      <td>10.0</td>\n",
       "      <td>10.0</td>\n",
       "      <td>10.0</td>\n",
       "    </tr>\n",
       "    <tr>\n",
       "      <th>160</th>\n",
       "      <td>44141</td>\n",
       "      <td>15709</td>\n",
       "      <td>0.000000</td>\n",
       "      <td>13.000000</td>\n",
       "      <td>13.0</td>\n",
       "      <td>13.0</td>\n",
       "      <td>0.0</td>\n",
       "      <td>2</td>\n",
       "      <td>13.0</td>\n",
       "      <td>13.0</td>\n",
       "      <td>13.0</td>\n",
       "      <td>13.0</td>\n",
       "    </tr>\n",
       "    <tr>\n",
       "      <th>167</th>\n",
       "      <td>44971</td>\n",
       "      <td>15709</td>\n",
       "      <td>0.000000</td>\n",
       "      <td>9.500000</td>\n",
       "      <td>9.5</td>\n",
       "      <td>9.5</td>\n",
       "      <td>0.0</td>\n",
       "      <td>5</td>\n",
       "      <td>10.5</td>\n",
       "      <td>9.0</td>\n",
       "      <td>10.0</td>\n",
       "      <td>9.5</td>\n",
       "    </tr>\n",
       "  </tbody>\n",
       "</table>\n",
       "</div>"
      ],
      "text/plain": [
       "    user_id leaf_id  merged_std  merged_mean  merged_median  merged_mode  \\\n",
       "8      2741   95672    0.000000     8.500000            8.5          8.5   \n",
       "40    11010   15709    0.000000    14.000000           14.0         14.0   \n",
       "55    14355   15709    0.000000    10.500000           10.5         10.5   \n",
       "56    14468   95672    0.276385     7.583333            7.5          7.5   \n",
       "65    19016   15709    0.000000    10.000000           10.0         10.0   \n",
       "76    22439   15709    0.000000    10.000000           10.0         10.0   \n",
       "84    23437   15709    0.000000     9.500000            9.5          9.5   \n",
       "91    24595   95672    0.000000    10.000000           10.0         10.0   \n",
       "109   29259   15709    0.000000    12.000000           12.0         12.0   \n",
       "124   34305   15709    0.000000    10.000000           10.0         10.0   \n",
       "133   37770   15709    0.000000    12.000000           12.0         12.0   \n",
       "138   38881   95672    0.000000     6.000000            6.0          6.0   \n",
       "146   40664   95672    0.000000    10.000000           10.0         10.0   \n",
       "160   44141   15709    0.000000    13.000000           13.0         13.0   \n",
       "167   44971   15709    0.000000     9.500000            9.5          9.5   \n",
       "\n",
       "     merged_maxMinDiff  merged_countOfEvidence  label_trx_size  pred  \\\n",
       "8                  0.0                       2             8.5   9.0   \n",
       "40                 0.0                       4            14.0  14.0   \n",
       "55                 0.0                       3            10.5  11.0   \n",
       "56                 1.0                      12             7.5   8.0   \n",
       "65                 0.0                      16            10.0  10.0   \n",
       "76                 0.0                       6            10.0  10.0   \n",
       "84                 0.0                       2             9.5  10.0   \n",
       "91                 0.0                       1            10.0  10.0   \n",
       "109                0.0                       1            12.0  12.0   \n",
       "124                0.0                       1            10.0  10.0   \n",
       "133                0.0                      16            12.0  12.0   \n",
       "138                0.0                       6             6.0   6.0   \n",
       "146                0.0                       1            10.0  10.0   \n",
       "160                0.0                       2            13.0  13.0   \n",
       "167                0.0                       5            10.5   9.0   \n",
       "\n",
       "     pred_mode pred_rf  \n",
       "8          9.0     8.5  \n",
       "40        14.0    14.0  \n",
       "55        11.0    10.5  \n",
       "56         8.0     7.5  \n",
       "65        10.0    10.0  \n",
       "76        10.0    10.0  \n",
       "84        10.0     9.5  \n",
       "91        10.0    10.0  \n",
       "109       12.0    12.0  \n",
       "124       10.0    10.0  \n",
       "133       12.0    12.0  \n",
       "138        6.0     6.0  \n",
       "146       10.0    10.0  \n",
       "160       13.0    13.0  \n",
       "167       10.0     9.5  "
      ]
     },
     "execution_count": 366,
     "metadata": {},
     "output_type": "execute_result"
    }
   ],
   "source": [
    "test.head(15)"
   ]
  },
  {
   "cell_type": "markdown",
   "id": "c388fdac-4ad3-40cb-9735-0e15165a3695",
   "metadata": {
    "tags": []
   },
   "source": [
    "## 2. Xgboost - regression: "
   ]
  },
  {
   "cell_type": "code",
   "execution_count": 84,
   "id": "1adae2de-5ade-4723-b092-a9f1e71853e6",
   "metadata": {},
   "outputs": [],
   "source": [
    "import xgboost as xgb\n",
    "\n",
    "model = xgb.XGBRegressor(\n",
    "    n_estimators=100,\n",
    "    max_depth=3,\n",
    "    learning_rate=0.1\n",
    ")"
   ]
  },
  {
   "cell_type": "code",
   "execution_count": 85,
   "id": "ffedc407-2d92-491b-abcc-7f2ae3ab55c2",
   "metadata": {},
   "outputs": [],
   "source": [
    "X_train=train[only_features] \n",
    "y_train=train.label_trx_size"
   ]
  },
  {
   "cell_type": "code",
   "execution_count": 86,
   "id": "b1b9f11f-7a57-46a2-9364-2767add5ee78",
   "metadata": {},
   "outputs": [
    {
     "data": {
      "text/plain": [
       "XGBRegressor(base_score=0.5, booster='gbtree', colsample_bylevel=1,\n",
       "             colsample_bynode=1, colsample_bytree=1, gamma=0, gpu_id=-1,\n",
       "             importance_type='gain', interaction_constraints='',\n",
       "             learning_rate=0.1, max_delta_step=0, max_depth=3,\n",
       "             min_child_weight=1, missing=nan, monotone_constraints='()',\n",
       "             n_estimators=100, n_jobs=104, num_parallel_tree=1, random_state=0,\n",
       "             reg_alpha=0, reg_lambda=1, scale_pos_weight=1, subsample=1,\n",
       "             tree_method='exact', validate_parameters=1, verbosity=None)"
      ]
     },
     "execution_count": 86,
     "metadata": {},
     "output_type": "execute_result"
    }
   ],
   "source": [
    "model.fit(X_train, y_train)"
   ]
  },
  {
   "cell_type": "code",
   "execution_count": 87,
   "id": "fc7f95e0-8f5c-46e2-bc31-0a90f0148d95",
   "metadata": {},
   "outputs": [],
   "source": [
    "X_test=test[only_features] \n",
    "y_pred = model.predict(X_test)"
   ]
  },
  {
   "cell_type": "code",
   "execution_count": 88,
   "id": "e6d6e43d-59b4-4958-8a8e-0fb50c312c41",
   "metadata": {},
   "outputs": [],
   "source": [
    "test['y_pred_xgb_reg']=y_pred"
   ]
  },
  {
   "cell_type": "code",
   "execution_count": 89,
   "id": "da12d780-8e7f-4926-a71f-c9efdcb75fd5",
   "metadata": {},
   "outputs": [],
   "source": [
    "y_test=test.label_trx_size"
   ]
  },
  {
   "cell_type": "code",
   "execution_count": 90,
   "id": "1a3949d8-e5a6-4161-8aec-04813e9f15a9",
   "metadata": {},
   "outputs": [
    {
     "name": "stdout",
     "output_type": "stream",
     "text": [
      "MSE: 1.0664766144166022\n",
      "MAE: 0.570737212750411\n"
     ]
    }
   ],
   "source": [
    "from sklearn.metrics import mean_squared_error, mean_absolute_error, r2_score\n",
    "\n",
    "mse = mean_squared_error(y_test, y_pred)\n",
    "mae = mean_absolute_error(y_test, y_pred)\n",
    "\n",
    "\n",
    "print(\"MSE:\", mse)\n",
    "print(\"MAE:\", mae)"
   ]
  },
  {
   "cell_type": "code",
   "execution_count": 91,
   "id": "17e1aa67-68b7-43d6-b72d-caad0033a75b",
   "metadata": {},
   "outputs": [
    {
     "data": {
      "text/html": [
       "<div>\n",
       "<style scoped>\n",
       "    .dataframe tbody tr th:only-of-type {\n",
       "        vertical-align: middle;\n",
       "    }\n",
       "\n",
       "    .dataframe tbody tr th {\n",
       "        vertical-align: top;\n",
       "    }\n",
       "\n",
       "    .dataframe thead th {\n",
       "        text-align: right;\n",
       "    }\n",
       "</style>\n",
       "<table border=\"1\" class=\"dataframe\">\n",
       "  <thead>\n",
       "    <tr style=\"text-align: right;\">\n",
       "      <th></th>\n",
       "      <th>user_id</th>\n",
       "      <th>leaf_id</th>\n",
       "      <th>merged_std</th>\n",
       "      <th>merged_mean</th>\n",
       "      <th>merged_median</th>\n",
       "      <th>merged_mode</th>\n",
       "      <th>merged_maxMinDiff</th>\n",
       "      <th>merged_countOfEvidence</th>\n",
       "      <th>label_trx_size</th>\n",
       "      <th>pred</th>\n",
       "      <th>pred_mode</th>\n",
       "      <th>pred_rf</th>\n",
       "      <th>y_pred_xgb_reg</th>\n",
       "    </tr>\n",
       "  </thead>\n",
       "  <tbody>\n",
       "    <tr>\n",
       "      <th>30</th>\n",
       "      <td>10555</td>\n",
       "      <td>95672</td>\n",
       "      <td>0.000000</td>\n",
       "      <td>10.0000</td>\n",
       "      <td>10.00</td>\n",
       "      <td>10.0</td>\n",
       "      <td>0.0</td>\n",
       "      <td>1</td>\n",
       "      <td>9.5</td>\n",
       "      <td>10.0</td>\n",
       "      <td>10.0</td>\n",
       "      <td>10.0</td>\n",
       "      <td>9.905399</td>\n",
       "    </tr>\n",
       "    <tr>\n",
       "      <th>31</th>\n",
       "      <td>10681</td>\n",
       "      <td>95672</td>\n",
       "      <td>0.408248</td>\n",
       "      <td>7.0000</td>\n",
       "      <td>7.00</td>\n",
       "      <td>6.5</td>\n",
       "      <td>1.0</td>\n",
       "      <td>3</td>\n",
       "      <td>8.0</td>\n",
       "      <td>7.0</td>\n",
       "      <td>7.0</td>\n",
       "      <td>7.0</td>\n",
       "      <td>7.276044</td>\n",
       "    </tr>\n",
       "    <tr>\n",
       "      <th>49</th>\n",
       "      <td>14654</td>\n",
       "      <td>15709</td>\n",
       "      <td>0.000000</td>\n",
       "      <td>10.5000</td>\n",
       "      <td>10.50</td>\n",
       "      <td>10.5</td>\n",
       "      <td>0.0</td>\n",
       "      <td>1</td>\n",
       "      <td>10.5</td>\n",
       "      <td>11.0</td>\n",
       "      <td>11.0</td>\n",
       "      <td>10.5</td>\n",
       "      <td>10.371842</td>\n",
       "    </tr>\n",
       "    <tr>\n",
       "      <th>59</th>\n",
       "      <td>19942</td>\n",
       "      <td>15709</td>\n",
       "      <td>0.000000</td>\n",
       "      <td>11.5000</td>\n",
       "      <td>11.50</td>\n",
       "      <td>11.5</td>\n",
       "      <td>0.0</td>\n",
       "      <td>1</td>\n",
       "      <td>11.5</td>\n",
       "      <td>11.0</td>\n",
       "      <td>12.0</td>\n",
       "      <td>11.5</td>\n",
       "      <td>11.241888</td>\n",
       "    </tr>\n",
       "    <tr>\n",
       "      <th>79</th>\n",
       "      <td>24200</td>\n",
       "      <td>15709</td>\n",
       "      <td>0.242061</td>\n",
       "      <td>11.1875</td>\n",
       "      <td>11.00</td>\n",
       "      <td>11.0</td>\n",
       "      <td>0.5</td>\n",
       "      <td>16</td>\n",
       "      <td>11.5</td>\n",
       "      <td>11.0</td>\n",
       "      <td>11.0</td>\n",
       "      <td>11.0</td>\n",
       "      <td>11.072761</td>\n",
       "    </tr>\n",
       "    <tr>\n",
       "      <th>82</th>\n",
       "      <td>25134</td>\n",
       "      <td>15709</td>\n",
       "      <td>0.250000</td>\n",
       "      <td>10.2500</td>\n",
       "      <td>10.25</td>\n",
       "      <td>10.0</td>\n",
       "      <td>0.5</td>\n",
       "      <td>4</td>\n",
       "      <td>10.5</td>\n",
       "      <td>10.0</td>\n",
       "      <td>10.0</td>\n",
       "      <td>10.5</td>\n",
       "      <td>10.184119</td>\n",
       "    </tr>\n",
       "    <tr>\n",
       "      <th>88</th>\n",
       "      <td>26812</td>\n",
       "      <td>95672</td>\n",
       "      <td>0.000000</td>\n",
       "      <td>9.5000</td>\n",
       "      <td>9.50</td>\n",
       "      <td>9.5</td>\n",
       "      <td>0.0</td>\n",
       "      <td>2</td>\n",
       "      <td>9.0</td>\n",
       "      <td>10.0</td>\n",
       "      <td>10.0</td>\n",
       "      <td>9.5</td>\n",
       "      <td>9.484109</td>\n",
       "    </tr>\n",
       "    <tr>\n",
       "      <th>117</th>\n",
       "      <td>37770</td>\n",
       "      <td>15709</td>\n",
       "      <td>0.000000</td>\n",
       "      <td>12.0000</td>\n",
       "      <td>12.00</td>\n",
       "      <td>12.0</td>\n",
       "      <td>0.0</td>\n",
       "      <td>5</td>\n",
       "      <td>12.0</td>\n",
       "      <td>12.0</td>\n",
       "      <td>12.0</td>\n",
       "      <td>12.0</td>\n",
       "      <td>11.861114</td>\n",
       "    </tr>\n",
       "    <tr>\n",
       "      <th>137</th>\n",
       "      <td>44657</td>\n",
       "      <td>15709</td>\n",
       "      <td>0.894427</td>\n",
       "      <td>8.5000</td>\n",
       "      <td>9.00</td>\n",
       "      <td>9.0</td>\n",
       "      <td>2.5</td>\n",
       "      <td>5</td>\n",
       "      <td>9.0</td>\n",
       "      <td>9.0</td>\n",
       "      <td>9.0</td>\n",
       "      <td>9.0</td>\n",
       "      <td>8.707980</td>\n",
       "    </tr>\n",
       "    <tr>\n",
       "      <th>149</th>\n",
       "      <td>47703</td>\n",
       "      <td>15709</td>\n",
       "      <td>0.000000</td>\n",
       "      <td>8.0000</td>\n",
       "      <td>8.00</td>\n",
       "      <td>8.0</td>\n",
       "      <td>0.0</td>\n",
       "      <td>7</td>\n",
       "      <td>12.0</td>\n",
       "      <td>8.0</td>\n",
       "      <td>8.0</td>\n",
       "      <td>8.0</td>\n",
       "      <td>8.110936</td>\n",
       "    </tr>\n",
       "  </tbody>\n",
       "</table>\n",
       "</div>"
      ],
      "text/plain": [
       "    user_id leaf_id  merged_std  merged_mean  merged_median  merged_mode  \\\n",
       "30    10555   95672    0.000000      10.0000          10.00         10.0   \n",
       "31    10681   95672    0.408248       7.0000           7.00          6.5   \n",
       "49    14654   15709    0.000000      10.5000          10.50         10.5   \n",
       "59    19942   15709    0.000000      11.5000          11.50         11.5   \n",
       "79    24200   15709    0.242061      11.1875          11.00         11.0   \n",
       "82    25134   15709    0.250000      10.2500          10.25         10.0   \n",
       "88    26812   95672    0.000000       9.5000           9.50          9.5   \n",
       "117   37770   15709    0.000000      12.0000          12.00         12.0   \n",
       "137   44657   15709    0.894427       8.5000           9.00          9.0   \n",
       "149   47703   15709    0.000000       8.0000           8.00          8.0   \n",
       "\n",
       "     merged_maxMinDiff  merged_countOfEvidence  label_trx_size  pred  \\\n",
       "30                 0.0                       1             9.5  10.0   \n",
       "31                 1.0                       3             8.0   7.0   \n",
       "49                 0.0                       1            10.5  11.0   \n",
       "59                 0.0                       1            11.5  11.0   \n",
       "79                 0.5                      16            11.5  11.0   \n",
       "82                 0.5                       4            10.5  10.0   \n",
       "88                 0.0                       2             9.0  10.0   \n",
       "117                0.0                       5            12.0  12.0   \n",
       "137                2.5                       5             9.0   9.0   \n",
       "149                0.0                       7            12.0   8.0   \n",
       "\n",
       "     pred_mode pred_rf  y_pred_xgb_reg  \n",
       "30        10.0    10.0        9.905399  \n",
       "31         7.0     7.0        7.276044  \n",
       "49        11.0    10.5       10.371842  \n",
       "59        12.0    11.5       11.241888  \n",
       "79        11.0    11.0       11.072761  \n",
       "82        10.0    10.5       10.184119  \n",
       "88        10.0     9.5        9.484109  \n",
       "117       12.0    12.0       11.861114  \n",
       "137        9.0     9.0        8.707980  \n",
       "149        8.0     8.0        8.110936  "
      ]
     },
     "execution_count": 91,
     "metadata": {},
     "output_type": "execute_result"
    }
   ],
   "source": [
    "test.head(10)"
   ]
  },
  {
   "cell_type": "code",
   "execution_count": 92,
   "id": "6a4e8e33-585d-452e-97ad-2c0f3bf67854",
   "metadata": {},
   "outputs": [
    {
     "data": {
      "text/plain": [
       "30         10.0\n",
       "31          8.0\n",
       "49         10.0\n",
       "59         12.0\n",
       "79         12.0\n",
       "           ... \n",
       "1034979    10.0\n",
       "1035008     9.0\n",
       "1035010    10.0\n",
       "1035013    10.0\n",
       "1035014    13.0\n",
       "Name: label_trx_size, Length: 103537, dtype: float64"
      ]
     },
     "execution_count": 92,
     "metadata": {},
     "output_type": "execute_result"
    }
   ],
   "source": [
    "y_test.round()"
   ]
  },
  {
   "cell_type": "code",
   "execution_count": 93,
   "id": "ca4baf19-7945-4462-897d-65b5229dbb8d",
   "metadata": {},
   "outputs": [
    {
     "data": {
      "text/plain": [
       "array([10.,  7., 10., ..., 10., 10., 13.], dtype=float32)"
      ]
     },
     "execution_count": 93,
     "metadata": {},
     "output_type": "execute_result"
    }
   ],
   "source": [
    "y_pred.round()"
   ]
  },
  {
   "cell_type": "code",
   "execution_count": 94,
   "id": "f53605a8-8027-49b4-b88b-04d389048d5e",
   "metadata": {},
   "outputs": [
    {
     "data": {
      "text/plain": [
       "0.5737079498150419"
      ]
     },
     "execution_count": 94,
     "metadata": {},
     "output_type": "execute_result"
    }
   ],
   "source": [
    "from sklearn.metrics import precision_score\n",
    "\n",
    "# Assuming you have the true labels and predicted labels in y_true and y_pred arrays respectively\n",
    "\n",
    "# Calculate micro-precision\n",
    "micro_precision = precision_score(y_test.round().astype(str), y_pred.round().astype(str), average='micro')\n",
    "micro_precision"
   ]
  },
  {
   "cell_type": "markdown",
   "id": "e8e67073-881f-4fe3-b932-de8bb786bf14",
   "metadata": {},
   "source": [
    "# 3.xgboost multi class: with class encoding to int: "
   ]
  },
  {
   "cell_type": "code",
   "execution_count": null,
   "id": "56498977-1164-44a7-8d74-646f4514c163",
   "metadata": {},
   "outputs": [],
   "source": [
    "## Use this "
   ]
  },
  {
   "cell_type": "code",
   "execution_count": 36,
   "id": "766fce4c-6a89-4e26-a290-a276be6fa682",
   "metadata": {
    "scrolled": true,
    "tags": []
   },
   "outputs": [
    {
     "data": {
      "text/plain": [
       "['merged_std',\n",
       " 'merged_mean',\n",
       " 'merged_median',\n",
       " 'merged_mode',\n",
       " 'merged_maxMinDiff',\n",
       " 'merged_countOfEvidence',\n",
       " 'transactions_std',\n",
       " 'transactions_mean',\n",
       " 'transactions_median',\n",
       " 'transactions_mode',\n",
       " 'transactions_maxMinDiff',\n",
       " 'transactions_countOfEvidence',\n",
       " 'queries_std',\n",
       " 'queries_mean',\n",
       " 'queries_median',\n",
       " 'queries_mode',\n",
       " 'queries_maxMinDiff',\n",
       " 'queries_countOfEvidence',\n",
       " 'filters_std',\n",
       " 'filters_mean',\n",
       " 'filters_median',\n",
       " 'filters_mode',\n",
       " 'filters_maxMinDiff',\n",
       " 'filters_countOfEvidence',\n",
       " 'mostRecentCommonSize_DaysDiff',\n",
       " 'mostRecentCommonSize',\n",
       " 'mostRecentCommonSize_CountOfEvidence',\n",
       " 'queries_mostRecentCommonSize_DaysDiff',\n",
       " 'filters_mostRecentCommonSize_DaysDiff',\n",
       " 'transactions_mostRecentCommonSize_DaysDiff',\n",
       " 'queries_mostRecentCommonSize',\n",
       " 'filters_mostRecentCommonSize',\n",
       " 'transactions_mostRecentCommonSize',\n",
       " 'queries_mostRecentCommonSize_CountOfEvidence',\n",
       " 'filters_mostRecentCommonSize_CountOfEvidence',\n",
       " 'transactions_mostRecentCommonSize_CountOfEvidence']"
      ]
     },
     "execution_count": 36,
     "metadata": {},
     "output_type": "execute_result"
    }
   ],
   "source": [
    "only_features"
   ]
  },
  {
   "cell_type": "code",
   "execution_count": 37,
   "id": "de50d041-6292-4064-920e-37c08950b8b5",
   "metadata": {},
   "outputs": [],
   "source": [
    "X_train=train[only_features] \n",
    "y_train=train.label_trx_size"
   ]
  },
  {
   "cell_type": "code",
   "execution_count": 38,
   "id": "58c45523-4db8-4b8d-b03a-2ebe01954916",
   "metadata": {},
   "outputs": [],
   "source": [
    "y_float=train.label_trx_size.to_numpy()"
   ]
  },
  {
   "cell_type": "code",
   "execution_count": 39,
   "id": "cc742850-e0e3-4b4f-a686-d52e4e544145",
   "metadata": {},
   "outputs": [
    {
     "data": {
      "text/plain": [
       "array([13. ,  6.5,  8.5, ...,  7. ,  9.5, 10. ])"
      ]
     },
     "execution_count": 39,
     "metadata": {},
     "output_type": "execute_result"
    }
   ],
   "source": [
    "y_float"
   ]
  },
  {
   "cell_type": "code",
   "execution_count": 40,
   "id": "0523750d-de58-4b9f-a24c-81ba36135bfe",
   "metadata": {},
   "outputs": [],
   "source": [
    "# Convert labels to integer classes\n",
    "from sklearn.preprocessing import LabelEncoder\n",
    "\n",
    "le = LabelEncoder()\n",
    "y = le.fit_transform(y_float)"
   ]
  },
  {
   "cell_type": "code",
   "execution_count": 41,
   "id": "d7be0d4c-d155-49e0-ab90-c5f1cc732c9d",
   "metadata": {},
   "outputs": [
    {
     "data": {
      "text/plain": [
       "array([17,  4,  8, ...,  5, 10, 11])"
      ]
     },
     "execution_count": 41,
     "metadata": {},
     "output_type": "execute_result"
    }
   ],
   "source": [
    "y"
   ]
  },
  {
   "cell_type": "code",
   "execution_count": 42,
   "id": "3dbb8bd4-62d9-4f9d-a633-57a80c8803a0",
   "metadata": {},
   "outputs": [
    {
     "data": {
      "text/plain": [
       "828136"
      ]
     },
     "execution_count": 42,
     "metadata": {},
     "output_type": "execute_result"
    }
   ],
   "source": [
    "len(y)"
   ]
  },
  {
   "cell_type": "code",
   "execution_count": 43,
   "id": "97721fb6-630f-4c55-b64a-64411366f477",
   "metadata": {},
   "outputs": [
    {
     "data": {
      "text/plain": [
       "array([13. ,  6.5,  8.5, ...,  7. ,  9.5, 10. ])"
      ]
     },
     "execution_count": 43,
     "metadata": {},
     "output_type": "execute_result"
    }
   ],
   "source": [
    "y_float"
   ]
  },
  {
   "cell_type": "code",
   "execution_count": 44,
   "id": "e7ed53ab-a453-45d1-9d39-967347b65672",
   "metadata": {},
   "outputs": [
    {
     "data": {
      "text/plain": [
       "828136"
      ]
     },
     "execution_count": 44,
     "metadata": {},
     "output_type": "execute_result"
    }
   ],
   "source": [
    "len(y_float)"
   ]
  },
  {
   "cell_type": "markdown",
   "id": "1ec44581-2602-4419-9ca1-a64c86d5bc8c",
   "metadata": {},
   "source": [
    "### xgboost api: multi class converting class to int: "
   ]
  },
  {
   "cell_type": "raw",
   "id": "0b5c869d-40bb-4adc-9db5-390b0a2bd6a7",
   "metadata": {},
   "source": [
    "Label encoding is commonly used in multi-class classification tasks to convert categorical\n",
    "labels into numerical representations that can be processed by machine learning algorithms. \n",
    "Each unique class in the target variable is assigned a unique integer value, typically ranging \n",
    "from 0 to (number of classes - 1).\n",
    "\n",
    "After applying label encoding, the transformed target variable y can be used as input \n",
    "to train a machine learning model, such as XGBoost, for multi-class classification."
   ]
  },
  {
   "cell_type": "code",
   "execution_count": null,
   "id": "49fd561c-dbec-42fa-865c-d449e4c4fabd",
   "metadata": {},
   "outputs": [],
   "source": [
    "#The LabelEncoder object assigns a unique integer value to each unique label\n",
    "#in ascending order of their values. The mapping is learned and stored within the LabelEncoder object."
   ]
  },
  {
   "cell_type": "code",
   "execution_count": 45,
   "id": "c2c0acc9-8fc4-40d9-9c39-97c5d1be0cf0",
   "metadata": {},
   "outputs": [],
   "source": [
    "# Convert labels to integer classes\n",
    "y_float_train=train.label_trx_size.to_numpy()\n",
    "#creates an instance of the LabelEncoder class, which will be used to perform the label encoding.\n",
    "le = LabelEncoder()\n",
    "#encode categorical labels as numeric values.\n",
    "y_train = le.fit_transform(y_float_train)\n",
    "#fit_transform() method of the LabelEncoder class fits the encoder to the unique classes in y_float and then transforms the original labels into encoded numeric values."
   ]
  },
  {
   "cell_type": "code",
   "execution_count": 46,
   "id": "4b239956-d277-45e6-8c9d-ff7db749cc07",
   "metadata": {},
   "outputs": [
    {
     "data": {
      "text/plain": [
       "array([13. ,  6.5,  8.5, ...,  7. ,  9.5, 10. ])"
      ]
     },
     "execution_count": 46,
     "metadata": {},
     "output_type": "execute_result"
    }
   ],
   "source": [
    "y_float_train"
   ]
  },
  {
   "cell_type": "code",
   "execution_count": 47,
   "id": "8fa16d98-f105-4db8-ae33-f90e9a264f2f",
   "metadata": {},
   "outputs": [
    {
     "data": {
      "text/plain": [
       "array([17,  4,  8, ...,  5, 10, 11])"
      ]
     },
     "execution_count": 47,
     "metadata": {},
     "output_type": "execute_result"
    }
   ],
   "source": [
    "y_train"
   ]
  },
  {
   "cell_type": "code",
   "execution_count": 48,
   "id": "9ba3d0ac-3c1d-4ed0-9278-c1cbb7d177e9",
   "metadata": {},
   "outputs": [
    {
     "name": "stdout",
     "output_type": "stream",
     "text": [
      "[ 0  1  2  3  4  5  6  7  8  9 10 11 12 13 14 15 16 17 18 19 20 21 22 23]\n"
     ]
    }
   ],
   "source": [
    "\n",
    "unique_values = np.unique(y_train)\n",
    "sorted_values = np.sort(unique_values)\n",
    "\n",
    "print(sorted_values)"
   ]
  },
  {
   "cell_type": "code",
   "execution_count": 49,
   "id": "01684c71-cd31-4943-b1d6-daa3e49748be",
   "metadata": {},
   "outputs": [
    {
     "name": "stdout",
     "output_type": "stream",
     "text": [
      "[ 4.5  5.   5.5  6.   6.5  7.   7.5  8.   8.5  9.   9.5 10.  10.5 11.\n",
      " 11.5 12.  12.5 13.  13.5 14.  14.5 15.  15.5 16. ]\n"
     ]
    }
   ],
   "source": [
    "\n",
    "unique_values = np.unique(y_float_train)\n",
    "sorted_values = np.sort(unique_values)\n",
    "\n",
    "print(sorted_values)"
   ]
  },
  {
   "cell_type": "code",
   "execution_count": 50,
   "id": "ca8a6eb6-639f-469f-a29c-1ab01704c853",
   "metadata": {},
   "outputs": [
    {
     "data": {
      "text/plain": [
       "24"
      ]
     },
     "execution_count": 50,
     "metadata": {},
     "output_type": "execute_result"
    }
   ],
   "source": [
    "len(sorted_values)"
   ]
  },
  {
   "cell_type": "code",
   "execution_count": 51,
   "id": "e47f37e7-d21e-4906-b30d-417d1cfb3850",
   "metadata": {},
   "outputs": [],
   "source": [
    "X_train=train[only_features]"
   ]
  },
  {
   "cell_type": "code",
   "execution_count": 52,
   "id": "5970de1a-9ada-492e-9e7e-0afd683a5166",
   "metadata": {},
   "outputs": [],
   "source": [
    "import xgboost as xgb\n",
    "\n",
    "dtrain = xgb.DMatrix(X_train, label=y_train)"
   ]
  },
  {
   "cell_type": "code",
   "execution_count": 53,
   "id": "c5a96ff9-efdb-459c-ad25-367475541dea",
   "metadata": {},
   "outputs": [
    {
     "name": "stdout",
     "output_type": "stream",
     "text": [
      "[13:02:23] WARNING: ../src/learner.cc:573: \n",
      "Parameters: { \"n_estimators\" } might not be used.\n",
      "\n",
      "  This may not be accurate due to some parameters are only used in language bindings but\n",
      "  passed down to XGBoost core.  Or some parameters are not used but slip through this\n",
      "  verification. Please open an issue if you find above cases.\n",
      "\n",
      "\n",
      "[13:03:40] WARNING: ../src/learner.cc:1095: Starting in XGBoost 1.3.0, the default evaluation metric used with the objective 'multi:softmax' was changed from 'merror' to 'mlogloss'. Explicitly set eval_metric if you'd like to restore the old behavior.\n"
     ]
    }
   ],
   "source": [
    "import xgboost as xgb\n",
    "\n",
    "params = {\n",
    "    'objective': 'multi:softmax', \n",
    "    'num_class': len(np.unique(y_train)),\n",
    "    'n_estimators': 100,\n",
    "    'max_depth': 6, #4 \n",
    "    'min_child_weight': 3,\n",
    "    'learning_rate': 0.3\n",
    "}\n",
    "\n",
    "model = xgb.train(params, dtrain)"
   ]
  },
  {
   "cell_type": "code",
   "execution_count": 54,
   "id": "f68c9ec3-4422-4361-a820-3a732a16d01a",
   "metadata": {},
   "outputs": [
    {
     "data": {
      "text/html": [
       "<div>\n",
       "<style scoped>\n",
       "    .dataframe tbody tr th:only-of-type {\n",
       "        vertical-align: middle;\n",
       "    }\n",
       "\n",
       "    .dataframe tbody tr th {\n",
       "        vertical-align: top;\n",
       "    }\n",
       "\n",
       "    .dataframe thead th {\n",
       "        text-align: right;\n",
       "    }\n",
       "</style>\n",
       "<table border=\"1\" class=\"dataframe\">\n",
       "  <thead>\n",
       "    <tr style=\"text-align: right;\">\n",
       "      <th></th>\n",
       "      <th>gain</th>\n",
       "    </tr>\n",
       "  </thead>\n",
       "  <tbody>\n",
       "    <tr>\n",
       "      <th>merged_mode</th>\n",
       "      <td>3819.030928</td>\n",
       "    </tr>\n",
       "    <tr>\n",
       "      <th>merged_median</th>\n",
       "      <td>3619.798951</td>\n",
       "    </tr>\n",
       "    <tr>\n",
       "      <th>mostRecentCommonSize</th>\n",
       "      <td>269.190120</td>\n",
       "    </tr>\n",
       "    <tr>\n",
       "      <th>merged_mean</th>\n",
       "      <td>114.206977</td>\n",
       "    </tr>\n",
       "    <tr>\n",
       "      <th>merged_std</th>\n",
       "      <td>72.682245</td>\n",
       "    </tr>\n",
       "    <tr>\n",
       "      <th>filters_std</th>\n",
       "      <td>67.797602</td>\n",
       "    </tr>\n",
       "    <tr>\n",
       "      <th>merged_countOfEvidence</th>\n",
       "      <td>63.226059</td>\n",
       "    </tr>\n",
       "    <tr>\n",
       "      <th>queries_mean</th>\n",
       "      <td>25.321322</td>\n",
       "    </tr>\n",
       "    <tr>\n",
       "      <th>queries_mode</th>\n",
       "      <td>23.984958</td>\n",
       "    </tr>\n",
       "    <tr>\n",
       "      <th>filters_mean</th>\n",
       "      <td>19.886462</td>\n",
       "    </tr>\n",
       "    <tr>\n",
       "      <th>filters_mostRecentCommonSize</th>\n",
       "      <td>18.558832</td>\n",
       "    </tr>\n",
       "    <tr>\n",
       "      <th>transactions_std</th>\n",
       "      <td>18.171789</td>\n",
       "    </tr>\n",
       "    <tr>\n",
       "      <th>transactions_mode</th>\n",
       "      <td>18.052065</td>\n",
       "    </tr>\n",
       "    <tr>\n",
       "      <th>queries_mostRecentCommonSize</th>\n",
       "      <td>17.928249</td>\n",
       "    </tr>\n",
       "    <tr>\n",
       "      <th>transactions_median</th>\n",
       "      <td>17.804161</td>\n",
       "    </tr>\n",
       "    <tr>\n",
       "      <th>transactions_mean</th>\n",
       "      <td>16.440927</td>\n",
       "    </tr>\n",
       "    <tr>\n",
       "      <th>mostRecentCommonSize_DaysDiff</th>\n",
       "      <td>15.249042</td>\n",
       "    </tr>\n",
       "    <tr>\n",
       "      <th>merged_maxMinDiff</th>\n",
       "      <td>14.051666</td>\n",
       "    </tr>\n",
       "    <tr>\n",
       "      <th>queries_std</th>\n",
       "      <td>11.156403</td>\n",
       "    </tr>\n",
       "    <tr>\n",
       "      <th>transactions_countOfEvidence</th>\n",
       "      <td>10.373558</td>\n",
       "    </tr>\n",
       "    <tr>\n",
       "      <th>transactions_mostRecentCommonSize_DaysDiff</th>\n",
       "      <td>9.358290</td>\n",
       "    </tr>\n",
       "    <tr>\n",
       "      <th>queries_mostRecentCommonSize_DaysDiff</th>\n",
       "      <td>9.086959</td>\n",
       "    </tr>\n",
       "    <tr>\n",
       "      <th>filters_maxMinDiff</th>\n",
       "      <td>8.861217</td>\n",
       "    </tr>\n",
       "    <tr>\n",
       "      <th>transactions_mostRecentCommonSize</th>\n",
       "      <td>8.609391</td>\n",
       "    </tr>\n",
       "    <tr>\n",
       "      <th>filters_mostRecentCommonSize_DaysDiff</th>\n",
       "      <td>8.191456</td>\n",
       "    </tr>\n",
       "    <tr>\n",
       "      <th>queries_median</th>\n",
       "      <td>7.675159</td>\n",
       "    </tr>\n",
       "    <tr>\n",
       "      <th>filters_median</th>\n",
       "      <td>7.108660</td>\n",
       "    </tr>\n",
       "    <tr>\n",
       "      <th>queries_maxMinDiff</th>\n",
       "      <td>7.026419</td>\n",
       "    </tr>\n",
       "    <tr>\n",
       "      <th>filters_mostRecentCommonSize_CountOfEvidence</th>\n",
       "      <td>5.916702</td>\n",
       "    </tr>\n",
       "    <tr>\n",
       "      <th>transactions_maxMinDiff</th>\n",
       "      <td>5.293673</td>\n",
       "    </tr>\n",
       "    <tr>\n",
       "      <th>filters_mode</th>\n",
       "      <td>5.159598</td>\n",
       "    </tr>\n",
       "    <tr>\n",
       "      <th>queries_countOfEvidence</th>\n",
       "      <td>4.841168</td>\n",
       "    </tr>\n",
       "    <tr>\n",
       "      <th>transactions_mostRecentCommonSize_CountOfEvidence</th>\n",
       "      <td>4.836290</td>\n",
       "    </tr>\n",
       "    <tr>\n",
       "      <th>filters_countOfEvidence</th>\n",
       "      <td>4.675173</td>\n",
       "    </tr>\n",
       "    <tr>\n",
       "      <th>mostRecentCommonSize_CountOfEvidence</th>\n",
       "      <td>3.597197</td>\n",
       "    </tr>\n",
       "    <tr>\n",
       "      <th>queries_mostRecentCommonSize_CountOfEvidence</th>\n",
       "      <td>2.987575</td>\n",
       "    </tr>\n",
       "  </tbody>\n",
       "</table>\n",
       "</div>"
      ],
      "text/plain": [
       "                                                          gain\n",
       "merged_mode                                        3819.030928\n",
       "merged_median                                      3619.798951\n",
       "mostRecentCommonSize                                269.190120\n",
       "merged_mean                                         114.206977\n",
       "merged_std                                           72.682245\n",
       "filters_std                                          67.797602\n",
       "merged_countOfEvidence                               63.226059\n",
       "queries_mean                                         25.321322\n",
       "queries_mode                                         23.984958\n",
       "filters_mean                                         19.886462\n",
       "filters_mostRecentCommonSize                         18.558832\n",
       "transactions_std                                     18.171789\n",
       "transactions_mode                                    18.052065\n",
       "queries_mostRecentCommonSize                         17.928249\n",
       "transactions_median                                  17.804161\n",
       "transactions_mean                                    16.440927\n",
       "mostRecentCommonSize_DaysDiff                        15.249042\n",
       "merged_maxMinDiff                                    14.051666\n",
       "queries_std                                          11.156403\n",
       "transactions_countOfEvidence                         10.373558\n",
       "transactions_mostRecentCommonSize_DaysDiff            9.358290\n",
       "queries_mostRecentCommonSize_DaysDiff                 9.086959\n",
       "filters_maxMinDiff                                    8.861217\n",
       "transactions_mostRecentCommonSize                     8.609391\n",
       "filters_mostRecentCommonSize_DaysDiff                 8.191456\n",
       "queries_median                                        7.675159\n",
       "filters_median                                        7.108660\n",
       "queries_maxMinDiff                                    7.026419\n",
       "filters_mostRecentCommonSize_CountOfEvidence          5.916702\n",
       "transactions_maxMinDiff                               5.293673\n",
       "filters_mode                                          5.159598\n",
       "queries_countOfEvidence                               4.841168\n",
       "transactions_mostRecentCommonSize_CountOfEvidence     4.836290\n",
       "filters_countOfEvidence                               4.675173\n",
       "mostRecentCommonSize_CountOfEvidence                  3.597197\n",
       "queries_mostRecentCommonSize_CountOfEvidence          2.987575"
      ]
     },
     "execution_count": 54,
     "metadata": {},
     "output_type": "execute_result"
    }
   ],
   "source": [
    "gain_importance = model.get_score(importance_type='gain')\n",
    "gain_importance_df =pd.DataFrame.from_dict(gain_importance, orient = 'index')\n",
    "gain_importance_df.columns = ['gain']\n",
    "gain_importance_df.sort_values('gain', ascending=False)"
   ]
  },
  {
   "cell_type": "code",
   "execution_count": 169,
   "id": "491ca4c9-f6a7-4f2e-86bb-c312e6d2478a",
   "metadata": {},
   "outputs": [],
   "source": [
    "y_float_test=test.label_trx_size.to_numpy()\n",
    "le = LabelEncoder()\n",
    "y_test = le.fit_transform(y_float_test)"
   ]
  },
  {
   "cell_type": "code",
   "execution_count": 170,
   "id": "07368733-b118-4b19-b66d-2720c41f38bc",
   "metadata": {},
   "outputs": [
    {
     "data": {
      "text/plain": [
       "array([10,  7, 12, ..., 19,  7,  8])"
      ]
     },
     "execution_count": 170,
     "metadata": {},
     "output_type": "execute_result"
    }
   ],
   "source": [
    "y_test"
   ]
  },
  {
   "cell_type": "code",
   "execution_count": 171,
   "id": "9b6db1dd-3c10-4b34-9f16-8b7928de340e",
   "metadata": {},
   "outputs": [],
   "source": [
    "X_test=test[only_features]\n",
    "dtest = xgb.DMatrix(X_test, label=y_test)\n",
    "y_pred = model.predict(dtest)"
   ]
  },
  {
   "cell_type": "code",
   "execution_count": 172,
   "id": "1264351f-5b6d-45e4-9d5e-f5123a7b5d60",
   "metadata": {},
   "outputs": [
    {
     "data": {
      "text/plain": [
       "array([11.,  5., 12., ..., 19.,  7.,  9.], dtype=float32)"
      ]
     },
     "execution_count": 172,
     "metadata": {},
     "output_type": "execute_result"
    }
   ],
   "source": [
    "y_pred # is index of class predicted "
   ]
  },
  {
   "cell_type": "code",
   "execution_count": 173,
   "id": "01a0206f-e06b-4c21-ab2e-25676e32117e",
   "metadata": {},
   "outputs": [],
   "source": [
    "# get the predicted class probabilities for each instance in dtest\n",
    "y_prob_norm_margin = model.predict(dtest, output_margin=True)"
   ]
  },
  {
   "cell_type": "code",
   "execution_count": 174,
   "id": "beed7c17-799a-45c8-8e60-265033aa8031",
   "metadata": {
    "scrolled": true,
    "tags": []
   },
   "outputs": [
    {
     "data": {
      "text/plain": [
       "array([[-0.94841397, -0.8351049 , -0.8581503 , ..., -0.9661463 ,\n",
       "        -1.025598  , -1.0052389 ],\n",
       "       [-0.8800438 , -0.2501834 , -0.4015859 , ..., -0.9706264 ,\n",
       "        -1.025598  , -1.0052389 ],\n",
       "       [-0.94841397, -0.7457031 , -0.8670247 , ..., -0.9661463 ,\n",
       "        -1.025598  , -1.0052389 ],\n",
       "       ...,\n",
       "       [-0.94841397, -0.8351049 , -0.8670247 , ...,  0.915362  ,\n",
       "        -1.025598  , -0.5607145 ],\n",
       "       [-0.94841397, -0.8052229 , -0.7650123 , ..., -0.9706264 ,\n",
       "        -1.025598  , -1.0052389 ],\n",
       "       [-0.94841397, -0.84081334, -0.84640783, ..., -0.9706264 ,\n",
       "        -1.025598  , -1.0052389 ]], dtype=float32)"
      ]
     },
     "execution_count": 174,
     "metadata": {},
     "output_type": "execute_result"
    }
   ],
   "source": [
    "y_prob_norm_margin"
   ]
  },
  {
   "cell_type": "code",
   "execution_count": 175,
   "id": "9b324d92-2690-4d8e-b20d-2dd113d636ca",
   "metadata": {},
   "outputs": [],
   "source": [
    "# get the predicted class probabilities for each instance in dtest\n",
    "y_prob_n= model.predict(dtest, output_margin=False)"
   ]
  },
  {
   "cell_type": "code",
   "execution_count": 176,
   "id": "19d96b49-4dc4-4798-b0d9-7ecce267afb8",
   "metadata": {},
   "outputs": [
    {
     "data": {
      "text/plain": [
       "array([11.,  5., 12., ..., 19.,  7.,  9.], dtype=float32)"
      ]
     },
     "execution_count": 176,
     "metadata": {},
     "output_type": "execute_result"
    }
   ],
   "source": [
    "y_prob_n"
   ]
  },
  {
   "cell_type": "raw",
   "id": "3d7d8b25-0e70-43d9-959f-ab08f6c6d70e",
   "metadata": {},
   "source": [
    "When you use output_margin=True with model.predict in XGBoost, the returned values are not probabilities between 0 and 1.\n",
    "Instead, they represent the raw predicted margin values for each class."
   ]
  },
  {
   "cell_type": "code",
   "execution_count": 177,
   "id": "38ea469d-565d-4e65-834d-9b057ff12e9a",
   "metadata": {},
   "outputs": [
    {
     "data": {
      "text/plain": [
       "array([-0.94841397, -0.8351049 , -0.8581503 , -0.518793  , -0.67110986,\n",
       "       -0.2596231 , -0.43703607,  0.29277   ,  0.15136632,  0.8093497 ,\n",
       "        1.3698055 ,  3.8582785 ,  1.5537193 ,  0.8390508 , -0.2809367 ,\n",
       "       -0.01141855, -0.9452161 , -0.4981373 , -1.0152339 , -0.91247034,\n",
       "       -1.0250471 , -0.9661463 , -1.025598  , -1.0052389 ], dtype=float32)"
      ]
     },
     "execution_count": 177,
     "metadata": {},
     "output_type": "execute_result"
    }
   ],
   "source": [
    "y_prob_norm_margin[0]"
   ]
  },
  {
   "cell_type": "code",
   "execution_count": 178,
   "id": "a714a561-6bb1-4f10-9d23-f59b6e16fd5e",
   "metadata": {},
   "outputs": [],
   "source": [
    "#Convert integer labels back to float labels:\n",
    "y_pred_float = le.inverse_transform(y_pred.astype(int))"
   ]
  },
  {
   "cell_type": "code",
   "execution_count": 179,
   "id": "6e2dee3d-7b96-4fd5-97f1-55fc4d35109f",
   "metadata": {},
   "outputs": [
    {
     "data": {
      "text/plain": [
       "array([10. ,  7. , 10.5, ..., 14. ,  8. ,  9. ])"
      ]
     },
     "execution_count": 179,
     "metadata": {},
     "output_type": "execute_result"
    }
   ],
   "source": [
    "y_pred_float"
   ]
  },
  {
   "cell_type": "code",
   "execution_count": 180,
   "id": "d0ab177a-a1d5-4951-8137-c03a6ded6ac4",
   "metadata": {},
   "outputs": [],
   "source": [
    "test['xgb_pred']=y_pred_float"
   ]
  },
  {
   "cell_type": "markdown",
   "id": "6455a2aa-f8e6-488c-bcae-af38b747dcd4",
   "metadata": {},
   "source": [
    "### Probabilities of class: "
   ]
  },
  {
   "cell_type": "code",
   "execution_count": 181,
   "id": "d5ee3cae-27e6-4341-8f9f-f623a24abd3b",
   "metadata": {},
   "outputs": [
    {
     "data": {
      "text/plain": [
       "array([-0.94841397, -0.8351049 , -0.8581503 , -0.518793  , -0.67110986,\n",
       "       -0.2596231 , -0.43703607,  0.29277   ,  0.15136632,  0.8093497 ,\n",
       "        1.3698055 ,  3.8582785 ,  1.5537193 ,  0.8390508 , -0.2809367 ,\n",
       "       -0.01141855, -0.9452161 , -0.4981373 , -1.0152339 , -0.91247034,\n",
       "       -1.0250471 , -0.9661463 , -1.025598  , -1.0052389 ], dtype=float32)"
      ]
     },
     "execution_count": 181,
     "metadata": {},
     "output_type": "execute_result"
    }
   ],
   "source": [
    "y_prob_norm_margin[0]"
   ]
  },
  {
   "cell_type": "code",
   "execution_count": 182,
   "id": "1c26c7c8-ad82-41f1-a688-677b6f5dfc2b",
   "metadata": {},
   "outputs": [
    {
     "data": {
      "text/plain": [
       "array([10,  7, 12, ..., 19,  7,  8])"
      ]
     },
     "execution_count": 182,
     "metadata": {},
     "output_type": "execute_result"
    }
   ],
   "source": [
    "y_test"
   ]
  },
  {
   "cell_type": "code",
   "execution_count": 183,
   "id": "043269b4-1c4d-4e27-8d4b-59004afa8dfd",
   "metadata": {
    "scrolled": true,
    "tags": []
   },
   "outputs": [
    {
     "data": {
      "text/plain": [
       "array([11.,  5., 12., ..., 19.,  7.,  9.], dtype=float32)"
      ]
     },
     "execution_count": 183,
     "metadata": {},
     "output_type": "execute_result"
    }
   ],
   "source": [
    "y_pred"
   ]
  },
  {
   "cell_type": "code",
   "execution_count": 184,
   "id": "d99e7e82-070c-43c9-8f70-4651d24a20dc",
   "metadata": {},
   "outputs": [
    {
     "data": {
      "text/plain": [
       "-3.339334"
      ]
     },
     "execution_count": 184,
     "metadata": {},
     "output_type": "execute_result"
    }
   ],
   "source": [
    "y_prob_norm_margin[0].sum()"
   ]
  },
  {
   "cell_type": "code",
   "execution_count": 185,
   "id": "e640cc03-5363-4e57-9773-9b18f2ea5456",
   "metadata": {},
   "outputs": [
    {
     "data": {
      "text/plain": [
       "10"
      ]
     },
     "execution_count": 185,
     "metadata": {},
     "output_type": "execute_result"
    }
   ],
   "source": [
    "y_test[0]"
   ]
  },
  {
   "cell_type": "code",
   "execution_count": 186,
   "id": "3d2a9286-c8e4-42fc-83ec-fdaf2cd037c6",
   "metadata": {},
   "outputs": [
    {
     "data": {
      "text/plain": [
       "11.0"
      ]
     },
     "execution_count": 186,
     "metadata": {},
     "output_type": "execute_result"
    }
   ],
   "source": [
    "y_pred[0]"
   ]
  },
  {
   "cell_type": "code",
   "execution_count": 187,
   "id": "993545a7-506c-4b2e-ae2b-3f5f899f29ba",
   "metadata": {},
   "outputs": [],
   "source": [
    "# Apply softmax function to obtain class probabilities\n",
    "## Apply softmax function to obtain normalized probabilities\n",
    "# normalize the probabilities to be between 0 and 1\n",
    "y_prob_norm = np.exp(y_prob_norm_margin) / np.sum(np.exp(y_prob_norm_margin), axis=1, keepdims=True)"
   ]
  },
  {
   "cell_type": "code",
   "execution_count": 188,
   "id": "bd200363-dcef-4f90-9686-ec78391238bf",
   "metadata": {},
   "outputs": [
    {
     "data": {
      "text/plain": [
       "array([0.00539131, 0.00603815, 0.00590059, 0.00828469, 0.0071142 ,\n",
       "       0.01073575, 0.00899048, 0.01865236, 0.01619284, 0.03126666,\n",
       "       0.05476264, 0.6594994 , 0.06581988, 0.03220925, 0.01050936,\n",
       "       0.01376025, 0.00540858, 0.0084576 , 0.00504284, 0.00558862,\n",
       "       0.00499359, 0.00529655, 0.00499084, 0.00509349], dtype=float32)"
      ]
     },
     "execution_count": 188,
     "metadata": {},
     "output_type": "execute_result"
    }
   ],
   "source": [
    "y_prob_norm[0]"
   ]
  },
  {
   "cell_type": "code",
   "execution_count": 189,
   "id": "6bc80226-cadd-4c74-9fcb-77fb245fe7f9",
   "metadata": {},
   "outputs": [
    {
     "data": {
      "text/plain": [
       "0.6594994"
      ]
     },
     "execution_count": 189,
     "metadata": {},
     "output_type": "execute_result"
    }
   ],
   "source": [
    "y_prob_norm[0, int(y_pred[0])] #we take the value in the  index of predicted class "
   ]
  },
  {
   "cell_type": "code",
   "execution_count": 190,
   "id": "f8ebfcc8-d272-403a-bc87-1281e381a2ef",
   "metadata": {},
   "outputs": [],
   "source": [
    "# Get the highest probability for each instance\n",
    "y_pred_prob_h = np.max(y_prob_norm, axis=1)"
   ]
  },
  {
   "cell_type": "code",
   "execution_count": 191,
   "id": "6aea08cb-b3c6-4512-866b-cc443fab1052",
   "metadata": {},
   "outputs": [
    {
     "data": {
      "text/plain": [
       "array([0.6594994 , 0.48308617, 0.56398255, ..., 0.84881455, 0.7737829 ,\n",
       "       0.698461  ], dtype=float32)"
      ]
     },
     "execution_count": 191,
     "metadata": {},
     "output_type": "execute_result"
    }
   ],
   "source": [
    "y_pred_prob_h"
   ]
  },
  {
   "cell_type": "code",
   "execution_count": 192,
   "id": "374e7250-e184-425b-a653-132a7235b06a",
   "metadata": {},
   "outputs": [
    {
     "data": {
      "text/plain": [
       "11.0"
      ]
     },
     "execution_count": 192,
     "metadata": {},
     "output_type": "execute_result"
    }
   ],
   "source": [
    "y_pred[0]# index of predicted class"
   ]
  },
  {
   "cell_type": "code",
   "execution_count": 193,
   "id": "7ce0982e-aafb-4854-a569-7be39aed34a6",
   "metadata": {},
   "outputs": [
    {
     "data": {
      "text/plain": [
       "array([11.,  5., 12., ..., 19.,  7.,  9.], dtype=float32)"
      ]
     },
     "execution_count": 193,
     "metadata": {},
     "output_type": "execute_result"
    }
   ],
   "source": [
    "y_pred"
   ]
  },
  {
   "cell_type": "code",
   "execution_count": 194,
   "id": "ff5a1bfd-67cc-45ae-90ad-62414bbb64e3",
   "metadata": {},
   "outputs": [
    {
     "data": {
      "text/plain": [
       "array([10,  7, 12, ..., 19,  7,  8])"
      ]
     },
     "execution_count": 194,
     "metadata": {},
     "output_type": "execute_result"
    }
   ],
   "source": [
    "y_test"
   ]
  },
  {
   "cell_type": "code",
   "execution_count": 195,
   "id": "f76ad258-1b51-4232-b66f-a741c96d8f58",
   "metadata": {},
   "outputs": [],
   "source": [
    "# extract the probability of the correct class for each instance- highest norm prob by softmax \n",
    "\n",
    "y_prob_norm_correct = np.zeros(len(y_pred))\n",
    "for i in range(len(y_pred)):\n",
    "    y_prob_norm_correct[i] = y_prob_norm[i, int(y_pred[i])]"
   ]
  },
  {
   "cell_type": "code",
   "execution_count": 196,
   "id": "66a0f941-12f3-4d19-abcc-dd250f1c2578",
   "metadata": {},
   "outputs": [
    {
     "data": {
      "text/plain": [
       "array([0.65949941, 0.48308617, 0.56398255, ..., 0.84881455, 0.77378291,\n",
       "       0.698461  ])"
      ]
     },
     "execution_count": 196,
     "metadata": {},
     "output_type": "execute_result"
    }
   ],
   "source": [
    "y_prob_norm_correct"
   ]
  },
  {
   "cell_type": "code",
   "execution_count": 197,
   "id": "3701289d-8d0c-477d-99f1-8f082f2ebe38",
   "metadata": {},
   "outputs": [],
   "source": [
    "# add a new column to the DataFrame with the probability of the correct class\n",
    "test['prob_predictedClass'] = y_prob_norm_correct"
   ]
  },
  {
   "cell_type": "code",
   "execution_count": 198,
   "id": "5d19e146-bf40-43b4-aa31-a890e0d1ff5f",
   "metadata": {},
   "outputs": [
    {
     "data": {
      "text/plain": [
       "30         0.659499\n",
       "31         0.483086\n",
       "49         0.563983\n",
       "59         0.546292\n",
       "79         0.572588\n",
       "             ...   \n",
       "1034960    0.850762\n",
       "1034961    0.709022\n",
       "1034982    0.848815\n",
       "1034990    0.773783\n",
       "1034999    0.698461\n",
       "Name: prob_predictedClass, Length: 103363, dtype: float64"
      ]
     },
     "execution_count": 198,
     "metadata": {},
     "output_type": "execute_result"
    }
   ],
   "source": [
    "test['prob_predictedClass']"
   ]
  },
  {
   "cell_type": "code",
   "execution_count": 199,
   "id": "8d80f5f2-4668-4e8a-b952-792eee41a89b",
   "metadata": {},
   "outputs": [
    {
     "data": {
      "text/plain": [
       "0.6302"
      ]
     },
     "execution_count": 199,
     "metadata": {},
     "output_type": "execute_result"
    }
   ],
   "source": [
    "(test.xgb_pred.astype(float)==test.label_trx_size.astype(float)).mean().round(4)"
   ]
  },
  {
   "cell_type": "code",
   "execution_count": null,
   "id": "f47fe8cf-da1f-44b5-bed6-73e0a5964e17",
   "metadata": {},
   "outputs": [
    {
     "data": {
      "text/plain": [
       "(103363, 44)"
      ]
     },
     "execution_count": 86,
     "metadata": {},
     "output_type": "execute_result"
    }
   ],
   "source": [
    "test.shape"
   ]
  },
  {
   "cell_type": "code",
   "execution_count": null,
   "id": "3ec6c9b1-0f67-40da-94d3-1e369b8ebdcb",
   "metadata": {},
   "outputs": [
    {
     "data": {
      "text/plain": [
       "0.6184"
      ]
     },
     "execution_count": 87,
     "metadata": {},
     "output_type": "execute_result"
    }
   ],
   "source": [
    "(test.merged_mode.astype(float)==test.label_trx_size.astype(float)).mean().round(4)"
   ]
  },
  {
   "cell_type": "code",
   "execution_count": 200,
   "id": "41398436-1f87-448a-af2c-38da5a9d7c16",
   "metadata": {},
   "outputs": [
    {
     "name": "stdout",
     "output_type": "stream",
     "text": [
      "MaE: 0.4863\n",
      "MAE: 0.5165\n"
     ]
    }
   ],
   "source": [
    "from sklearn.metrics import mean_squared_error, mean_absolute_error, r2_score\n",
    "\n",
    "mae_xgb = mean_absolute_error(test['label_trx_size'].astype(float).tolist(), test['xgb_pred'].astype(float).tolist()).round(4)\n",
    "\n",
    "mae_mode = mean_absolute_error(test['label_trx_size'].astype(float).tolist(), test['merged_mode'].astype(float).tolist()).round(4)\n",
    "\n",
    "print(\"MaE:\", mae_xgb)\n",
    "\n",
    "print(\"MAE:\", mae_mode)"
   ]
  },
  {
   "cell_type": "markdown",
   "id": "4dfe7393-80a9-43d5-86bb-2e8e0bc33822",
   "metadata": {},
   "source": [
    "## Precision vs Recall :"
   ]
  },
  {
   "cell_type": "markdown",
   "id": "904addd4-304f-44a6-a540-e790001ec04e",
   "metadata": {},
   "source": [
    "### precision vs recall 1: "
   ]
  },
  {
   "cell_type": "code",
   "execution_count": null,
   "id": "1b963c57-3234-48c0-a2d2-c97bfb39fc45",
   "metadata": {},
   "outputs": [],
   "source": [
    "### Another wat to calculate precision recall curve is by taken the hghest prob of a class, and ytest value of the correct class and \n",
    "#compare it to y pred as binary label. "
   ]
  },
  {
   "cell_type": "code",
   "execution_count": 208,
   "id": "8bf29e5c-a9c9-40b4-ba1d-dfc83a9043df",
   "metadata": {},
   "outputs": [],
   "source": [
    "import numpy as np\n",
    "import matplotlib.pyplot as plt\n",
    "from sklearn.metrics import precision_recall_curve\n",
    "y_prob_predictedClass_class = np.max(y_prob_norm, axis=1)"
   ]
  },
  {
   "cell_type": "code",
   "execution_count": 209,
   "id": "d74112b6-12b9-4f65-b6e4-d5af117d655b",
   "metadata": {},
   "outputs": [
    {
     "data": {
      "text/plain": [
       "array([0.6594994 , 0.48308617, 0.56398255, ..., 0.84881455, 0.7737829 ,\n",
       "       0.698461  ], dtype=float32)"
      ]
     },
     "execution_count": 209,
     "metadata": {},
     "output_type": "execute_result"
    }
   ],
   "source": [
    "y_prob_predictedClass_class"
   ]
  },
  {
   "cell_type": "code",
   "execution_count": 210,
   "id": "3cb2efaa-1479-4e29-88d0-4852b03a3a28",
   "metadata": {},
   "outputs": [],
   "source": [
    "y_test_bin = (y_test == y_pred).astype(int)"
   ]
  },
  {
   "cell_type": "code",
   "execution_count": 211,
   "id": "2e405fa7-c44a-4a31-a572-30b3d00339c6",
   "metadata": {},
   "outputs": [
    {
     "data": {
      "text/plain": [
       "array([0, 0, 1, ..., 1, 1, 0])"
      ]
     },
     "execution_count": 211,
     "metadata": {},
     "output_type": "execute_result"
    }
   ],
   "source": [
    "y_test_bin"
   ]
  },
  {
   "cell_type": "code",
   "execution_count": 212,
   "id": "2f98513e-0674-4c16-a6e8-548466c1c026",
   "metadata": {},
   "outputs": [],
   "source": [
    "precision, recall, thresholds = precision_recall_curve(y_test_bin, y_prob_predictedClass_class)"
   ]
  },
  {
   "cell_type": "code",
   "execution_count": 213,
   "id": "629fbe58-29fa-450e-b574-9b949e84631f",
   "metadata": {},
   "outputs": [
    {
     "data": {
      "image/png": "[encoded data removed]",
      "text/plain": [
       "<Figure size 432x288 with 1 Axes>"
      ]
     },
     "metadata": {
      "needs_background": "light"
     },
     "output_type": "display_data"
    }
   ],
   "source": [
    "plt.plot(recall, precision, color='b', alpha=0.8, label='Precision-Recall Curve')\n",
    "plt.xlabel('Recall')\n",
    "plt.ylabel('Precision')\n",
    "plt.title('Precision-Recall Curve')\n",
    "plt.legend(loc='lower right')\n",
    "plt.show()"
   ]
  },
  {
   "cell_type": "code",
   "execution_count": 214,
   "id": "53798fc7-5a24-4431-8c38-9ad68b0594bc",
   "metadata": {},
   "outputs": [
    {
     "name": "stdout",
     "output_type": "stream",
     "text": [
      "Recall at Precision Threshold 0.95: 0.018\n",
      "Recall at Precision Threshold 0.9: 0.123\n",
      "Recall at Precision Threshold 0.85: 0.267\n",
      "Recall at Precision Threshold 0.8: 0.456\n",
      "Recall at Precision Threshold 0.75: 0.649\n",
      "Recall at Precision Threshold 0.7: 0.849\n",
      "Recall at Precision Threshold 0.65: 0.979\n",
      "Recall at Precision Threshold 0.63: 1.000\n",
      "Recall at Precision Threshold 0.6: 1.000\n",
      "Recall at Precision Threshold 0.55: 1.000\n",
      "Recall at Precision Threshold 0.5: 1.000\n"
     ]
    }
   ],
   "source": [
    "prec_thresholds = [0.95,0.9,0.85,0.8,0.75,0.7,0.65,0.63,0.6,0.55,0.5]  # Specify the precision thresholds of interest\n",
    "for prec_threshold in prec_thresholds:\n",
    "    idx = np.where(precision >= prec_threshold)[0][0]\n",
    "    recall_at_prec_threshold = recall[idx]\n",
    "    print(\"Recall at Precision Threshold {}: {:.3f}\".format(prec_threshold, recall_at_prec_threshold))"
   ]
  },
  {
   "cell_type": "markdown",
   "id": "a1a8fe48-5354-49e7-b92e-436c3cd856e9",
   "metadata": {},
   "source": [
    "precision = precision_score(y_test, y_pred, average='macro')\n",
    "recall = recall_score(y_test, y_pred, average='macro')## 4.Mtrics eval of 3 models: "
   ]
  },
  {
   "cell_type": "code",
   "execution_count": 215,
   "id": "0eef0f53-66d4-455a-8ff8-c686f8a41d14",
   "metadata": {},
   "outputs": [
    {
     "data": {
      "text/plain": [
       "0.6302"
      ]
     },
     "execution_count": 215,
     "metadata": {},
     "output_type": "execute_result"
    }
   ],
   "source": [
    "precision_score(y_true=test['label_trx_size'].astype(str).tolist(), y_pred=test['xgb_pred'].astype(str).tolist()\\\n",
    "                , average='micro').round(4)"
   ]
  },
  {
   "cell_type": "code",
   "execution_count": 216,
   "id": "d05aeaf0-0625-4fba-97c7-07cc0e89c4a8",
   "metadata": {},
   "outputs": [
    {
     "data": {
      "text/plain": [
       "0.63016"
      ]
     },
     "execution_count": 216,
     "metadata": {},
     "output_type": "execute_result"
    }
   ],
   "source": [
    "precision_score(y_true=test['label_trx_size'].astype(str).tolist(), y_pred=test['xgb_pred'].astype(str).tolist()\\\n",
    "                , average='micro').round(5)"
   ]
  },
  {
   "cell_type": "markdown",
   "id": "473d3359-526c-45b1-b769-051e15f256f7",
   "metadata": {
    "jp-MarkdownHeadingCollapsed": true,
    "tags": []
   },
   "source": [
    "## Prev"
   ]
  },
  {
   "cell_type": "code",
   "execution_count": null,
   "id": "6d1c2817-5087-492c-a3e6-1cc8b09e158b",
   "metadata": {},
   "outputs": [
    {
     "data": {
      "text/plain": [
       "(0.6301577934076991, 0.6301577934076991)"
      ]
     },
     "execution_count": 108,
     "metadata": {},
     "output_type": "execute_result"
    }
   ],
   "source": [
    "# Convert true labels and predicted labels to appropriate format\n",
    "y_true = test['label_trx_size'].tolist()\n",
    "y_pred = test['xgb_pred'].tolist()\n",
    "\n",
    "# Calculate the total number of true positives, false negatives, and false positives\n",
    "TP = 0\n",
    "FN = 0\n",
    "FP = 0\n",
    "\n",
    "for true_label, pred_label in zip(y_true, y_pred):\n",
    "    if true_label == pred_label:\n",
    "        TP += 1\n",
    "    else:\n",
    "        FN += 1\n",
    "        FP += 1\n",
    "\n",
    "# Calculate micro-averaged recall\n",
    "micro_recall = TP / (TP + FN)\n",
    "# Calculate micro-averaged precision\n",
    "micro_precision = TP / (TP + FP)\n",
    "micro_recall,micro_precision"
   ]
  },
  {
   "cell_type": "code",
   "execution_count": null,
   "id": "2693fdc2-d670-414f-a54c-e1345a986ec2",
   "metadata": {},
   "outputs": [],
   "source": [
    "y_true_bin = [1 if true_label == pred_label else 0 for true_label, pred_label in zip(y_true, y_pred)]\n",
    "\n",
    "TP = sum(y_true_bin)  # Count the number of true positives\n",
    "FN = len(y_true_bin) - TP  # Count the number of false negatives\n",
    "FP = sum([1 for label in y_true_bin if label == 0])  # Count the number of false positives\n",
    "\n",
    "# Calculate recall and precision\n",
    "recall = TP / (TP + FN)\n",
    "precision = TP / (TP + FP)"
   ]
  },
  {
   "cell_type": "code",
   "execution_count": null,
   "id": "acb827c2-2e68-496c-b08d-cee2ea2cfefc",
   "metadata": {},
   "outputs": [
    {
     "data": {
      "text/plain": [
       "(0.6301577934076991, 0.6301577934076991)"
      ]
     },
     "execution_count": 110,
     "metadata": {},
     "output_type": "execute_result"
    }
   ],
   "source": [
    "recall,precision"
   ]
  },
  {
   "cell_type": "code",
   "execution_count": 217,
   "id": "7d05603e-56e4-4c96-bdb6-f8ac46996f09",
   "metadata": {},
   "outputs": [
    {
     "data": {
      "text/plain": [
       "0.6216"
      ]
     },
     "execution_count": 217,
     "metadata": {},
     "output_type": "execute_result"
    }
   ],
   "source": [
    "precision_score(y_true=test['label_trx_size'].astype(str).tolist(), y_pred=test['pred_rf'].astype(str).tolist(), average='micro').round(4)"
   ]
  },
  {
   "cell_type": "code",
   "execution_count": 218,
   "id": "e34b0f0f-f249-4ff2-b91f-20e970e2f71c",
   "metadata": {},
   "outputs": [
    {
     "data": {
      "text/plain": [
       "0.617"
      ]
     },
     "execution_count": 218,
     "metadata": {},
     "output_type": "execute_result"
    }
   ],
   "source": [
    "precision_score(y_true=test['label_trx_size'].astype(str).tolist(), y_pred=test['merged_mode'].astype(str).tolist(), average='micro').round(3)"
   ]
  },
  {
   "cell_type": "code",
   "execution_count": 133,
   "id": "9c605eb6-2e10-48fb-a5ec-ba60890be9a8",
   "metadata": {},
   "outputs": [
    {
     "ename": "NameError",
     "evalue": "name 'recall_score' is not defined",
     "output_type": "error",
     "traceback": [
      "\u001b[0;31m---------------------------------------------------------------------------\u001b[0m",
      "\u001b[0;31mNameError\u001b[0m                                 Traceback (most recent call last)",
      "\u001b[0;32m/tmp/ipykernel_89213/4234970156.py\u001b[0m in \u001b[0;36m<module>\u001b[0;34m\u001b[0m\n\u001b[0;32m----> 1\u001b[0;31m recall_score(y_true=test['label_trx_size'].astype(str).tolist(), y_pred=test['xgb_pred'].astype(str).tolist()\\\n\u001b[0m\u001b[1;32m      2\u001b[0m                 , average='micro').round(4)\n",
      "\u001b[0;31mNameError\u001b[0m: name 'recall_score' is not defined"
     ]
    }
   ],
   "source": [
    "recall_score(y_true=test['label_trx_size'].astype(str).tolist(), y_pred=test['xgb_pred'].astype(str).tolist()\\\n",
    "                , average='micro').round(4)"
   ]
  },
  {
   "cell_type": "code",
   "execution_count": 219,
   "id": "6d8f011b-bf97-401d-a3ed-48a59d247e71",
   "metadata": {},
   "outputs": [
    {
     "name": "stdout",
     "output_type": "stream",
     "text": [
      "MaE: 0.494\n",
      "MAE: 0.4918\n",
      "MAE: 0.5167\n"
     ]
    }
   ],
   "source": [
    "from sklearn.metrics import mean_squared_error, mean_absolute_error, r2_score\n",
    "\n",
    "mae_xgb = mean_absolute_error(test['label_trx_size'].astype(float).tolist(), test['xgb_pred'].astype(float).tolist()).round(4)\n",
    "mae_rf = mean_absolute_error(test['label_trx_size'].astype(float).tolist(), test['pred_rf'].astype(float).tolist()).round(4)\n",
    "mae_mode = mean_absolute_error(test['label_trx_size'].astype(float).tolist(), test['merged_mode'].astype(float).tolist()).round(4)\n",
    "\n",
    "print(\"MaE:\", mae_xgb)\n",
    "print(\"MAE:\", mae_rf)\n",
    "print(\"MAE:\", mae_mode)"
   ]
  },
  {
   "cell_type": "code",
   "execution_count": 157,
   "id": "e17d970f-de35-4712-a6ef-1dd7f4833f8a",
   "metadata": {},
   "outputs": [
    {
     "data": {
      "text/plain": [
       "Index(['user_id', 'leaf_id', 'merged_std', 'merged_mean', 'merged_median',\n",
       "       'merged_mode', 'merged_maxMinDiff', 'merged_countOfEvidence',\n",
       "       'label_trx_size', 'pred_rf', 'y_pred_xgb_reg', 'xgb_class_int',\n",
       "       'prob_correct'],\n",
       "      dtype='object')"
      ]
     },
     "execution_count": 157,
     "metadata": {},
     "output_type": "execute_result"
    }
   ],
   "source": [
    "test.columns"
   ]
  },
  {
   "cell_type": "markdown",
   "id": "b7c9d8da-22c3-4a1b-b457-0b23b4503357",
   "metadata": {
    "jp-MarkdownHeadingCollapsed": true,
    "tags": []
   },
   "source": [
    "# Test examination:"
   ]
  },
  {
   "cell_type": "code",
   "execution_count": 136,
   "id": "ef7c6ff4-5c7c-4edb-b5f4-e108ab882179",
   "metadata": {},
   "outputs": [
    {
     "ename": "KeyError",
     "evalue": "\"['pred_rf', 'prob_correct'] not in index\"",
     "output_type": "error",
     "traceback": [
      "\u001b[0;31m---------------------------------------------------------------------------\u001b[0m",
      "\u001b[0;31mKeyError\u001b[0m                                  Traceback (most recent call last)",
      "\u001b[0;32m/tmp/ipykernel_89213/1868474617.py\u001b[0m in \u001b[0;36m<module>\u001b[0;34m\u001b[0m\n\u001b[1;32m      3\u001b[0m        'label_trx_size' , 'pred_rf',  'xgb_pred','prob_correct']\n\u001b[1;32m      4\u001b[0m \u001b[0;34m\u001b[0m\u001b[0m\n\u001b[0;32m----> 5\u001b[0;31m \u001b[0mtest\u001b[0m\u001b[0;34m.\u001b[0m\u001b[0mloc\u001b[0m\u001b[0;34m[\u001b[0m\u001b[0;34m(\u001b[0m\u001b[0mtest\u001b[0m\u001b[0;34m[\u001b[0m\u001b[0;34m'xgb_pred'\u001b[0m\u001b[0;34m]\u001b[0m\u001b[0;34m==\u001b[0m\u001b[0mtest\u001b[0m\u001b[0;34m[\u001b[0m\u001b[0;34m'label_trx_size'\u001b[0m\u001b[0;34m]\u001b[0m\u001b[0;34m)\u001b[0m\u001b[0;34m]\u001b[0m\u001b[0;34m[\u001b[0m\u001b[0mcols\u001b[0m\u001b[0;34m]\u001b[0m\u001b[0;34m.\u001b[0m\u001b[0mhead\u001b[0m\u001b[0;34m(\u001b[0m\u001b[0;36m20\u001b[0m\u001b[0;34m)\u001b[0m\u001b[0;34m\u001b[0m\u001b[0;34m\u001b[0m\u001b[0m\n\u001b[0m",
      "\u001b[0;32m/opt/conda/lib/python3.7/site-packages/pandas/core/frame.py\u001b[0m in \u001b[0;36m__getitem__\u001b[0;34m(self, key)\u001b[0m\n\u001b[1;32m   3028\u001b[0m             \u001b[0;32mif\u001b[0m \u001b[0mis_iterator\u001b[0m\u001b[0;34m(\u001b[0m\u001b[0mkey\u001b[0m\u001b[0;34m)\u001b[0m\u001b[0;34m:\u001b[0m\u001b[0;34m\u001b[0m\u001b[0;34m\u001b[0m\u001b[0m\n\u001b[1;32m   3029\u001b[0m                 \u001b[0mkey\u001b[0m \u001b[0;34m=\u001b[0m \u001b[0mlist\u001b[0m\u001b[0;34m(\u001b[0m\u001b[0mkey\u001b[0m\u001b[0;34m)\u001b[0m\u001b[0;34m\u001b[0m\u001b[0;34m\u001b[0m\u001b[0m\n\u001b[0;32m-> 3030\u001b[0;31m             \u001b[0mindexer\u001b[0m \u001b[0;34m=\u001b[0m \u001b[0mself\u001b[0m\u001b[0;34m.\u001b[0m\u001b[0mloc\u001b[0m\u001b[0;34m.\u001b[0m\u001b[0m_get_listlike_indexer\u001b[0m\u001b[0;34m(\u001b[0m\u001b[0mkey\u001b[0m\u001b[0;34m,\u001b[0m \u001b[0maxis\u001b[0m\u001b[0;34m=\u001b[0m\u001b[0;36m1\u001b[0m\u001b[0;34m,\u001b[0m \u001b[0mraise_missing\u001b[0m\u001b[0;34m=\u001b[0m\u001b[0;32mTrue\u001b[0m\u001b[0;34m)\u001b[0m\u001b[0;34m[\u001b[0m\u001b[0;36m1\u001b[0m\u001b[0;34m]\u001b[0m\u001b[0;34m\u001b[0m\u001b[0;34m\u001b[0m\u001b[0m\n\u001b[0m\u001b[1;32m   3031\u001b[0m \u001b[0;34m\u001b[0m\u001b[0m\n\u001b[1;32m   3032\u001b[0m         \u001b[0;31m# take() does not accept boolean indexers\u001b[0m\u001b[0;34m\u001b[0m\u001b[0;34m\u001b[0m\u001b[0;34m\u001b[0m\u001b[0m\n",
      "\u001b[0;32m/opt/conda/lib/python3.7/site-packages/pandas/core/indexing.py\u001b[0m in \u001b[0;36m_get_listlike_indexer\u001b[0;34m(self, key, axis, raise_missing)\u001b[0m\n\u001b[1;32m   1264\u001b[0m             \u001b[0mkeyarr\u001b[0m\u001b[0;34m,\u001b[0m \u001b[0mindexer\u001b[0m\u001b[0;34m,\u001b[0m \u001b[0mnew_indexer\u001b[0m \u001b[0;34m=\u001b[0m \u001b[0max\u001b[0m\u001b[0;34m.\u001b[0m\u001b[0m_reindex_non_unique\u001b[0m\u001b[0;34m(\u001b[0m\u001b[0mkeyarr\u001b[0m\u001b[0;34m)\u001b[0m\u001b[0;34m\u001b[0m\u001b[0;34m\u001b[0m\u001b[0m\n\u001b[1;32m   1265\u001b[0m \u001b[0;34m\u001b[0m\u001b[0m\n\u001b[0;32m-> 1266\u001b[0;31m         \u001b[0mself\u001b[0m\u001b[0;34m.\u001b[0m\u001b[0m_validate_read_indexer\u001b[0m\u001b[0;34m(\u001b[0m\u001b[0mkeyarr\u001b[0m\u001b[0;34m,\u001b[0m \u001b[0mindexer\u001b[0m\u001b[0;34m,\u001b[0m \u001b[0maxis\u001b[0m\u001b[0;34m,\u001b[0m \u001b[0mraise_missing\u001b[0m\u001b[0;34m=\u001b[0m\u001b[0mraise_missing\u001b[0m\u001b[0;34m)\u001b[0m\u001b[0;34m\u001b[0m\u001b[0;34m\u001b[0m\u001b[0m\n\u001b[0m\u001b[1;32m   1267\u001b[0m         \u001b[0;32mreturn\u001b[0m \u001b[0mkeyarr\u001b[0m\u001b[0;34m,\u001b[0m \u001b[0mindexer\u001b[0m\u001b[0;34m\u001b[0m\u001b[0;34m\u001b[0m\u001b[0m\n\u001b[1;32m   1268\u001b[0m \u001b[0;34m\u001b[0m\u001b[0m\n",
      "\u001b[0;32m/opt/conda/lib/python3.7/site-packages/pandas/core/indexing.py\u001b[0m in \u001b[0;36m_validate_read_indexer\u001b[0;34m(self, key, indexer, axis, raise_missing)\u001b[0m\n\u001b[1;32m   1314\u001b[0m             \u001b[0;32mif\u001b[0m \u001b[0mraise_missing\u001b[0m\u001b[0;34m:\u001b[0m\u001b[0;34m\u001b[0m\u001b[0;34m\u001b[0m\u001b[0m\n\u001b[1;32m   1315\u001b[0m                 \u001b[0mnot_found\u001b[0m \u001b[0;34m=\u001b[0m \u001b[0mlist\u001b[0m\u001b[0;34m(\u001b[0m\u001b[0mset\u001b[0m\u001b[0;34m(\u001b[0m\u001b[0mkey\u001b[0m\u001b[0;34m)\u001b[0m \u001b[0;34m-\u001b[0m \u001b[0mset\u001b[0m\u001b[0;34m(\u001b[0m\u001b[0max\u001b[0m\u001b[0;34m)\u001b[0m\u001b[0;34m)\u001b[0m\u001b[0;34m\u001b[0m\u001b[0;34m\u001b[0m\u001b[0m\n\u001b[0;32m-> 1316\u001b[0;31m                 \u001b[0;32mraise\u001b[0m \u001b[0mKeyError\u001b[0m\u001b[0;34m(\u001b[0m\u001b[0;34mf\"{not_found} not in index\"\u001b[0m\u001b[0;34m)\u001b[0m\u001b[0;34m\u001b[0m\u001b[0;34m\u001b[0m\u001b[0m\n\u001b[0m\u001b[1;32m   1317\u001b[0m \u001b[0;34m\u001b[0m\u001b[0m\n\u001b[1;32m   1318\u001b[0m             \u001b[0mnot_found\u001b[0m \u001b[0;34m=\u001b[0m \u001b[0mkey\u001b[0m\u001b[0;34m[\u001b[0m\u001b[0mmissing_mask\u001b[0m\u001b[0;34m]\u001b[0m\u001b[0;34m\u001b[0m\u001b[0;34m\u001b[0m\u001b[0m\n",
      "\u001b[0;31mKeyError\u001b[0m: \"['pred_rf', 'prob_correct'] not in index\""
     ]
    }
   ],
   "source": [
    "cols=['user_id', 'leaf_id', 'merged_std', 'merged_mean', 'merged_median',\n",
    "       'merged_mode', 'merged_maxMinDiff', 'merged_countOfEvidence',\n",
    "       'label_trx_size' , 'pred_rf',  'xgb_pred','prob_predictedClass']\n",
    "\n",
    "test.loc[(test['xgb_pred']==test['label_trx_size'])][cols].head(20)"
   ]
  },
  {
   "cell_type": "code",
   "execution_count": 389,
   "id": "8bbbf631-31c4-488b-9310-5996a33de32a",
   "metadata": {},
   "outputs": [
    {
     "data": {
      "text/html": [
       "<div>\n",
       "<style scoped>\n",
       "    .dataframe tbody tr th:only-of-type {\n",
       "        vertical-align: middle;\n",
       "    }\n",
       "\n",
       "    .dataframe tbody tr th {\n",
       "        vertical-align: top;\n",
       "    }\n",
       "\n",
       "    .dataframe thead th {\n",
       "        text-align: right;\n",
       "    }\n",
       "</style>\n",
       "<table border=\"1\" class=\"dataframe\">\n",
       "  <thead>\n",
       "    <tr style=\"text-align: right;\">\n",
       "      <th></th>\n",
       "      <th>user_id</th>\n",
       "      <th>leaf_id</th>\n",
       "      <th>merged_std</th>\n",
       "      <th>merged_mean</th>\n",
       "      <th>merged_median</th>\n",
       "      <th>merged_mode</th>\n",
       "      <th>merged_maxMinDiff</th>\n",
       "      <th>merged_countOfEvidence</th>\n",
       "      <th>label_trx_size</th>\n",
       "      <th>pred_rf</th>\n",
       "      <th>xgb_pred</th>\n",
       "      <th>prob_correct</th>\n",
       "    </tr>\n",
       "  </thead>\n",
       "  <tbody>\n",
       "    <tr>\n",
       "      <th>5480</th>\n",
       "      <td>1652118</td>\n",
       "      <td>15709</td>\n",
       "      <td>0.142368</td>\n",
       "      <td>10.986364</td>\n",
       "      <td>11.0</td>\n",
       "      <td>11.0</td>\n",
       "      <td>1.5</td>\n",
       "      <td>110</td>\n",
       "      <td>11.0</td>\n",
       "      <td>11.0</td>\n",
       "      <td>11.0</td>\n",
       "      <td>0.845867</td>\n",
       "    </tr>\n",
       "    <tr>\n",
       "      <th>15830</th>\n",
       "      <td>5252883</td>\n",
       "      <td>15709</td>\n",
       "      <td>0.154207</td>\n",
       "      <td>11.963470</td>\n",
       "      <td>12.0</td>\n",
       "      <td>12.0</td>\n",
       "      <td>1.5</td>\n",
       "      <td>219</td>\n",
       "      <td>12.0</td>\n",
       "      <td>12.0</td>\n",
       "      <td>12.0</td>\n",
       "      <td>0.844108</td>\n",
       "    </tr>\n",
       "    <tr>\n",
       "      <th>17184</th>\n",
       "      <td>5751984</td>\n",
       "      <td>15709</td>\n",
       "      <td>0.181230</td>\n",
       "      <td>12.946429</td>\n",
       "      <td>13.0</td>\n",
       "      <td>13.0</td>\n",
       "      <td>1.0</td>\n",
       "      <td>112</td>\n",
       "      <td>13.0</td>\n",
       "      <td>13.0</td>\n",
       "      <td>13.0</td>\n",
       "      <td>0.889259</td>\n",
       "    </tr>\n",
       "    <tr>\n",
       "      <th>25748</th>\n",
       "      <td>9307447</td>\n",
       "      <td>15709</td>\n",
       "      <td>0.000000</td>\n",
       "      <td>13.000000</td>\n",
       "      <td>13.0</td>\n",
       "      <td>13.0</td>\n",
       "      <td>0.0</td>\n",
       "      <td>273</td>\n",
       "      <td>13.0</td>\n",
       "      <td>13.0</td>\n",
       "      <td>13.0</td>\n",
       "      <td>0.918552</td>\n",
       "    </tr>\n",
       "    <tr>\n",
       "      <th>30464</th>\n",
       "      <td>11338607</td>\n",
       "      <td>15709</td>\n",
       "      <td>0.160806</td>\n",
       "      <td>11.982558</td>\n",
       "      <td>12.0</td>\n",
       "      <td>12.0</td>\n",
       "      <td>1.5</td>\n",
       "      <td>172</td>\n",
       "      <td>12.0</td>\n",
       "      <td>12.0</td>\n",
       "      <td>12.0</td>\n",
       "      <td>0.844108</td>\n",
       "    </tr>\n",
       "    <tr>\n",
       "      <th>39972</th>\n",
       "      <td>15415253</td>\n",
       "      <td>15709</td>\n",
       "      <td>0.116420</td>\n",
       "      <td>8.509091</td>\n",
       "      <td>8.5</td>\n",
       "      <td>8.5</td>\n",
       "      <td>1.0</td>\n",
       "      <td>110</td>\n",
       "      <td>8.5</td>\n",
       "      <td>8.5</td>\n",
       "      <td>8.5</td>\n",
       "      <td>0.803711</td>\n",
       "    </tr>\n",
       "    <tr>\n",
       "      <th>44449</th>\n",
       "      <td>18613280</td>\n",
       "      <td>15709</td>\n",
       "      <td>0.242182</td>\n",
       "      <td>10.187970</td>\n",
       "      <td>10.0</td>\n",
       "      <td>10.0</td>\n",
       "      <td>0.5</td>\n",
       "      <td>133</td>\n",
       "      <td>10.0</td>\n",
       "      <td>10.0</td>\n",
       "      <td>10.0</td>\n",
       "      <td>0.572868</td>\n",
       "    </tr>\n",
       "    <tr>\n",
       "      <th>47191</th>\n",
       "      <td>20134941</td>\n",
       "      <td>15709</td>\n",
       "      <td>0.237378</td>\n",
       "      <td>10.936782</td>\n",
       "      <td>11.0</td>\n",
       "      <td>11.0</td>\n",
       "      <td>1.0</td>\n",
       "      <td>174</td>\n",
       "      <td>11.0</td>\n",
       "      <td>11.0</td>\n",
       "      <td>11.0</td>\n",
       "      <td>0.654335</td>\n",
       "    </tr>\n",
       "    <tr>\n",
       "      <th>49317</th>\n",
       "      <td>21300628</td>\n",
       "      <td>15709</td>\n",
       "      <td>0.000000</td>\n",
       "      <td>14.000000</td>\n",
       "      <td>14.0</td>\n",
       "      <td>14.0</td>\n",
       "      <td>0.0</td>\n",
       "      <td>120</td>\n",
       "      <td>14.0</td>\n",
       "      <td>14.0</td>\n",
       "      <td>14.0</td>\n",
       "      <td>0.897386</td>\n",
       "    </tr>\n",
       "    <tr>\n",
       "      <th>55371</th>\n",
       "      <td>24656470</td>\n",
       "      <td>15709</td>\n",
       "      <td>0.249642</td>\n",
       "      <td>9.292432</td>\n",
       "      <td>9.5</td>\n",
       "      <td>9.5</td>\n",
       "      <td>1.5</td>\n",
       "      <td>925</td>\n",
       "      <td>9.5</td>\n",
       "      <td>9.5</td>\n",
       "      <td>9.5</td>\n",
       "      <td>0.577074</td>\n",
       "    </tr>\n",
       "  </tbody>\n",
       "</table>\n",
       "</div>"
      ],
      "text/plain": [
       "        user_id leaf_id  merged_std  merged_mean  merged_median  merged_mode  \\\n",
       "5480    1652118   15709    0.142368    10.986364           11.0         11.0   \n",
       "15830   5252883   15709    0.154207    11.963470           12.0         12.0   \n",
       "17184   5751984   15709    0.181230    12.946429           13.0         13.0   \n",
       "25748   9307447   15709    0.000000    13.000000           13.0         13.0   \n",
       "30464  11338607   15709    0.160806    11.982558           12.0         12.0   \n",
       "39972  15415253   15709    0.116420     8.509091            8.5          8.5   \n",
       "44449  18613280   15709    0.242182    10.187970           10.0         10.0   \n",
       "47191  20134941   15709    0.237378    10.936782           11.0         11.0   \n",
       "49317  21300628   15709    0.000000    14.000000           14.0         14.0   \n",
       "55371  24656470   15709    0.249642     9.292432            9.5          9.5   \n",
       "\n",
       "       merged_maxMinDiff  merged_countOfEvidence  label_trx_size pred_rf  \\\n",
       "5480                 1.5                     110            11.0    11.0   \n",
       "15830                1.5                     219            12.0    12.0   \n",
       "17184                1.0                     112            13.0    13.0   \n",
       "25748                0.0                     273            13.0    13.0   \n",
       "30464                1.5                     172            12.0    12.0   \n",
       "39972                1.0                     110             8.5     8.5   \n",
       "44449                0.5                     133            10.0    10.0   \n",
       "47191                1.0                     174            11.0    11.0   \n",
       "49317                0.0                     120            14.0    14.0   \n",
       "55371                1.5                     925             9.5     9.5   \n",
       "\n",
       "       xgb_pred  prob_correct  \n",
       "5480       11.0      0.845867  \n",
       "15830      12.0      0.844108  \n",
       "17184      13.0      0.889259  \n",
       "25748      13.0      0.918552  \n",
       "30464      12.0      0.844108  \n",
       "39972       8.5      0.803711  \n",
       "44449      10.0      0.572868  \n",
       "47191      11.0      0.654335  \n",
       "49317      14.0      0.897386  \n",
       "55371       9.5      0.577074  "
      ]
     },
     "execution_count": 389,
     "metadata": {},
     "output_type": "execute_result"
    }
   ],
   "source": [
    "test.loc[((test['xgb_pred']==test['label_trx_size'] ) & (test.merged_countOfEvidence >100) & ((test.merged_std <0.250000)) )][cols].head(10)"
   ]
  },
  {
   "cell_type": "code",
   "execution_count": 390,
   "id": "0416bcb5-c1ea-47a7-b444-caf1e920c4c0",
   "metadata": {},
   "outputs": [
    {
     "data": {
      "text/html": [
       "<div>\n",
       "<style scoped>\n",
       "    .dataframe tbody tr th:only-of-type {\n",
       "        vertical-align: middle;\n",
       "    }\n",
       "\n",
       "    .dataframe tbody tr th {\n",
       "        vertical-align: top;\n",
       "    }\n",
       "\n",
       "    .dataframe thead th {\n",
       "        text-align: right;\n",
       "    }\n",
       "</style>\n",
       "<table border=\"1\" class=\"dataframe\">\n",
       "  <thead>\n",
       "    <tr style=\"text-align: right;\">\n",
       "      <th></th>\n",
       "      <th>user_id</th>\n",
       "      <th>leaf_id</th>\n",
       "      <th>merged_std</th>\n",
       "      <th>merged_mean</th>\n",
       "      <th>merged_median</th>\n",
       "      <th>merged_mode</th>\n",
       "      <th>merged_maxMinDiff</th>\n",
       "      <th>merged_countOfEvidence</th>\n",
       "      <th>label_trx_size</th>\n",
       "      <th>pred_rf</th>\n",
       "      <th>xgb_pred</th>\n",
       "      <th>prob_correct</th>\n",
       "    </tr>\n",
       "  </thead>\n",
       "  <tbody>\n",
       "    <tr>\n",
       "      <th>137</th>\n",
       "      <td>44657</td>\n",
       "      <td>15709</td>\n",
       "      <td>0.894427</td>\n",
       "      <td>8.500000</td>\n",
       "      <td>9.0</td>\n",
       "      <td>9.0</td>\n",
       "      <td>2.5</td>\n",
       "      <td>5</td>\n",
       "      <td>9.0</td>\n",
       "      <td>9.0</td>\n",
       "      <td>9.0</td>\n",
       "      <td>0.432903</td>\n",
       "    </tr>\n",
       "    <tr>\n",
       "      <th>219</th>\n",
       "      <td>70968</td>\n",
       "      <td>15709</td>\n",
       "      <td>0.314270</td>\n",
       "      <td>12.888889</td>\n",
       "      <td>13.0</td>\n",
       "      <td>13.0</td>\n",
       "      <td>1.0</td>\n",
       "      <td>9</td>\n",
       "      <td>13.0</td>\n",
       "      <td>13.0</td>\n",
       "      <td>13.0</td>\n",
       "      <td>0.844112</td>\n",
       "    </tr>\n",
       "    <tr>\n",
       "      <th>651</th>\n",
       "      <td>231060</td>\n",
       "      <td>95672</td>\n",
       "      <td>1.082532</td>\n",
       "      <td>6.875000</td>\n",
       "      <td>7.5</td>\n",
       "      <td>7.5</td>\n",
       "      <td>2.5</td>\n",
       "      <td>4</td>\n",
       "      <td>7.5</td>\n",
       "      <td>7.5</td>\n",
       "      <td>7.5</td>\n",
       "      <td>0.311867</td>\n",
       "    </tr>\n",
       "    <tr>\n",
       "      <th>659</th>\n",
       "      <td>233258</td>\n",
       "      <td>95672</td>\n",
       "      <td>0.408248</td>\n",
       "      <td>6.000000</td>\n",
       "      <td>6.0</td>\n",
       "      <td>5.5</td>\n",
       "      <td>1.0</td>\n",
       "      <td>3</td>\n",
       "      <td>6.0</td>\n",
       "      <td>6.0</td>\n",
       "      <td>6.0</td>\n",
       "      <td>0.222141</td>\n",
       "    </tr>\n",
       "    <tr>\n",
       "      <th>662</th>\n",
       "      <td>233533</td>\n",
       "      <td>15709</td>\n",
       "      <td>1.658312</td>\n",
       "      <td>8.750000</td>\n",
       "      <td>9.0</td>\n",
       "      <td>9.0</td>\n",
       "      <td>5.5</td>\n",
       "      <td>8</td>\n",
       "      <td>9.0</td>\n",
       "      <td>9.0</td>\n",
       "      <td>9.0</td>\n",
       "      <td>0.353951</td>\n",
       "    </tr>\n",
       "    <tr>\n",
       "      <th>663</th>\n",
       "      <td>233533</td>\n",
       "      <td>95672</td>\n",
       "      <td>0.774597</td>\n",
       "      <td>10.500000</td>\n",
       "      <td>11.0</td>\n",
       "      <td>11.0</td>\n",
       "      <td>2.0</td>\n",
       "      <td>5</td>\n",
       "      <td>11.0</td>\n",
       "      <td>11.0</td>\n",
       "      <td>11.0</td>\n",
       "      <td>0.581426</td>\n",
       "    </tr>\n",
       "    <tr>\n",
       "      <th>1307</th>\n",
       "      <td>422427</td>\n",
       "      <td>95672</td>\n",
       "      <td>0.400000</td>\n",
       "      <td>10.200000</td>\n",
       "      <td>10.0</td>\n",
       "      <td>10.0</td>\n",
       "      <td>1.0</td>\n",
       "      <td>5</td>\n",
       "      <td>10.0</td>\n",
       "      <td>10.0</td>\n",
       "      <td>10.0</td>\n",
       "      <td>0.526294</td>\n",
       "    </tr>\n",
       "    <tr>\n",
       "      <th>1314</th>\n",
       "      <td>425230</td>\n",
       "      <td>15709</td>\n",
       "      <td>1.299038</td>\n",
       "      <td>10.750000</td>\n",
       "      <td>11.5</td>\n",
       "      <td>11.5</td>\n",
       "      <td>3.0</td>\n",
       "      <td>4</td>\n",
       "      <td>11.5</td>\n",
       "      <td>11.5</td>\n",
       "      <td>11.5</td>\n",
       "      <td>0.502263</td>\n",
       "    </tr>\n",
       "    <tr>\n",
       "      <th>1341</th>\n",
       "      <td>433306</td>\n",
       "      <td>95672</td>\n",
       "      <td>0.433013</td>\n",
       "      <td>9.250000</td>\n",
       "      <td>9.5</td>\n",
       "      <td>9.5</td>\n",
       "      <td>1.0</td>\n",
       "      <td>4</td>\n",
       "      <td>9.5</td>\n",
       "      <td>9.5</td>\n",
       "      <td>9.5</td>\n",
       "      <td>0.514036</td>\n",
       "    </tr>\n",
       "    <tr>\n",
       "      <th>1402</th>\n",
       "      <td>450946</td>\n",
       "      <td>95672</td>\n",
       "      <td>0.316228</td>\n",
       "      <td>9.000000</td>\n",
       "      <td>9.0</td>\n",
       "      <td>9.0</td>\n",
       "      <td>1.0</td>\n",
       "      <td>5</td>\n",
       "      <td>9.0</td>\n",
       "      <td>9.0</td>\n",
       "      <td>9.0</td>\n",
       "      <td>0.589685</td>\n",
       "    </tr>\n",
       "  </tbody>\n",
       "</table>\n",
       "</div>"
      ],
      "text/plain": [
       "     user_id leaf_id  merged_std  merged_mean  merged_median  merged_mode  \\\n",
       "137    44657   15709    0.894427     8.500000            9.0          9.0   \n",
       "219    70968   15709    0.314270    12.888889           13.0         13.0   \n",
       "651   231060   95672    1.082532     6.875000            7.5          7.5   \n",
       "659   233258   95672    0.408248     6.000000            6.0          5.5   \n",
       "662   233533   15709    1.658312     8.750000            9.0          9.0   \n",
       "663   233533   95672    0.774597    10.500000           11.0         11.0   \n",
       "1307  422427   95672    0.400000    10.200000           10.0         10.0   \n",
       "1314  425230   15709    1.299038    10.750000           11.5         11.5   \n",
       "1341  433306   95672    0.433013     9.250000            9.5          9.5   \n",
       "1402  450946   95672    0.316228     9.000000            9.0          9.0   \n",
       "\n",
       "      merged_maxMinDiff  merged_countOfEvidence  label_trx_size pred_rf  \\\n",
       "137                 2.5                       5             9.0     9.0   \n",
       "219                 1.0                       9            13.0    13.0   \n",
       "651                 2.5                       4             7.5     7.5   \n",
       "659                 1.0                       3             6.0     6.0   \n",
       "662                 5.5                       8             9.0     9.0   \n",
       "663                 2.0                       5            11.0    11.0   \n",
       "1307                1.0                       5            10.0    10.0   \n",
       "1314                3.0                       4            11.5    11.5   \n",
       "1341                1.0                       4             9.5     9.5   \n",
       "1402                1.0                       5             9.0     9.0   \n",
       "\n",
       "      xgb_pred  prob_correct  \n",
       "137        9.0      0.432903  \n",
       "219       13.0      0.844112  \n",
       "651        7.5      0.311867  \n",
       "659        6.0      0.222141  \n",
       "662        9.0      0.353951  \n",
       "663       11.0      0.581426  \n",
       "1307      10.0      0.526294  \n",
       "1314      11.5      0.502263  \n",
       "1341       9.5      0.514036  \n",
       "1402       9.0      0.589685  "
      ]
     },
     "execution_count": 390,
     "metadata": {},
     "output_type": "execute_result"
    }
   ],
   "source": [
    "test.loc[((test['xgb_pred']==test['label_trx_size'] ) & (test.merged_countOfEvidence <10) & ((test.merged_std >0.250000)) )][cols].head(10)"
   ]
  },
  {
   "cell_type": "code",
   "execution_count": 393,
   "id": "363a88c9-fefe-46fe-96db-2f188ca72598",
   "metadata": {},
   "outputs": [
    {
     "data": {
      "text/plain": [
       "(5980, 14)"
      ]
     },
     "execution_count": 393,
     "metadata": {},
     "output_type": "execute_result"
    }
   ],
   "source": [
    "test.loc[((test['xgb_pred']==test['label_trx_size'] ) & (test.merged_countOfEvidence <10) & ((test.merged_std >0.250000)) )].shape"
   ]
  },
  {
   "cell_type": "code",
   "execution_count": 394,
   "id": "8f3fbd98-e4a2-4ebe-875e-925675afcd77",
   "metadata": {},
   "outputs": [
    {
     "data": {
      "text/plain": [
       "(8063, 14)"
      ]
     },
     "execution_count": 394,
     "metadata": {},
     "output_type": "execute_result"
    }
   ],
   "source": [
    "test.loc[((test['xgb_pred']!=test['label_trx_size'] ) & (test.merged_countOfEvidence <10) & ((test.merged_std >0.250000)) )].shape"
   ]
  },
  {
   "cell_type": "code",
   "execution_count": 407,
   "id": "6bebe2b2-4268-412d-96bd-8ba085e8c13d",
   "metadata": {},
   "outputs": [
    {
     "data": {
      "text/plain": [
       "count    75067.000000\n",
       "mean         0.647227\n",
       "std          0.121764\n",
       "min          0.208227\n",
       "25%          0.560894\n",
       "50%          0.598851\n",
       "75%          0.765113\n",
       "max          0.918552\n",
       "Name: prob_correct, dtype: float64"
      ]
     },
     "execution_count": 407,
     "metadata": {},
     "output_type": "execute_result"
    }
   ],
   "source": [
    "test.loc[(test.merged_std <0.25)].prob_predictedClass.describe()"
   ]
  },
  {
   "cell_type": "code",
   "execution_count": 409,
   "id": "4ab5570d-17a9-4fcf-b81d-0f3db4adbaf6",
   "metadata": {},
   "outputs": [
    {
     "data": {
      "text/plain": [
       "Index(['user_id', 'leaf_id', 'merged_std', 'merged_mean', 'merged_median',\n",
       "       'merged_mode', 'merged_maxMinDiff', 'merged_countOfEvidence',\n",
       "       'label_trx_size', 'pred_rf', 'y_pred_xgb_reg', 'xgb_class_int',\n",
       "       'prob_correct', 'xgb_pred'],\n",
       "      dtype='object')"
      ]
     },
     "execution_count": 409,
     "metadata": {},
     "output_type": "execute_result"
    }
   ],
   "source": [
    "test.columns"
   ]
  },
  {
   "cell_type": "code",
   "execution_count": 411,
   "id": "b1aa1445-1b01-4ae0-bed1-71c6fdb1e1c9",
   "metadata": {},
   "outputs": [
    {
     "data": {
      "text/plain": [
       "count    28461.000000\n",
       "mean         0.535635\n",
       "std          0.167275\n",
       "min          0.071446\n",
       "25%          0.462212\n",
       "50%          0.548288\n",
       "75%          0.637689\n",
       "max          0.915978\n",
       "Name: prob_correct, dtype: float64"
      ]
     },
     "execution_count": 411,
     "metadata": {},
     "output_type": "execute_result"
    }
   ],
   "source": [
    "test.loc[(test.merged_median != test.merged_mean)].prob_predictedClass.describe()"
   ]
  },
  {
   "cell_type": "code",
   "execution_count": 412,
   "id": "242a757e-3bbc-45dd-805b-8ca6e76963d4",
   "metadata": {},
   "outputs": [
    {
     "data": {
      "text/plain": [
       "count    66868.000000\n",
       "mean         0.646456\n",
       "std          0.121033\n",
       "min          0.208227\n",
       "25%          0.560894\n",
       "50%          0.598851\n",
       "75%          0.765113\n",
       "max          0.918552\n",
       "Name: prob_correct, dtype: float64"
      ]
     },
     "execution_count": 412,
     "metadata": {},
     "output_type": "execute_result"
    }
   ],
   "source": [
    "test.loc[(test.merged_median== test.merged_mean) & (test.merged_median== test.merged_mode)].prob_predictedClass.describe()"
   ]
  },
  {
   "cell_type": "code",
   "execution_count": 410,
   "id": "12a1e283-fafc-45d9-9563-b86388728ca4",
   "metadata": {},
   "outputs": [
    {
     "data": {
      "text/plain": [
       "count    75076.000000\n",
       "mean         0.609045\n",
       "std          0.158203\n",
       "min          0.086277\n",
       "25%          0.547326\n",
       "50%          0.591873\n",
       "75%          0.751883\n",
       "max          0.918552\n",
       "Name: prob_correct, dtype: float64"
      ]
     },
     "execution_count": 410,
     "metadata": {},
     "output_type": "execute_result"
    }
   ],
   "source": [
    "test.loc[(test.merged_median== test.merged_mean)].prob_predictedClass.describe()"
   ]
  },
  {
   "cell_type": "code",
   "execution_count": 408,
   "id": "9186f21d-ecd2-4e0f-83c7-187e226e9c79",
   "metadata": {},
   "outputs": [
    {
     "data": {
      "text/plain": [
       "count    24616.000000\n",
       "mean         0.446202\n",
       "std          0.170554\n",
       "min          0.071446\n",
       "25%          0.279387\n",
       "50%          0.486464\n",
       "75%          0.577074\n",
       "max          0.894965\n",
       "Name: prob_correct, dtype: float64"
      ]
     },
     "execution_count": 408,
     "metadata": {},
     "output_type": "execute_result"
    }
   ],
   "source": [
    "test.loc[(test.merged_std >0.25)].prob_predictedClass.describe()"
   ]
  },
  {
   "cell_type": "code",
   "execution_count": 401,
   "id": "ec97d0b0-4e99-45de-b97c-993c0648e4ad",
   "metadata": {},
   "outputs": [
    {
     "data": {
      "text/plain": [
       "count    4870.000000\n",
       "mean        0.774849\n",
       "std         0.106922\n",
       "min         0.350926\n",
       "25%         0.725750\n",
       "50%         0.812927\n",
       "75%         0.845501\n",
       "max         0.918552\n",
       "Name: prob_correct, dtype: float64"
      ]
     },
     "execution_count": 401,
     "metadata": {},
     "output_type": "execute_result"
    }
   ],
   "source": [
    "test.loc[(test.merged_countOfEvidence >10) & ((test.merged_std <0.250000))].prob_predictedClass.describe()"
   ]
  },
  {
   "cell_type": "code",
   "execution_count": 399,
   "id": "3010f52c-b6f7-4fd2-ba09-9e176530e82c",
   "metadata": {},
   "outputs": [
    {
     "data": {
      "text/plain": [
       "count    14043.000000\n",
       "mean         0.381949\n",
       "std          0.156885\n",
       "min          0.071446\n",
       "25%          0.247445\n",
       "50%          0.376144\n",
       "75%          0.522043\n",
       "max          0.859169\n",
       "Name: prob_correct, dtype: float64"
      ]
     },
     "execution_count": 399,
     "metadata": {},
     "output_type": "execute_result"
    }
   ],
   "source": [
    "test.loc[(test.merged_countOfEvidence <10) & ((test.merged_std >0.250000))].prob_predictedClass.describe()"
   ]
  },
  {
   "cell_type": "code",
   "execution_count": 392,
   "id": "9bd116fe-7e44-47aa-8639-0d72b495e5b6",
   "metadata": {},
   "outputs": [
    {
     "data": {
      "text/html": [
       "<div>\n",
       "<style scoped>\n",
       "    .dataframe tbody tr th:only-of-type {\n",
       "        vertical-align: middle;\n",
       "    }\n",
       "\n",
       "    .dataframe tbody tr th {\n",
       "        vertical-align: top;\n",
       "    }\n",
       "\n",
       "    .dataframe thead th {\n",
       "        text-align: right;\n",
       "    }\n",
       "</style>\n",
       "<table border=\"1\" class=\"dataframe\">\n",
       "  <thead>\n",
       "    <tr style=\"text-align: right;\">\n",
       "      <th></th>\n",
       "      <th>user_id</th>\n",
       "      <th>leaf_id</th>\n",
       "      <th>merged_std</th>\n",
       "      <th>merged_mean</th>\n",
       "      <th>merged_median</th>\n",
       "      <th>merged_mode</th>\n",
       "      <th>merged_maxMinDiff</th>\n",
       "      <th>merged_countOfEvidence</th>\n",
       "      <th>label_trx_size</th>\n",
       "      <th>pred_rf</th>\n",
       "      <th>xgb_pred</th>\n",
       "      <th>prob_correct</th>\n",
       "    </tr>\n",
       "  </thead>\n",
       "  <tbody>\n",
       "    <tr>\n",
       "      <th>31</th>\n",
       "      <td>10681</td>\n",
       "      <td>95672</td>\n",
       "      <td>0.408248</td>\n",
       "      <td>7.000000</td>\n",
       "      <td>7.00</td>\n",
       "      <td>6.5</td>\n",
       "      <td>1.0</td>\n",
       "      <td>3</td>\n",
       "      <td>8.0</td>\n",
       "      <td>7.0</td>\n",
       "      <td>7.0</td>\n",
       "      <td>0.353640</td>\n",
       "    </tr>\n",
       "    <tr>\n",
       "      <th>411</th>\n",
       "      <td>150444</td>\n",
       "      <td>15709</td>\n",
       "      <td>1.414214</td>\n",
       "      <td>8.000000</td>\n",
       "      <td>7.00</td>\n",
       "      <td>7.0</td>\n",
       "      <td>3.0</td>\n",
       "      <td>3</td>\n",
       "      <td>10.5</td>\n",
       "      <td>7.0</td>\n",
       "      <td>7.0</td>\n",
       "      <td>0.286621</td>\n",
       "    </tr>\n",
       "    <tr>\n",
       "      <th>808</th>\n",
       "      <td>283752</td>\n",
       "      <td>15709</td>\n",
       "      <td>1.000000</td>\n",
       "      <td>11.000000</td>\n",
       "      <td>11.00</td>\n",
       "      <td>10.0</td>\n",
       "      <td>2.0</td>\n",
       "      <td>2</td>\n",
       "      <td>10.0</td>\n",
       "      <td>12.0</td>\n",
       "      <td>12.0</td>\n",
       "      <td>0.248470</td>\n",
       "    </tr>\n",
       "    <tr>\n",
       "      <th>980</th>\n",
       "      <td>333330</td>\n",
       "      <td>15709</td>\n",
       "      <td>0.500000</td>\n",
       "      <td>9.500000</td>\n",
       "      <td>9.50</td>\n",
       "      <td>9.0</td>\n",
       "      <td>1.0</td>\n",
       "      <td>2</td>\n",
       "      <td>9.0</td>\n",
       "      <td>10.0</td>\n",
       "      <td>10.0</td>\n",
       "      <td>0.261194</td>\n",
       "    </tr>\n",
       "    <tr>\n",
       "      <th>1276</th>\n",
       "      <td>412459</td>\n",
       "      <td>15709</td>\n",
       "      <td>0.500000</td>\n",
       "      <td>8.500000</td>\n",
       "      <td>8.50</td>\n",
       "      <td>8.0</td>\n",
       "      <td>1.0</td>\n",
       "      <td>2</td>\n",
       "      <td>8.0</td>\n",
       "      <td>9.0</td>\n",
       "      <td>9.0</td>\n",
       "      <td>0.251652</td>\n",
       "    </tr>\n",
       "    <tr>\n",
       "      <th>1521</th>\n",
       "      <td>487861</td>\n",
       "      <td>15709</td>\n",
       "      <td>2.524103</td>\n",
       "      <td>10.812500</td>\n",
       "      <td>10.75</td>\n",
       "      <td>9.5</td>\n",
       "      <td>9.5</td>\n",
       "      <td>8</td>\n",
       "      <td>6.0</td>\n",
       "      <td>11.0</td>\n",
       "      <td>9.5</td>\n",
       "      <td>0.135565</td>\n",
       "    </tr>\n",
       "    <tr>\n",
       "      <th>2030</th>\n",
       "      <td>648891</td>\n",
       "      <td>95672</td>\n",
       "      <td>0.559017</td>\n",
       "      <td>9.750000</td>\n",
       "      <td>10.00</td>\n",
       "      <td>10.0</td>\n",
       "      <td>1.5</td>\n",
       "      <td>6</td>\n",
       "      <td>13.0</td>\n",
       "      <td>10.0</td>\n",
       "      <td>10.0</td>\n",
       "      <td>0.519171</td>\n",
       "    </tr>\n",
       "    <tr>\n",
       "      <th>2062</th>\n",
       "      <td>657666</td>\n",
       "      <td>95672</td>\n",
       "      <td>0.489898</td>\n",
       "      <td>7.900000</td>\n",
       "      <td>7.50</td>\n",
       "      <td>7.5</td>\n",
       "      <td>1.0</td>\n",
       "      <td>5</td>\n",
       "      <td>8.5</td>\n",
       "      <td>7.5</td>\n",
       "      <td>7.5</td>\n",
       "      <td>0.469989</td>\n",
       "    </tr>\n",
       "    <tr>\n",
       "      <th>2271</th>\n",
       "      <td>718368</td>\n",
       "      <td>15709</td>\n",
       "      <td>0.748331</td>\n",
       "      <td>8.200000</td>\n",
       "      <td>8.00</td>\n",
       "      <td>7.5</td>\n",
       "      <td>2.0</td>\n",
       "      <td>5</td>\n",
       "      <td>8.5</td>\n",
       "      <td>8.0</td>\n",
       "      <td>7.5</td>\n",
       "      <td>0.218444</td>\n",
       "    </tr>\n",
       "    <tr>\n",
       "      <th>2426</th>\n",
       "      <td>761063</td>\n",
       "      <td>95672</td>\n",
       "      <td>0.606676</td>\n",
       "      <td>9.583333</td>\n",
       "      <td>9.50</td>\n",
       "      <td>9.0</td>\n",
       "      <td>1.5</td>\n",
       "      <td>6</td>\n",
       "      <td>10.5</td>\n",
       "      <td>9.0</td>\n",
       "      <td>10.0</td>\n",
       "      <td>0.247765</td>\n",
       "    </tr>\n",
       "  </tbody>\n",
       "</table>\n",
       "</div>"
      ],
      "text/plain": [
       "     user_id leaf_id  merged_std  merged_mean  merged_median  merged_mode  \\\n",
       "31     10681   95672    0.408248     7.000000           7.00          6.5   \n",
       "411   150444   15709    1.414214     8.000000           7.00          7.0   \n",
       "808   283752   15709    1.000000    11.000000          11.00         10.0   \n",
       "980   333330   15709    0.500000     9.500000           9.50          9.0   \n",
       "1276  412459   15709    0.500000     8.500000           8.50          8.0   \n",
       "1521  487861   15709    2.524103    10.812500          10.75          9.5   \n",
       "2030  648891   95672    0.559017     9.750000          10.00         10.0   \n",
       "2062  657666   95672    0.489898     7.900000           7.50          7.5   \n",
       "2271  718368   15709    0.748331     8.200000           8.00          7.5   \n",
       "2426  761063   95672    0.606676     9.583333           9.50          9.0   \n",
       "\n",
       "      merged_maxMinDiff  merged_countOfEvidence  label_trx_size pred_rf  \\\n",
       "31                  1.0                       3             8.0     7.0   \n",
       "411                 3.0                       3            10.5     7.0   \n",
       "808                 2.0                       2            10.0    12.0   \n",
       "980                 1.0                       2             9.0    10.0   \n",
       "1276                1.0                       2             8.0     9.0   \n",
       "1521                9.5                       8             6.0    11.0   \n",
       "2030                1.5                       6            13.0    10.0   \n",
       "2062                1.0                       5             8.5     7.5   \n",
       "2271                2.0                       5             8.5     8.0   \n",
       "2426                1.5                       6            10.5     9.0   \n",
       "\n",
       "      xgb_pred  prob_correct  \n",
       "31         7.0      0.353640  \n",
       "411        7.0      0.286621  \n",
       "808       12.0      0.248470  \n",
       "980       10.0      0.261194  \n",
       "1276       9.0      0.251652  \n",
       "1521       9.5      0.135565  \n",
       "2030      10.0      0.519171  \n",
       "2062       7.5      0.469989  \n",
       "2271       7.5      0.218444  \n",
       "2426      10.0      0.247765  "
      ]
     },
     "execution_count": 392,
     "metadata": {},
     "output_type": "execute_result"
    }
   ],
   "source": [
    "test.loc[((test['xgb_pred']!=test['label_trx_size'] ) & (test.merged_countOfEvidence <10) & ((test.merged_std >0.250000)) )][cols].head(10)"
   ]
  },
  {
   "cell_type": "code",
   "execution_count": 139,
   "id": "d7b7e666-d6ee-4073-8870-573816c4b8b6",
   "metadata": {},
   "outputs": [],
   "source": [
    "cols=['user_id', 'leaf_id', 'merged_std', 'merged_mean', 'merged_median',\n",
    "       'merged_mode', 'merged_maxMinDiff', 'merged_countOfEvidence',\n",
    "       'label_trx_size' ,   'xgb_pred','prob_predictedClass']"
   ]
  },
  {
   "cell_type": "code",
   "execution_count": 140,
   "id": "1a256860-2c77-4383-af1d-85cb5b5a80c7",
   "metadata": {},
   "outputs": [
    {
     "data": {
      "text/html": [
       "<div>\n",
       "<style scoped>\n",
       "    .dataframe tbody tr th:only-of-type {\n",
       "        vertical-align: middle;\n",
       "    }\n",
       "\n",
       "    .dataframe tbody tr th {\n",
       "        vertical-align: top;\n",
       "    }\n",
       "\n",
       "    .dataframe thead th {\n",
       "        text-align: right;\n",
       "    }\n",
       "</style>\n",
       "<table border=\"1\" class=\"dataframe\">\n",
       "  <thead>\n",
       "    <tr style=\"text-align: right;\">\n",
       "      <th></th>\n",
       "      <th>user_id</th>\n",
       "      <th>leaf_id</th>\n",
       "      <th>merged_std</th>\n",
       "      <th>merged_mean</th>\n",
       "      <th>merged_median</th>\n",
       "      <th>merged_mode</th>\n",
       "      <th>merged_maxMinDiff</th>\n",
       "      <th>merged_countOfEvidence</th>\n",
       "      <th>label_trx_size</th>\n",
       "      <th>xgb_pred</th>\n",
       "      <th>prob_predictedClass</th>\n",
       "    </tr>\n",
       "  </thead>\n",
       "  <tbody>\n",
       "    <tr>\n",
       "      <th>30</th>\n",
       "      <td>10555</td>\n",
       "      <td>95672</td>\n",
       "      <td>0.000000</td>\n",
       "      <td>10.0000</td>\n",
       "      <td>10.00</td>\n",
       "      <td>10.0</td>\n",
       "      <td>0.0</td>\n",
       "      <td>1</td>\n",
       "      <td>9.5</td>\n",
       "      <td>10.0</td>\n",
       "      <td>0.659499</td>\n",
       "    </tr>\n",
       "    <tr>\n",
       "      <th>31</th>\n",
       "      <td>10681</td>\n",
       "      <td>95672</td>\n",
       "      <td>0.408248</td>\n",
       "      <td>7.0000</td>\n",
       "      <td>7.00</td>\n",
       "      <td>6.5</td>\n",
       "      <td>1.0</td>\n",
       "      <td>3</td>\n",
       "      <td>8.0</td>\n",
       "      <td>7.0</td>\n",
       "      <td>0.483086</td>\n",
       "    </tr>\n",
       "    <tr>\n",
       "      <th>79</th>\n",
       "      <td>24200</td>\n",
       "      <td>15709</td>\n",
       "      <td>0.242061</td>\n",
       "      <td>11.1875</td>\n",
       "      <td>11.00</td>\n",
       "      <td>11.0</td>\n",
       "      <td>0.5</td>\n",
       "      <td>16</td>\n",
       "      <td>11.5</td>\n",
       "      <td>11.0</td>\n",
       "      <td>0.572588</td>\n",
       "    </tr>\n",
       "    <tr>\n",
       "      <th>82</th>\n",
       "      <td>25134</td>\n",
       "      <td>15709</td>\n",
       "      <td>0.250000</td>\n",
       "      <td>10.2500</td>\n",
       "      <td>10.25</td>\n",
       "      <td>10.0</td>\n",
       "      <td>0.5</td>\n",
       "      <td>4</td>\n",
       "      <td>10.5</td>\n",
       "      <td>10.0</td>\n",
       "      <td>0.541061</td>\n",
       "    </tr>\n",
       "    <tr>\n",
       "      <th>88</th>\n",
       "      <td>26812</td>\n",
       "      <td>95672</td>\n",
       "      <td>0.000000</td>\n",
       "      <td>9.5000</td>\n",
       "      <td>9.50</td>\n",
       "      <td>9.5</td>\n",
       "      <td>0.0</td>\n",
       "      <td>2</td>\n",
       "      <td>9.0</td>\n",
       "      <td>9.5</td>\n",
       "      <td>0.659848</td>\n",
       "    </tr>\n",
       "    <tr>\n",
       "      <th>149</th>\n",
       "      <td>47703</td>\n",
       "      <td>15709</td>\n",
       "      <td>0.000000</td>\n",
       "      <td>8.0000</td>\n",
       "      <td>8.00</td>\n",
       "      <td>8.0</td>\n",
       "      <td>0.0</td>\n",
       "      <td>7</td>\n",
       "      <td>12.0</td>\n",
       "      <td>8.0</td>\n",
       "      <td>0.799496</td>\n",
       "    </tr>\n",
       "    <tr>\n",
       "      <th>171</th>\n",
       "      <td>55036</td>\n",
       "      <td>15709</td>\n",
       "      <td>0.000000</td>\n",
       "      <td>11.0000</td>\n",
       "      <td>11.00</td>\n",
       "      <td>11.0</td>\n",
       "      <td>0.0</td>\n",
       "      <td>1</td>\n",
       "      <td>10.0</td>\n",
       "      <td>11.0</td>\n",
       "      <td>0.584948</td>\n",
       "    </tr>\n",
       "    <tr>\n",
       "      <th>208</th>\n",
       "      <td>66938</td>\n",
       "      <td>95672</td>\n",
       "      <td>0.000000</td>\n",
       "      <td>7.5000</td>\n",
       "      <td>7.50</td>\n",
       "      <td>7.5</td>\n",
       "      <td>0.0</td>\n",
       "      <td>2</td>\n",
       "      <td>8.0</td>\n",
       "      <td>7.5</td>\n",
       "      <td>0.610434</td>\n",
       "    </tr>\n",
       "    <tr>\n",
       "      <th>239</th>\n",
       "      <td>78549</td>\n",
       "      <td>95672</td>\n",
       "      <td>0.250000</td>\n",
       "      <td>9.2500</td>\n",
       "      <td>9.25</td>\n",
       "      <td>9.0</td>\n",
       "      <td>0.5</td>\n",
       "      <td>4</td>\n",
       "      <td>9.5</td>\n",
       "      <td>9.0</td>\n",
       "      <td>0.495236</td>\n",
       "    </tr>\n",
       "    <tr>\n",
       "      <th>356</th>\n",
       "      <td>125483</td>\n",
       "      <td>15709</td>\n",
       "      <td>0.000000</td>\n",
       "      <td>11.0000</td>\n",
       "      <td>11.00</td>\n",
       "      <td>11.0</td>\n",
       "      <td>0.0</td>\n",
       "      <td>1</td>\n",
       "      <td>10.5</td>\n",
       "      <td>11.0</td>\n",
       "      <td>0.584948</td>\n",
       "    </tr>\n",
       "  </tbody>\n",
       "</table>\n",
       "</div>"
      ],
      "text/plain": [
       "     user_id  leaf_id  merged_std  merged_mean  merged_median  merged_mode  \\\n",
       "30     10555    95672    0.000000      10.0000          10.00         10.0   \n",
       "31     10681    95672    0.408248       7.0000           7.00          6.5   \n",
       "79     24200    15709    0.242061      11.1875          11.00         11.0   \n",
       "82     25134    15709    0.250000      10.2500          10.25         10.0   \n",
       "88     26812    95672    0.000000       9.5000           9.50          9.5   \n",
       "149    47703    15709    0.000000       8.0000           8.00          8.0   \n",
       "171    55036    15709    0.000000      11.0000          11.00         11.0   \n",
       "208    66938    95672    0.000000       7.5000           7.50          7.5   \n",
       "239    78549    95672    0.250000       9.2500           9.25          9.0   \n",
       "356   125483    15709    0.000000      11.0000          11.00         11.0   \n",
       "\n",
       "     merged_maxMinDiff  merged_countOfEvidence  label_trx_size  xgb_pred  \\\n",
       "30                 0.0                       1             9.5      10.0   \n",
       "31                 1.0                       3             8.0       7.0   \n",
       "79                 0.5                      16            11.5      11.0   \n",
       "82                 0.5                       4            10.5      10.0   \n",
       "88                 0.0                       2             9.0       9.5   \n",
       "149                0.0                       7            12.0       8.0   \n",
       "171                0.0                       1            10.0      11.0   \n",
       "208                0.0                       2             8.0       7.5   \n",
       "239                0.5                       4             9.5       9.0   \n",
       "356                0.0                       1            10.5      11.0   \n",
       "\n",
       "     prob_predictedClass  \n",
       "30              0.659499  \n",
       "31              0.483086  \n",
       "79              0.572588  \n",
       "82              0.541061  \n",
       "88              0.659848  \n",
       "149             0.799496  \n",
       "171             0.584948  \n",
       "208             0.610434  \n",
       "239             0.495236  \n",
       "356             0.584948  "
      ]
     },
     "execution_count": 140,
     "metadata": {},
     "output_type": "execute_result"
    }
   ],
   "source": [
    "test.loc[~(test['xgb_pred']==test['label_trx_size'])][cols].head(10)\n",
    "#errors"
   ]
  },
  {
   "cell_type": "code",
   "execution_count": 141,
   "id": "53fe7a88-8ac1-4a8e-8e22-8973a777ee29",
   "metadata": {},
   "outputs": [
    {
     "data": {
      "text/html": [
       "<div>\n",
       "<style scoped>\n",
       "    .dataframe tbody tr th:only-of-type {\n",
       "        vertical-align: middle;\n",
       "    }\n",
       "\n",
       "    .dataframe tbody tr th {\n",
       "        vertical-align: top;\n",
       "    }\n",
       "\n",
       "    .dataframe thead th {\n",
       "        text-align: right;\n",
       "    }\n",
       "</style>\n",
       "<table border=\"1\" class=\"dataframe\">\n",
       "  <thead>\n",
       "    <tr style=\"text-align: right;\">\n",
       "      <th></th>\n",
       "      <th>user_id</th>\n",
       "      <th>leaf_id</th>\n",
       "      <th>merged_std</th>\n",
       "      <th>merged_mean</th>\n",
       "      <th>merged_median</th>\n",
       "      <th>merged_mode</th>\n",
       "      <th>merged_maxMinDiff</th>\n",
       "      <th>merged_countOfEvidence</th>\n",
       "      <th>label_trx_size</th>\n",
       "      <th>xgb_pred</th>\n",
       "      <th>prob_predictedClass</th>\n",
       "    </tr>\n",
       "  </thead>\n",
       "  <tbody>\n",
       "    <tr>\n",
       "      <th>49</th>\n",
       "      <td>14654</td>\n",
       "      <td>15709</td>\n",
       "      <td>0.000000</td>\n",
       "      <td>10.500000</td>\n",
       "      <td>10.5</td>\n",
       "      <td>10.5</td>\n",
       "      <td>0.0</td>\n",
       "      <td>1</td>\n",
       "      <td>10.5</td>\n",
       "      <td>10.5</td>\n",
       "      <td>0.563983</td>\n",
       "    </tr>\n",
       "    <tr>\n",
       "      <th>59</th>\n",
       "      <td>19942</td>\n",
       "      <td>15709</td>\n",
       "      <td>0.000000</td>\n",
       "      <td>11.500000</td>\n",
       "      <td>11.5</td>\n",
       "      <td>11.5</td>\n",
       "      <td>0.0</td>\n",
       "      <td>1</td>\n",
       "      <td>11.5</td>\n",
       "      <td>11.5</td>\n",
       "      <td>0.546292</td>\n",
       "    </tr>\n",
       "    <tr>\n",
       "      <th>117</th>\n",
       "      <td>37770</td>\n",
       "      <td>15709</td>\n",
       "      <td>0.000000</td>\n",
       "      <td>12.000000</td>\n",
       "      <td>12.0</td>\n",
       "      <td>12.0</td>\n",
       "      <td>0.0</td>\n",
       "      <td>5</td>\n",
       "      <td>12.0</td>\n",
       "      <td>12.0</td>\n",
       "      <td>0.781402</td>\n",
       "    </tr>\n",
       "    <tr>\n",
       "      <th>137</th>\n",
       "      <td>44657</td>\n",
       "      <td>15709</td>\n",
       "      <td>0.894427</td>\n",
       "      <td>8.500000</td>\n",
       "      <td>9.0</td>\n",
       "      <td>9.0</td>\n",
       "      <td>2.5</td>\n",
       "      <td>5</td>\n",
       "      <td>9.0</td>\n",
       "      <td>9.0</td>\n",
       "      <td>0.733534</td>\n",
       "    </tr>\n",
       "    <tr>\n",
       "      <th>153</th>\n",
       "      <td>48318</td>\n",
       "      <td>15709</td>\n",
       "      <td>0.000000</td>\n",
       "      <td>12.000000</td>\n",
       "      <td>12.0</td>\n",
       "      <td>12.0</td>\n",
       "      <td>0.0</td>\n",
       "      <td>1</td>\n",
       "      <td>12.0</td>\n",
       "      <td>12.0</td>\n",
       "      <td>0.655168</td>\n",
       "    </tr>\n",
       "    <tr>\n",
       "      <th>173</th>\n",
       "      <td>55491</td>\n",
       "      <td>15709</td>\n",
       "      <td>0.000000</td>\n",
       "      <td>8.500000</td>\n",
       "      <td>8.5</td>\n",
       "      <td>8.5</td>\n",
       "      <td>0.0</td>\n",
       "      <td>2</td>\n",
       "      <td>8.5</td>\n",
       "      <td>8.5</td>\n",
       "      <td>0.740435</td>\n",
       "    </tr>\n",
       "    <tr>\n",
       "      <th>177</th>\n",
       "      <td>56088</td>\n",
       "      <td>15709</td>\n",
       "      <td>0.000000</td>\n",
       "      <td>11.500000</td>\n",
       "      <td>11.5</td>\n",
       "      <td>11.5</td>\n",
       "      <td>0.0</td>\n",
       "      <td>1</td>\n",
       "      <td>11.5</td>\n",
       "      <td>11.5</td>\n",
       "      <td>0.546292</td>\n",
       "    </tr>\n",
       "    <tr>\n",
       "      <th>189</th>\n",
       "      <td>61868</td>\n",
       "      <td>15709</td>\n",
       "      <td>0.000000</td>\n",
       "      <td>7.000000</td>\n",
       "      <td>7.0</td>\n",
       "      <td>7.0</td>\n",
       "      <td>0.0</td>\n",
       "      <td>2</td>\n",
       "      <td>7.0</td>\n",
       "      <td>7.0</td>\n",
       "      <td>0.610004</td>\n",
       "    </tr>\n",
       "    <tr>\n",
       "      <th>202</th>\n",
       "      <td>65395</td>\n",
       "      <td>95672</td>\n",
       "      <td>0.364216</td>\n",
       "      <td>10.785714</td>\n",
       "      <td>11.0</td>\n",
       "      <td>11.0</td>\n",
       "      <td>1.0</td>\n",
       "      <td>14</td>\n",
       "      <td>11.0</td>\n",
       "      <td>11.0</td>\n",
       "      <td>0.421435</td>\n",
       "    </tr>\n",
       "    <tr>\n",
       "      <th>203</th>\n",
       "      <td>65504</td>\n",
       "      <td>95672</td>\n",
       "      <td>0.000000</td>\n",
       "      <td>8.500000</td>\n",
       "      <td>8.5</td>\n",
       "      <td>8.5</td>\n",
       "      <td>0.0</td>\n",
       "      <td>1</td>\n",
       "      <td>8.5</td>\n",
       "      <td>8.5</td>\n",
       "      <td>0.548024</td>\n",
       "    </tr>\n",
       "  </tbody>\n",
       "</table>\n",
       "</div>"
      ],
      "text/plain": [
       "     user_id  leaf_id  merged_std  merged_mean  merged_median  merged_mode  \\\n",
       "49     14654    15709    0.000000    10.500000           10.5         10.5   \n",
       "59     19942    15709    0.000000    11.500000           11.5         11.5   \n",
       "117    37770    15709    0.000000    12.000000           12.0         12.0   \n",
       "137    44657    15709    0.894427     8.500000            9.0          9.0   \n",
       "153    48318    15709    0.000000    12.000000           12.0         12.0   \n",
       "173    55491    15709    0.000000     8.500000            8.5          8.5   \n",
       "177    56088    15709    0.000000    11.500000           11.5         11.5   \n",
       "189    61868    15709    0.000000     7.000000            7.0          7.0   \n",
       "202    65395    95672    0.364216    10.785714           11.0         11.0   \n",
       "203    65504    95672    0.000000     8.500000            8.5          8.5   \n",
       "\n",
       "     merged_maxMinDiff  merged_countOfEvidence  label_trx_size  xgb_pred  \\\n",
       "49                 0.0                       1            10.5      10.5   \n",
       "59                 0.0                       1            11.5      11.5   \n",
       "117                0.0                       5            12.0      12.0   \n",
       "137                2.5                       5             9.0       9.0   \n",
       "153                0.0                       1            12.0      12.0   \n",
       "173                0.0                       2             8.5       8.5   \n",
       "177                0.0                       1            11.5      11.5   \n",
       "189                0.0                       2             7.0       7.0   \n",
       "202                1.0                      14            11.0      11.0   \n",
       "203                0.0                       1             8.5       8.5   \n",
       "\n",
       "     prob_predictedClass  \n",
       "49              0.563983  \n",
       "59              0.546292  \n",
       "117             0.781402  \n",
       "137             0.733534  \n",
       "153             0.655168  \n",
       "173             0.740435  \n",
       "177             0.546292  \n",
       "189             0.610004  \n",
       "202             0.421435  \n",
       "203             0.548024  "
      ]
     },
     "execution_count": 141,
     "metadata": {},
     "output_type": "execute_result"
    }
   ],
   "source": [
    "test.loc[(test['xgb_pred']==test['label_trx_size'])][cols].head(10)\n",
    "#correct:"
   ]
  },
  {
   "cell_type": "code",
   "execution_count": 395,
   "id": "d7ac932c-c5e2-4611-b591-71f49280695a",
   "metadata": {},
   "outputs": [
    {
     "data": {
      "text/html": [
       "<div>\n",
       "<style scoped>\n",
       "    .dataframe tbody tr th:only-of-type {\n",
       "        vertical-align: middle;\n",
       "    }\n",
       "\n",
       "    .dataframe tbody tr th {\n",
       "        vertical-align: top;\n",
       "    }\n",
       "\n",
       "    .dataframe thead th {\n",
       "        text-align: right;\n",
       "    }\n",
       "</style>\n",
       "<table border=\"1\" class=\"dataframe\">\n",
       "  <thead>\n",
       "    <tr style=\"text-align: right;\">\n",
       "      <th></th>\n",
       "      <th>user_id</th>\n",
       "      <th>leaf_id</th>\n",
       "      <th>merged_std</th>\n",
       "      <th>merged_mean</th>\n",
       "      <th>merged_median</th>\n",
       "      <th>merged_mode</th>\n",
       "      <th>merged_maxMinDiff</th>\n",
       "      <th>merged_countOfEvidence</th>\n",
       "      <th>label_trx_size</th>\n",
       "      <th>pred_rf</th>\n",
       "      <th>xgb_pred</th>\n",
       "      <th>prob_correct</th>\n",
       "    </tr>\n",
       "  </thead>\n",
       "  <tbody>\n",
       "    <tr>\n",
       "      <th>30</th>\n",
       "      <td>10555</td>\n",
       "      <td>95672</td>\n",
       "      <td>0.000000</td>\n",
       "      <td>10.0000</td>\n",
       "      <td>10.0</td>\n",
       "      <td>10.0</td>\n",
       "      <td>0.0</td>\n",
       "      <td>1</td>\n",
       "      <td>9.5</td>\n",
       "      <td>10.0</td>\n",
       "      <td>10.0</td>\n",
       "      <td>0.591873</td>\n",
       "    </tr>\n",
       "    <tr>\n",
       "      <th>31</th>\n",
       "      <td>10681</td>\n",
       "      <td>95672</td>\n",
       "      <td>0.408248</td>\n",
       "      <td>7.0000</td>\n",
       "      <td>7.0</td>\n",
       "      <td>6.5</td>\n",
       "      <td>1.0</td>\n",
       "      <td>3</td>\n",
       "      <td>8.0</td>\n",
       "      <td>7.0</td>\n",
       "      <td>7.0</td>\n",
       "      <td>0.353640</td>\n",
       "    </tr>\n",
       "    <tr>\n",
       "      <th>79</th>\n",
       "      <td>24200</td>\n",
       "      <td>15709</td>\n",
       "      <td>0.242061</td>\n",
       "      <td>11.1875</td>\n",
       "      <td>11.0</td>\n",
       "      <td>11.0</td>\n",
       "      <td>0.5</td>\n",
       "      <td>16</td>\n",
       "      <td>11.5</td>\n",
       "      <td>11.0</td>\n",
       "      <td>11.0</td>\n",
       "      <td>0.589694</td>\n",
       "    </tr>\n",
       "    <tr>\n",
       "      <th>88</th>\n",
       "      <td>26812</td>\n",
       "      <td>95672</td>\n",
       "      <td>0.000000</td>\n",
       "      <td>9.5000</td>\n",
       "      <td>9.5</td>\n",
       "      <td>9.5</td>\n",
       "      <td>0.0</td>\n",
       "      <td>2</td>\n",
       "      <td>9.0</td>\n",
       "      <td>9.5</td>\n",
       "      <td>9.5</td>\n",
       "      <td>0.701861</td>\n",
       "    </tr>\n",
       "    <tr>\n",
       "      <th>149</th>\n",
       "      <td>47703</td>\n",
       "      <td>15709</td>\n",
       "      <td>0.000000</td>\n",
       "      <td>8.0000</td>\n",
       "      <td>8.0</td>\n",
       "      <td>8.0</td>\n",
       "      <td>0.0</td>\n",
       "      <td>7</td>\n",
       "      <td>12.0</td>\n",
       "      <td>8.0</td>\n",
       "      <td>8.0</td>\n",
       "      <td>0.815293</td>\n",
       "    </tr>\n",
       "    <tr>\n",
       "      <th>171</th>\n",
       "      <td>55036</td>\n",
       "      <td>15709</td>\n",
       "      <td>0.000000</td>\n",
       "      <td>11.0000</td>\n",
       "      <td>11.0</td>\n",
       "      <td>11.0</td>\n",
       "      <td>0.0</td>\n",
       "      <td>1</td>\n",
       "      <td>10.0</td>\n",
       "      <td>11.0</td>\n",
       "      <td>11.0</td>\n",
       "      <td>0.598851</td>\n",
       "    </tr>\n",
       "    <tr>\n",
       "      <th>208</th>\n",
       "      <td>66938</td>\n",
       "      <td>95672</td>\n",
       "      <td>0.000000</td>\n",
       "      <td>7.5000</td>\n",
       "      <td>7.5</td>\n",
       "      <td>7.5</td>\n",
       "      <td>0.0</td>\n",
       "      <td>2</td>\n",
       "      <td>8.0</td>\n",
       "      <td>7.5</td>\n",
       "      <td>7.5</td>\n",
       "      <td>0.673938</td>\n",
       "    </tr>\n",
       "    <tr>\n",
       "      <th>356</th>\n",
       "      <td>125483</td>\n",
       "      <td>15709</td>\n",
       "      <td>0.000000</td>\n",
       "      <td>11.0000</td>\n",
       "      <td>11.0</td>\n",
       "      <td>11.0</td>\n",
       "      <td>0.0</td>\n",
       "      <td>1</td>\n",
       "      <td>10.5</td>\n",
       "      <td>11.0</td>\n",
       "      <td>11.0</td>\n",
       "      <td>0.598851</td>\n",
       "    </tr>\n",
       "    <tr>\n",
       "      <th>394</th>\n",
       "      <td>137405</td>\n",
       "      <td>15709</td>\n",
       "      <td>0.000000</td>\n",
       "      <td>12.5000</td>\n",
       "      <td>12.5</td>\n",
       "      <td>12.5</td>\n",
       "      <td>0.0</td>\n",
       "      <td>1</td>\n",
       "      <td>11.5</td>\n",
       "      <td>12.5</td>\n",
       "      <td>12.5</td>\n",
       "      <td>0.397960</td>\n",
       "    </tr>\n",
       "    <tr>\n",
       "      <th>411</th>\n",
       "      <td>150444</td>\n",
       "      <td>15709</td>\n",
       "      <td>1.414214</td>\n",
       "      <td>8.0000</td>\n",
       "      <td>7.0</td>\n",
       "      <td>7.0</td>\n",
       "      <td>3.0</td>\n",
       "      <td>3</td>\n",
       "      <td>10.5</td>\n",
       "      <td>7.0</td>\n",
       "      <td>7.0</td>\n",
       "      <td>0.286621</td>\n",
       "    </tr>\n",
       "  </tbody>\n",
       "</table>\n",
       "</div>"
      ],
      "text/plain": [
       "    user_id leaf_id  merged_std  merged_mean  merged_median  merged_mode  \\\n",
       "30    10555   95672    0.000000      10.0000           10.0         10.0   \n",
       "31    10681   95672    0.408248       7.0000            7.0          6.5   \n",
       "79    24200   15709    0.242061      11.1875           11.0         11.0   \n",
       "88    26812   95672    0.000000       9.5000            9.5          9.5   \n",
       "149   47703   15709    0.000000       8.0000            8.0          8.0   \n",
       "171   55036   15709    0.000000      11.0000           11.0         11.0   \n",
       "208   66938   95672    0.000000       7.5000            7.5          7.5   \n",
       "356  125483   15709    0.000000      11.0000           11.0         11.0   \n",
       "394  137405   15709    0.000000      12.5000           12.5         12.5   \n",
       "411  150444   15709    1.414214       8.0000            7.0          7.0   \n",
       "\n",
       "     merged_maxMinDiff  merged_countOfEvidence  label_trx_size pred_rf  \\\n",
       "30                 0.0                       1             9.5    10.0   \n",
       "31                 1.0                       3             8.0     7.0   \n",
       "79                 0.5                      16            11.5    11.0   \n",
       "88                 0.0                       2             9.0     9.5   \n",
       "149                0.0                       7            12.0     8.0   \n",
       "171                0.0                       1            10.0    11.0   \n",
       "208                0.0                       2             8.0     7.5   \n",
       "356                0.0                       1            10.5    11.0   \n",
       "394                0.0                       1            11.5    12.5   \n",
       "411                3.0                       3            10.5     7.0   \n",
       "\n",
       "     xgb_pred  prob_correct  \n",
       "30       10.0      0.591873  \n",
       "31        7.0      0.353640  \n",
       "79       11.0      0.589694  \n",
       "88        9.5      0.701861  \n",
       "149       8.0      0.815293  \n",
       "171      11.0      0.598851  \n",
       "208       7.5      0.673938  \n",
       "356      11.0      0.598851  \n",
       "394      12.5      0.397960  \n",
       "411       7.0      0.286621  "
      ]
     },
     "execution_count": 395,
     "metadata": {},
     "output_type": "execute_result"
    }
   ],
   "source": [
    "test.loc[ (test['xgb_pred']!=test['label_trx_size'])][cols].head(10)"
   ]
  },
  {
   "cell_type": "code",
   "execution_count": 229,
   "id": "dda98c6f-bfe6-4240-8ee2-e945b0ff5cd5",
   "metadata": {},
   "outputs": [
    {
     "data": {
      "text/html": [
       "<div>\n",
       "<style scoped>\n",
       "    .dataframe tbody tr th:only-of-type {\n",
       "        vertical-align: middle;\n",
       "    }\n",
       "\n",
       "    .dataframe tbody tr th {\n",
       "        vertical-align: top;\n",
       "    }\n",
       "\n",
       "    .dataframe thead th {\n",
       "        text-align: right;\n",
       "    }\n",
       "</style>\n",
       "<table border=\"1\" class=\"dataframe\">\n",
       "  <thead>\n",
       "    <tr style=\"text-align: right;\">\n",
       "      <th></th>\n",
       "      <th>user_id</th>\n",
       "      <th>leaf_id</th>\n",
       "      <th>merged_std</th>\n",
       "      <th>merged_mean</th>\n",
       "      <th>merged_median</th>\n",
       "      <th>merged_mode</th>\n",
       "      <th>merged_maxMinDiff</th>\n",
       "      <th>merged_countOfEvidence</th>\n",
       "      <th>label_trx_size</th>\n",
       "      <th>pred_rf</th>\n",
       "      <th>xgb_pred</th>\n",
       "      <th>prob_correct</th>\n",
       "    </tr>\n",
       "  </thead>\n",
       "  <tbody>\n",
       "    <tr>\n",
       "      <th>1521</th>\n",
       "      <td>487861</td>\n",
       "      <td>15709</td>\n",
       "      <td>2.524103</td>\n",
       "      <td>10.812500</td>\n",
       "      <td>10.75</td>\n",
       "      <td>9.5</td>\n",
       "      <td>9.5</td>\n",
       "      <td>8</td>\n",
       "      <td>6.0</td>\n",
       "      <td>11.0</td>\n",
       "      <td>9.5</td>\n",
       "      <td>0.135565</td>\n",
       "    </tr>\n",
       "    <tr>\n",
       "      <th>2271</th>\n",
       "      <td>718368</td>\n",
       "      <td>15709</td>\n",
       "      <td>0.748331</td>\n",
       "      <td>8.200000</td>\n",
       "      <td>8.00</td>\n",
       "      <td>7.5</td>\n",
       "      <td>2.0</td>\n",
       "      <td>5</td>\n",
       "      <td>8.5</td>\n",
       "      <td>8.0</td>\n",
       "      <td>7.5</td>\n",
       "      <td>0.218444</td>\n",
       "    </tr>\n",
       "    <tr>\n",
       "      <th>2340</th>\n",
       "      <td>739681</td>\n",
       "      <td>15709</td>\n",
       "      <td>3.294331</td>\n",
       "      <td>8.636364</td>\n",
       "      <td>6.50</td>\n",
       "      <td>12.0</td>\n",
       "      <td>7.5</td>\n",
       "      <td>33</td>\n",
       "      <td>12.0</td>\n",
       "      <td>12.0</td>\n",
       "      <td>13.0</td>\n",
       "      <td>0.145003</td>\n",
       "    </tr>\n",
       "    <tr>\n",
       "      <th>2426</th>\n",
       "      <td>761063</td>\n",
       "      <td>95672</td>\n",
       "      <td>0.606676</td>\n",
       "      <td>9.583333</td>\n",
       "      <td>9.50</td>\n",
       "      <td>9.0</td>\n",
       "      <td>1.5</td>\n",
       "      <td>6</td>\n",
       "      <td>10.5</td>\n",
       "      <td>9.0</td>\n",
       "      <td>10.0</td>\n",
       "      <td>0.247765</td>\n",
       "    </tr>\n",
       "    <tr>\n",
       "      <th>2597</th>\n",
       "      <td>803273</td>\n",
       "      <td>95672</td>\n",
       "      <td>3.250000</td>\n",
       "      <td>8.250000</td>\n",
       "      <td>8.25</td>\n",
       "      <td>5.0</td>\n",
       "      <td>6.5</td>\n",
       "      <td>2</td>\n",
       "      <td>10.0</td>\n",
       "      <td>11.5</td>\n",
       "      <td>11.0</td>\n",
       "      <td>0.170962</td>\n",
       "    </tr>\n",
       "    <tr>\n",
       "      <th>3725</th>\n",
       "      <td>1146720</td>\n",
       "      <td>15709</td>\n",
       "      <td>0.500000</td>\n",
       "      <td>11.000000</td>\n",
       "      <td>11.00</td>\n",
       "      <td>10.5</td>\n",
       "      <td>1.0</td>\n",
       "      <td>2</td>\n",
       "      <td>10.5</td>\n",
       "      <td>10.5</td>\n",
       "      <td>11.0</td>\n",
       "      <td>0.273905</td>\n",
       "    </tr>\n",
       "    <tr>\n",
       "      <th>4508</th>\n",
       "      <td>1373904</td>\n",
       "      <td>95672</td>\n",
       "      <td>2.132340</td>\n",
       "      <td>9.875000</td>\n",
       "      <td>9.75</td>\n",
       "      <td>7.0</td>\n",
       "      <td>6.0</td>\n",
       "      <td>4</td>\n",
       "      <td>9.0</td>\n",
       "      <td>12.0</td>\n",
       "      <td>7.0</td>\n",
       "      <td>0.124605</td>\n",
       "    </tr>\n",
       "    <tr>\n",
       "      <th>5428</th>\n",
       "      <td>1637809</td>\n",
       "      <td>15709</td>\n",
       "      <td>0.500000</td>\n",
       "      <td>11.000000</td>\n",
       "      <td>11.00</td>\n",
       "      <td>10.5</td>\n",
       "      <td>1.0</td>\n",
       "      <td>2</td>\n",
       "      <td>10.5</td>\n",
       "      <td>10.5</td>\n",
       "      <td>11.0</td>\n",
       "      <td>0.273905</td>\n",
       "    </tr>\n",
       "    <tr>\n",
       "      <th>8005</th>\n",
       "      <td>2444391</td>\n",
       "      <td>15709</td>\n",
       "      <td>0.500000</td>\n",
       "      <td>10.000000</td>\n",
       "      <td>10.00</td>\n",
       "      <td>9.5</td>\n",
       "      <td>1.0</td>\n",
       "      <td>2</td>\n",
       "      <td>9.5</td>\n",
       "      <td>10.5</td>\n",
       "      <td>10.0</td>\n",
       "      <td>0.222973</td>\n",
       "    </tr>\n",
       "    <tr>\n",
       "      <th>8941</th>\n",
       "      <td>2746449</td>\n",
       "      <td>15709</td>\n",
       "      <td>1.870829</td>\n",
       "      <td>9.500000</td>\n",
       "      <td>8.50</td>\n",
       "      <td>7.5</td>\n",
       "      <td>4.5</td>\n",
       "      <td>5</td>\n",
       "      <td>7.0</td>\n",
       "      <td>8.0</td>\n",
       "      <td>7.5</td>\n",
       "      <td>0.132060</td>\n",
       "    </tr>\n",
       "  </tbody>\n",
       "</table>\n",
       "</div>"
      ],
      "text/plain": [
       "      user_id leaf_id  merged_std  merged_mean  merged_median  merged_mode  \\\n",
       "1521   487861   15709    2.524103    10.812500          10.75          9.5   \n",
       "2271   718368   15709    0.748331     8.200000           8.00          7.5   \n",
       "2340   739681   15709    3.294331     8.636364           6.50         12.0   \n",
       "2426   761063   95672    0.606676     9.583333           9.50          9.0   \n",
       "2597   803273   95672    3.250000     8.250000           8.25          5.0   \n",
       "3725  1146720   15709    0.500000    11.000000          11.00         10.5   \n",
       "4508  1373904   95672    2.132340     9.875000           9.75          7.0   \n",
       "5428  1637809   15709    0.500000    11.000000          11.00         10.5   \n",
       "8005  2444391   15709    0.500000    10.000000          10.00          9.5   \n",
       "8941  2746449   15709    1.870829     9.500000           8.50          7.5   \n",
       "\n",
       "      merged_maxMinDiff  merged_countOfEvidence  label_trx_size pred_rf  \\\n",
       "1521                9.5                       8             6.0    11.0   \n",
       "2271                2.0                       5             8.5     8.0   \n",
       "2340                7.5                      33            12.0    12.0   \n",
       "2426                1.5                       6            10.5     9.0   \n",
       "2597                6.5                       2            10.0    11.5   \n",
       "3725                1.0                       2            10.5    10.5   \n",
       "4508                6.0                       4             9.0    12.0   \n",
       "5428                1.0                       2            10.5    10.5   \n",
       "8005                1.0                       2             9.5    10.5   \n",
       "8941                4.5                       5             7.0     8.0   \n",
       "\n",
       "      xgb_pred  prob_correct  \n",
       "1521       9.5      0.135565  \n",
       "2271       7.5      0.218444  \n",
       "2340      13.0      0.145003  \n",
       "2426      10.0      0.247765  \n",
       "2597      11.0      0.170962  \n",
       "3725      11.0      0.273905  \n",
       "4508       7.0      0.124605  \n",
       "5428      11.0      0.273905  \n",
       "8005      10.0      0.222973  \n",
       "8941       7.5      0.132060  "
      ]
     },
     "execution_count": 229,
     "metadata": {},
     "output_type": "execute_result"
    }
   ],
   "source": [
    "test.loc[(test['xgb_pred'].astype(float)!=test['pred_rf'].astype(float))& \\\n",
    "         (test['xgb_pred'].astype(float)!=test['label_trx_size'].astype(float))][cols].head(10)"
   ]
  },
  {
   "cell_type": "code",
   "execution_count": 474,
   "id": "35258cc9-460a-4d6f-b7b7-e23865bd07fe",
   "metadata": {},
   "outputs": [
    {
     "data": {
      "text/plain": [
       "(2862, 14)"
      ]
     },
     "execution_count": 474,
     "metadata": {},
     "output_type": "execute_result"
    }
   ],
   "source": [
    "test.loc[~(test['xgb_pred'].astype(float)==test['pred_rf'].astype(float))].shape"
   ]
  },
  {
   "cell_type": "code",
   "execution_count": 478,
   "id": "e3d8f3ee-9733-448b-a1cb-c8e58a8897c1",
   "metadata": {},
   "outputs": [],
   "source": [
    "test.to_pickle(\"test_xgb_rf_multi.pkl\")"
   ]
  },
  {
   "cell_type": "code",
   "execution_count": 484,
   "id": "3522d6c9-a5e1-496a-9987-0944dce2750b",
   "metadata": {},
   "outputs": [
    {
     "data": {
      "text/html": [
       "<div>\n",
       "<style scoped>\n",
       "    .dataframe tbody tr th:only-of-type {\n",
       "        vertical-align: middle;\n",
       "    }\n",
       "\n",
       "    .dataframe tbody tr th {\n",
       "        vertical-align: top;\n",
       "    }\n",
       "\n",
       "    .dataframe thead th {\n",
       "        text-align: right;\n",
       "    }\n",
       "</style>\n",
       "<table border=\"1\" class=\"dataframe\">\n",
       "  <thead>\n",
       "    <tr style=\"text-align: right;\">\n",
       "      <th></th>\n",
       "      <th>user_id</th>\n",
       "      <th>leaf_id</th>\n",
       "      <th>merged_std</th>\n",
       "      <th>merged_mean</th>\n",
       "      <th>merged_median</th>\n",
       "      <th>merged_mode</th>\n",
       "      <th>merged_maxMinDiff</th>\n",
       "      <th>merged_countOfEvidence</th>\n",
       "      <th>label_trx_size</th>\n",
       "      <th>pred</th>\n",
       "      <th>pred_mode</th>\n",
       "      <th>pred_rf</th>\n",
       "      <th>y_pred_xgb_reg</th>\n",
       "      <th>xgb_class_int</th>\n",
       "    </tr>\n",
       "  </thead>\n",
       "  <tbody>\n",
       "    <tr>\n",
       "      <th>8</th>\n",
       "      <td>2741</td>\n",
       "      <td>95672</td>\n",
       "      <td>0.000000</td>\n",
       "      <td>8.500000</td>\n",
       "      <td>8.5</td>\n",
       "      <td>8.5</td>\n",
       "      <td>0.0</td>\n",
       "      <td>2</td>\n",
       "      <td>8.5</td>\n",
       "      <td>9.0</td>\n",
       "      <td>9.0</td>\n",
       "      <td>8.5</td>\n",
       "      <td>8.559411</td>\n",
       "      <td>8.5</td>\n",
       "    </tr>\n",
       "    <tr>\n",
       "      <th>40</th>\n",
       "      <td>11010</td>\n",
       "      <td>15709</td>\n",
       "      <td>0.000000</td>\n",
       "      <td>14.000000</td>\n",
       "      <td>14.0</td>\n",
       "      <td>14.0</td>\n",
       "      <td>0.0</td>\n",
       "      <td>4</td>\n",
       "      <td>14.0</td>\n",
       "      <td>14.0</td>\n",
       "      <td>14.0</td>\n",
       "      <td>14.0</td>\n",
       "      <td>13.704306</td>\n",
       "      <td>14.0</td>\n",
       "    </tr>\n",
       "    <tr>\n",
       "      <th>55</th>\n",
       "      <td>14355</td>\n",
       "      <td>15709</td>\n",
       "      <td>0.000000</td>\n",
       "      <td>10.500000</td>\n",
       "      <td>10.5</td>\n",
       "      <td>10.5</td>\n",
       "      <td>0.0</td>\n",
       "      <td>3</td>\n",
       "      <td>10.5</td>\n",
       "      <td>11.0</td>\n",
       "      <td>11.0</td>\n",
       "      <td>10.5</td>\n",
       "      <td>10.414667</td>\n",
       "      <td>10.5</td>\n",
       "    </tr>\n",
       "    <tr>\n",
       "      <th>56</th>\n",
       "      <td>14468</td>\n",
       "      <td>95672</td>\n",
       "      <td>0.276385</td>\n",
       "      <td>7.583333</td>\n",
       "      <td>7.5</td>\n",
       "      <td>7.5</td>\n",
       "      <td>1.0</td>\n",
       "      <td>12</td>\n",
       "      <td>7.5</td>\n",
       "      <td>8.0</td>\n",
       "      <td>8.0</td>\n",
       "      <td>7.5</td>\n",
       "      <td>7.627636</td>\n",
       "      <td>7.5</td>\n",
       "    </tr>\n",
       "    <tr>\n",
       "      <th>65</th>\n",
       "      <td>19016</td>\n",
       "      <td>15709</td>\n",
       "      <td>0.000000</td>\n",
       "      <td>10.000000</td>\n",
       "      <td>10.0</td>\n",
       "      <td>10.0</td>\n",
       "      <td>0.0</td>\n",
       "      <td>16</td>\n",
       "      <td>10.0</td>\n",
       "      <td>10.0</td>\n",
       "      <td>10.0</td>\n",
       "      <td>10.0</td>\n",
       "      <td>9.953179</td>\n",
       "      <td>10.0</td>\n",
       "    </tr>\n",
       "    <tr>\n",
       "      <th>76</th>\n",
       "      <td>22439</td>\n",
       "      <td>15709</td>\n",
       "      <td>0.000000</td>\n",
       "      <td>10.000000</td>\n",
       "      <td>10.0</td>\n",
       "      <td>10.0</td>\n",
       "      <td>0.0</td>\n",
       "      <td>6</td>\n",
       "      <td>10.0</td>\n",
       "      <td>10.0</td>\n",
       "      <td>10.0</td>\n",
       "      <td>10.0</td>\n",
       "      <td>9.950782</td>\n",
       "      <td>10.0</td>\n",
       "    </tr>\n",
       "    <tr>\n",
       "      <th>84</th>\n",
       "      <td>23437</td>\n",
       "      <td>15709</td>\n",
       "      <td>0.000000</td>\n",
       "      <td>9.500000</td>\n",
       "      <td>9.5</td>\n",
       "      <td>9.5</td>\n",
       "      <td>0.0</td>\n",
       "      <td>2</td>\n",
       "      <td>9.5</td>\n",
       "      <td>10.0</td>\n",
       "      <td>10.0</td>\n",
       "      <td>9.5</td>\n",
       "      <td>9.489910</td>\n",
       "      <td>9.5</td>\n",
       "    </tr>\n",
       "    <tr>\n",
       "      <th>91</th>\n",
       "      <td>24595</td>\n",
       "      <td>95672</td>\n",
       "      <td>0.000000</td>\n",
       "      <td>10.000000</td>\n",
       "      <td>10.0</td>\n",
       "      <td>10.0</td>\n",
       "      <td>0.0</td>\n",
       "      <td>1</td>\n",
       "      <td>10.0</td>\n",
       "      <td>10.0</td>\n",
       "      <td>10.0</td>\n",
       "      <td>10.0</td>\n",
       "      <td>9.932903</td>\n",
       "      <td>10.0</td>\n",
       "    </tr>\n",
       "    <tr>\n",
       "      <th>109</th>\n",
       "      <td>29259</td>\n",
       "      <td>15709</td>\n",
       "      <td>0.000000</td>\n",
       "      <td>12.000000</td>\n",
       "      <td>12.0</td>\n",
       "      <td>12.0</td>\n",
       "      <td>0.0</td>\n",
       "      <td>1</td>\n",
       "      <td>12.0</td>\n",
       "      <td>12.0</td>\n",
       "      <td>12.0</td>\n",
       "      <td>12.0</td>\n",
       "      <td>11.685490</td>\n",
       "      <td>12.0</td>\n",
       "    </tr>\n",
       "    <tr>\n",
       "      <th>124</th>\n",
       "      <td>34305</td>\n",
       "      <td>15709</td>\n",
       "      <td>0.000000</td>\n",
       "      <td>10.000000</td>\n",
       "      <td>10.0</td>\n",
       "      <td>10.0</td>\n",
       "      <td>0.0</td>\n",
       "      <td>1</td>\n",
       "      <td>10.0</td>\n",
       "      <td>10.0</td>\n",
       "      <td>10.0</td>\n",
       "      <td>10.0</td>\n",
       "      <td>9.932903</td>\n",
       "      <td>10.0</td>\n",
       "    </tr>\n",
       "    <tr>\n",
       "      <th>133</th>\n",
       "      <td>37770</td>\n",
       "      <td>15709</td>\n",
       "      <td>0.000000</td>\n",
       "      <td>12.000000</td>\n",
       "      <td>12.0</td>\n",
       "      <td>12.0</td>\n",
       "      <td>0.0</td>\n",
       "      <td>16</td>\n",
       "      <td>12.0</td>\n",
       "      <td>12.0</td>\n",
       "      <td>12.0</td>\n",
       "      <td>12.0</td>\n",
       "      <td>11.841213</td>\n",
       "      <td>12.0</td>\n",
       "    </tr>\n",
       "    <tr>\n",
       "      <th>138</th>\n",
       "      <td>38881</td>\n",
       "      <td>95672</td>\n",
       "      <td>0.000000</td>\n",
       "      <td>6.000000</td>\n",
       "      <td>6.0</td>\n",
       "      <td>6.0</td>\n",
       "      <td>0.0</td>\n",
       "      <td>6</td>\n",
       "      <td>6.0</td>\n",
       "      <td>6.0</td>\n",
       "      <td>6.0</td>\n",
       "      <td>6.0</td>\n",
       "      <td>6.383046</td>\n",
       "      <td>6.0</td>\n",
       "    </tr>\n",
       "    <tr>\n",
       "      <th>146</th>\n",
       "      <td>40664</td>\n",
       "      <td>95672</td>\n",
       "      <td>0.000000</td>\n",
       "      <td>10.000000</td>\n",
       "      <td>10.0</td>\n",
       "      <td>10.0</td>\n",
       "      <td>0.0</td>\n",
       "      <td>1</td>\n",
       "      <td>10.0</td>\n",
       "      <td>10.0</td>\n",
       "      <td>10.0</td>\n",
       "      <td>10.0</td>\n",
       "      <td>9.932903</td>\n",
       "      <td>10.0</td>\n",
       "    </tr>\n",
       "    <tr>\n",
       "      <th>160</th>\n",
       "      <td>44141</td>\n",
       "      <td>15709</td>\n",
       "      <td>0.000000</td>\n",
       "      <td>13.000000</td>\n",
       "      <td>13.0</td>\n",
       "      <td>13.0</td>\n",
       "      <td>0.0</td>\n",
       "      <td>2</td>\n",
       "      <td>13.0</td>\n",
       "      <td>13.0</td>\n",
       "      <td>13.0</td>\n",
       "      <td>13.0</td>\n",
       "      <td>12.701634</td>\n",
       "      <td>13.0</td>\n",
       "    </tr>\n",
       "    <tr>\n",
       "      <th>167</th>\n",
       "      <td>44971</td>\n",
       "      <td>15709</td>\n",
       "      <td>0.000000</td>\n",
       "      <td>9.500000</td>\n",
       "      <td>9.5</td>\n",
       "      <td>9.5</td>\n",
       "      <td>0.0</td>\n",
       "      <td>5</td>\n",
       "      <td>10.5</td>\n",
       "      <td>9.0</td>\n",
       "      <td>10.0</td>\n",
       "      <td>9.5</td>\n",
       "      <td>9.487552</td>\n",
       "      <td>9.5</td>\n",
       "    </tr>\n",
       "  </tbody>\n",
       "</table>\n",
       "</div>"
      ],
      "text/plain": [
       "    user_id leaf_id  merged_std  merged_mean  merged_median  merged_mode  \\\n",
       "8      2741   95672    0.000000     8.500000            8.5          8.5   \n",
       "40    11010   15709    0.000000    14.000000           14.0         14.0   \n",
       "55    14355   15709    0.000000    10.500000           10.5         10.5   \n",
       "56    14468   95672    0.276385     7.583333            7.5          7.5   \n",
       "65    19016   15709    0.000000    10.000000           10.0         10.0   \n",
       "76    22439   15709    0.000000    10.000000           10.0         10.0   \n",
       "84    23437   15709    0.000000     9.500000            9.5          9.5   \n",
       "91    24595   95672    0.000000    10.000000           10.0         10.0   \n",
       "109   29259   15709    0.000000    12.000000           12.0         12.0   \n",
       "124   34305   15709    0.000000    10.000000           10.0         10.0   \n",
       "133   37770   15709    0.000000    12.000000           12.0         12.0   \n",
       "138   38881   95672    0.000000     6.000000            6.0          6.0   \n",
       "146   40664   95672    0.000000    10.000000           10.0         10.0   \n",
       "160   44141   15709    0.000000    13.000000           13.0         13.0   \n",
       "167   44971   15709    0.000000     9.500000            9.5          9.5   \n",
       "\n",
       "     merged_maxMinDiff  merged_countOfEvidence  label_trx_size  pred  \\\n",
       "8                  0.0                       2             8.5   9.0   \n",
       "40                 0.0                       4            14.0  14.0   \n",
       "55                 0.0                       3            10.5  11.0   \n",
       "56                 1.0                      12             7.5   8.0   \n",
       "65                 0.0                      16            10.0  10.0   \n",
       "76                 0.0                       6            10.0  10.0   \n",
       "84                 0.0                       2             9.5  10.0   \n",
       "91                 0.0                       1            10.0  10.0   \n",
       "109                0.0                       1            12.0  12.0   \n",
       "124                0.0                       1            10.0  10.0   \n",
       "133                0.0                      16            12.0  12.0   \n",
       "138                0.0                       6             6.0   6.0   \n",
       "146                0.0                       1            10.0  10.0   \n",
       "160                0.0                       2            13.0  13.0   \n",
       "167                0.0                       5            10.5   9.0   \n",
       "\n",
       "     pred_mode pred_rf  y_pred_xgb_reg  xgb_class_int  \n",
       "8          9.0     8.5        8.559411            8.5  \n",
       "40        14.0    14.0       13.704306           14.0  \n",
       "55        11.0    10.5       10.414667           10.5  \n",
       "56         8.0     7.5        7.627636            7.5  \n",
       "65        10.0    10.0        9.953179           10.0  \n",
       "76        10.0    10.0        9.950782           10.0  \n",
       "84        10.0     9.5        9.489910            9.5  \n",
       "91        10.0    10.0        9.932903           10.0  \n",
       "109       12.0    12.0       11.685490           12.0  \n",
       "124       10.0    10.0        9.932903           10.0  \n",
       "133       12.0    12.0       11.841213           12.0  \n",
       "138        6.0     6.0        6.383046            6.0  \n",
       "146       10.0    10.0        9.932903           10.0  \n",
       "160       13.0    13.0       12.701634           13.0  \n",
       "167       10.0     9.5        9.487552            9.5  "
      ]
     },
     "execution_count": 484,
     "metadata": {},
     "output_type": "execute_result"
    }
   ],
   "source": [
    "test.head(15)"
   ]
  },
  {
   "cell_type": "code",
   "execution_count": null,
   "id": "af6bc7ee-4188-4d93-9e64-12647a0e5a54",
   "metadata": {},
   "outputs": [],
   "source": []
  }
 ],
 "metadata": {
  "kernelspec": {
   "display_name": "Python 3 (ipykernel)",
   "language": "python",
   "name": "python3"
  },
  "language_info": {
   "codemirror_mode": {
    "name": "ipython",
    "version": 3
   },
   "file_extension": ".py",
   "mimetype": "text/x-python",
   "name": "python",
   "nbconvert_exporter": "python",
   "pygments_lexer": "ipython3",
   "version": "3.7.10"
  }
 },
 "nbformat": 4,
 "nbformat_minor": 5
}
